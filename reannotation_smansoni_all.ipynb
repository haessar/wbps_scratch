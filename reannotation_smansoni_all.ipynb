{
 "cells": [
  {
   "cell_type": "code",
   "execution_count": 40,
   "metadata": {},
   "outputs": [
    {
     "name": "stdout",
     "output_type": "stream",
     "text": [
      "loading /home/will/wbp_scratch/data/from_MARS/OrthoFinder/WorkingDirectory/Results_Aug05/Blast0_1.txt...\n",
      "loading /home/will/wbp_scratch/data/from_MARS/OrthoFinder/WorkingDirectory/Results_Aug05/Blast0_2.txt...\n",
      "loading /home/will/wbp_scratch/data/from_MARS/OrthoFinder/WorkingDirectory/Results_Aug05/Blast0_3.txt...\n",
      "loading /home/will/wbp_scratch/data/from_MARS/OrthoFinder/WorkingDirectory/Results_Aug05/Blast0_2.txt...\n",
      "loading /home/will/wbp_scratch/data/from_MARS/OrthoFinder/WorkingDirectory/Results_Aug05/Blast0_3.txt...\n",
      "loading /home/will/wbp_scratch/data/from_MARS/OrthoFinder/WorkingDirectory/Results_Aug05/Blast0_1.txt...\n"
     ]
    }
   ],
   "source": [
    "import os.path\n",
    "from collections import defaultdict\n",
    "import contextlib\n",
    "import json\n",
    "import statistics\n",
    "from collections import Counter\n",
    "from operator import itemgetter\n",
    "\n",
    "import matplotlib\n",
    "from matplotlib import pyplot as plt\n",
    "import numpy as np\n",
    "from tqdm import tqdm\n",
    "\n",
    "from orthologue_analysis.orthogroups import init_orthogroup_df\n",
    "from orthologue_analysis.species import MansoniCladeFromTool, SpeciesList\n",
    "from orthologue_analysis.utils import SequenceIDMapping, orthofinder_paths\n",
    "from reannotation.analysis import (\n",
    "    interpro_accessions_frequently_missed_by_all_tools,\n",
    "    interpro_accessions_frequently_missed_by_each_tool,\n",
    "    interpro_accessions_in_novel_transcripts,\n",
    "    interpro_accessions_in_missed_transcripts,\n",
    "    missed_transcripts_with_significantly_more_frequent_accessions\n",
    ")\n",
    "from reannotation.constants import ASPARTIC_PEPTIDASE_SUPERFAMILY\n",
    "from reannotation.pipelines import (\n",
    "    interpro_accession_pipeline_all_tools,\n",
    "    interpro_accession_pipeline,\n",
    "    suspicious_orthologue_pipeline,\n",
    "    novel_orthologue_pipeline\n",
    ")\n",
    "from reannotation.statistics import fisher_exact_for_two_lists_of_accessions, count_transcripts_with_accession\n",
    "from reannotation.utils import extract_accessions_from_transcript\n",
    "from utils.esm import extract_esm_means\n",
    "from utils.generic import flatten_nested_dict, flatten_list_to_set\n",
    "from utils.gffutils import init_db\n",
    "\n",
    "matplotlib.use(\"TkAgg\")\n",
    "\n",
    "\n",
    "results_label = \"Results_Aug05\"\n",
    "wbps_ann_path = \"data/from_WBPS/schistosoma_mansoni.PRJEA36577.WBPS19.annotations.gff3\"\n",
    "braker_path = \"data/from_MARS/Schistosoma_mansoni_braker3_full.gff3\"\n",
    "helixer_path = \"data/from_MARS/Schistosoma_mansoni_helixer_full.gff3\"\n",
    "anno_path = \"data/from_EBI/schistosoma_mansoni_gca000000000v1.gff3\"\n",
    "db = init_db(wbps_ann_path, \"db/Sman_wbps.db\")\n",
    "of = orthofinder_paths(results_label, subdir=\"Orthogroups\")\n",
    "\n",
    "wbps_col = \"Sman_LT\"\n",
    "braker_col = \"Sman_braker3_LT\"\n",
    "helixer_col = \"Sman_helixer_LT\"\n",
    "anno_col = \"Sman_anno_LT\"\n",
    "\n",
    "og_df = init_orthogroup_df(of[\"orthogroups\"])\n",
    "no_og_df = init_orthogroup_df(of[\"orthogroups_unassigned_genes\"])\n",
    "seq_id_map = SequenceIDMapping(of[\"wd\"])\n",
    "mars_data_dir = os.path.join(\"data\", \"from_MARS\", \"\")\n",
    "ebi_data_dir = os.path.join(\"data\", \"from_EBI\", \"\")\n",
    "\n",
    "species_list = SpeciesList([\n",
    "    MansoniCladeFromTool(\"mansoni\", data_dir=mars_data_dir, data_label=\"Sman_LT\", prot_filename_suffix=\".fa\"),\n",
    "    MansoniCladeFromTool(\"mansoni_braker3_reann\", data_dir=mars_data_dir, data_label=\"Sman_braker3_LT\", prot_filename_suffix=\".fa\"),\n",
    "    MansoniCladeFromTool(\"mansoni_helixer_reann\", data_dir=mars_data_dir, data_label=\"Sman_helixer_LT\", prot_filename_suffix=\".fa\"),\n",
    "    MansoniCladeFromTool(\"mansoni_anno_reann\", data_dir=ebi_data_dir, data_label=\"Sman_anno_LT\", prot_filename_suffix=\".fa\")],\n",
    "    wd_path=of[\"wd\"],\n",
    "    load_blast=True\n",
    ")\n",
    "\n",
    "wbps_species = species_list.get_species_with_data_label(wbps_col)\n",
    "braker_species = species_list.get_species_with_data_label(braker_col)\n",
    "helixer_species = species_list.get_species_with_data_label(helixer_col)\n",
    "anno_species = species_list.get_species_with_data_label(anno_col)\n",
    "\n",
    "with open(\"data/acc_product.json\", \"r\") as f:\n",
    "    acc_product = json.loads(f.read())\n",
    "\n",
    "min_freq = 10\n",
    "\n",
    "interproscan_dir = \"data/from_MARS/interproscan/sman\"\n",
    "\n"
   ]
  },
  {
   "cell_type": "markdown",
   "metadata": {},
   "source": [
    "# General Statistics"
   ]
  },
  {
   "cell_type": "code",
   "execution_count": 2,
   "metadata": {},
   "outputs": [],
   "source": [
    "from utils.generic import makedirs\n",
    "plot_dir = \"plots/reannotation/\"\n",
    "makedirs(plot_dir)"
   ]
  },
  {
   "cell_type": "code",
   "execution_count": 3,
   "metadata": {},
   "outputs": [
    {
     "name": "stdout",
     "output_type": "stream",
     "text": [
      "Shared orthologues with WBPS:\n",
      "WBPS: 8651\n",
      "BRAKER3: 8003\n",
      "Helixer: 8029\n",
      "Anno: 8170\n"
     ]
    }
   ],
   "source": [
    "print(\"Shared orthologues with WBPS:\")\n",
    "print(\"WBPS: {}\".format(len(og_df[~og_df[wbps_col].isna()])))\n",
    "print(\"BRAKER3: {}\".format(len(og_df[~og_df[wbps_col].isna() & ~og_df[braker_col].isna()])))\n",
    "print(\"Helixer: {}\".format(len(og_df[~og_df[wbps_col].isna() & ~og_df[helixer_col].isna()])))\n",
    "print(\"Anno: {}\".format(len(og_df[~og_df[wbps_col].isna() & ~og_df[anno_col].isna()])))"
   ]
  },
  {
   "cell_type": "code",
   "execution_count": 4,
   "metadata": {},
   "outputs": [
    {
     "name": "stdout",
     "output_type": "stream",
     "text": [
      "Total transcripts that have an orthologue with WBPS:\n",
      "WBPS: 9427\n",
      "BRAKER3: 8584\n",
      "Helixer: 8737\n",
      "Anno: 10078\n"
     ]
    }
   ],
   "source": [
    "print(\"Total transcripts that have an orthologue with WBPS:\")\n",
    "print(\"WBPS: {}\".format(og_df[~og_df[wbps_col].isna()][wbps_col].str.split(\",\").str.len().sum()))\n",
    "print(\"BRAKER3: {}\".format(og_df[~og_df[wbps_col].isna() & ~og_df[braker_col].isna()][braker_col].str.split(\",\").str.len().sum()))\n",
    "print(\"Helixer: {}\".format(og_df[~og_df[wbps_col].isna() & ~og_df[helixer_col].isna()][helixer_col].str.split(\",\").str.len().sum()))\n",
    "print(\"Anno: {}\".format(og_df[~og_df[wbps_col].isna() & ~og_df[anno_col].isna()][anno_col].str.split(\",\").str.len().sum()))"
   ]
  },
  {
   "cell_type": "code",
   "execution_count": 5,
   "metadata": {},
   "outputs": [
    {
     "name": "stdout",
     "output_type": "stream",
     "text": [
      "Unique orthologues:\n",
      "WBPS only: 17\n",
      "BRAKER only: 19\n",
      "BRAKER + Helixer: 51\n",
      "BRAKER + Helixer + Anno: 56\n",
      "Helixer only: 24\n",
      "Helixer + Anno: 126\n",
      "Anno only: 100\n",
      "Anno + BRAKER: 95\n",
      "Any automated tool only: 471\n"
     ]
    }
   ],
   "source": [
    "print(\"Unique orthologues:\")\n",
    "wbps_na = og_df[wbps_col].isna()\n",
    "braker_na = og_df[braker_col].isna()\n",
    "helixer_na = og_df[helixer_col].isna()\n",
    "anno_na = og_df[anno_col].isna()\n",
    "novel_ogs = og_df[wbps_na & (~braker_na | ~helixer_na | ~anno_na)]\n",
    "print(f\"WBPS only: {len(og_df[~wbps_na & braker_na & helixer_na & anno_na])}\")\n",
    "print(f\"BRAKER only: {len(og_df[wbps_na & ~braker_na & helixer_na & anno_na])}\")\n",
    "print(f\"BRAKER + Helixer: {len(og_df[wbps_na & ~braker_na & ~helixer_na & anno_na])}\")\n",
    "print(f\"BRAKER + Helixer + Anno: {len(og_df[wbps_na & ~braker_na & ~helixer_na & ~anno_na])}\")\n",
    "print(f\"Helixer only: {len(og_df[wbps_na & braker_na & ~helixer_na & anno_na])}\")\n",
    "print(f\"Helixer + Anno: {len(og_df[wbps_na & braker_na & ~helixer_na & ~anno_na])}\")\n",
    "print(f\"Anno only: {len(og_df[wbps_na & braker_na & helixer_na & ~anno_na])}\")\n",
    "print(f\"Anno + BRAKER: {len(og_df[wbps_na & ~braker_na & helixer_na & ~anno_na])}\")\n",
    "print(f\"Any automated tool only: {len(novel_ogs)}\")"
   ]
  },
  {
   "cell_type": "code",
   "execution_count": 6,
   "metadata": {},
   "outputs": [],
   "source": [
    "def count_all_mRNA_exons(label):\n",
    "    count = []\n",
    "    sp = species_list.get_species_with_data_label(label)\n",
    "    for t in sp.db.all_features(featuretype=\"mRNA\"):\n",
    "        count.append(len(list(sp.db.children(t, featuretype=\"exon\"))))\n",
    "    return count\n",
    "\n",
    "\n",
    "exon_count = defaultdict(list)\n",
    "exon_count[\"wbps\"] = count_all_mRNA_exons(wbps_col)\n",
    "exon_count[\"anno\"] = count_all_mRNA_exons(anno_col)\n",
    "exon_count[\"braker\"] = count_all_mRNA_exons(braker_col)\n",
    "exon_count[\"helixer\"] = count_all_mRNA_exons(helixer_col)"
   ]
  },
  {
   "cell_type": "code",
   "execution_count": 7,
   "metadata": {},
   "outputs": [],
   "source": [
    "def count_all_mRNA_amino_acids(label):\n",
    "    count = []\n",
    "    sp = species_list.get_species_with_data_label(label)\n",
    "    for t in sp.db.all_features(featuretype=\"mRNA\"):\n",
    "        cds_exons = list(sp.db.children(t, featuretype=\"CDS\"))\n",
    "        count.append(sp.get_amino_acid_count(cds_exons))\n",
    "    return count\n",
    "\n",
    "protein_lengths = defaultdict(list)\n",
    "protein_lengths[\"wbps\"] = count_all_mRNA_amino_acids(wbps_col)\n",
    "protein_lengths[\"anno\"] = count_all_mRNA_amino_acids(anno_col)\n",
    "protein_lengths[\"braker\"] = count_all_mRNA_amino_acids(braker_col)\n",
    "protein_lengths[\"helixer\"] = count_all_mRNA_amino_acids(helixer_col)"
   ]
  },
  {
   "cell_type": "code",
   "execution_count": 10,
   "metadata": {},
   "outputs": [],
   "source": [
    "def boxplot_axes(idx, label, data, ylim=(0, 25)):\n",
    "    ax = plt.subplot(1, 4, idx)\n",
    "    ax.boxplot(data[label])\n",
    "    if ylim:\n",
    "        ax.set_ylim(top=ylim[1], bottom=ylim[0])\n",
    "    ax.grid(which=\"both\")\n",
    "    ax.set_title(label.upper())\n",
    "    ax.set_xticklabels([])\n",
    "    ax.set_xlabel(round(statistics.mean(data[label]), 2))\n",
    "\n",
    "boxplot_axes(1, \"wbps\", exon_count)\n",
    "boxplot_axes(2, \"anno\", exon_count)\n",
    "boxplot_axes(3, \"braker\", exon_count)\n",
    "boxplot_axes(4, \"helixer\", exon_count)\n",
    "plt.suptitle(\"Exon counts\")\n",
    "plt.text(-1.05, -1.7, 'Means')\n",
    "plt.savefig(os.path.join(plot_dir, \"sman_exon_count_boxplots.png\"))\n",
    "plt.show()"
   ]
  },
  {
   "cell_type": "code",
   "execution_count": 11,
   "metadata": {},
   "outputs": [],
   "source": [
    "boxplot_axes(1, \"wbps\", protein_lengths, ylim=(0, 3000))\n",
    "boxplot_axes(2, \"anno\", protein_lengths, ylim=(0, 3000))\n",
    "boxplot_axes(3, \"braker\", protein_lengths, ylim=(0, 3000))\n",
    "boxplot_axes(4, \"helixer\", protein_lengths, ylim=(0, 3000))\n",
    "plt.suptitle(\"Amino acid counts\")\n",
    "plt.text(-1.05, -1.7, 'Means')\n",
    "plt.savefig(os.path.join(plot_dir, \"sman_prot_length_boxplots.png\"))\n",
    "plt.show()"
   ]
  },
  {
   "cell_type": "code",
   "execution_count": 13,
   "metadata": {},
   "outputs": [],
   "source": [
    "wbps_species = species_list.get_species_with_data_label(wbps_col)\n",
    "anno_species = species_list.get_species_with_data_label(anno_col)\n",
    "braker_species = species_list.get_species_with_data_label(braker_col)\n",
    "helixer_species = species_list.get_species_with_data_label(helixer_col)\n",
    "x1, x2, x3 = [], [], []\n",
    "x1e, x2e, x3e = [], [], []\n",
    "y1, y2, y3 = [], [], []\n",
    "y1e, y2e, y3e = [], [], []\n",
    "for _, row in og_df[~og_df[wbps_col].isna()].iterrows():\n",
    "    wbps_tran = wbps_species.db[\"transcript:\" + list(map(str.strip, row[wbps_col].split(\",\")))[0].split(\"transcript_\")[1]]\n",
    "    wbps_cds_exons = list(wbps_species.db.children(wbps_tran, featuretype=\"CDS\"))\n",
    "    wbps_prot_length = wbps_species.get_amino_acid_count(wbps_cds_exons)\n",
    "    if not row[anno_col] is np.nan:\n",
    "        x1.append(wbps_prot_length)\n",
    "        x1e.append(len(wbps_cds_exons))\n",
    "        anno_tran = anno_species.db[\"transcript:\" + list(map(str.strip, row[anno_col].split(\",\")))[0].split(\"transcript_\")[1]]\n",
    "        cds_exons = list(anno_species.db.children(anno_tran, featuretype=\"CDS\"))\n",
    "        y1.append(anno_species.get_amino_acid_count(cds_exons))\n",
    "        y1e.append(len(cds_exons))\n",
    "    if not row[braker_col] is np.nan:\n",
    "        x2.append(wbps_prot_length)\n",
    "        x2e.append(len(wbps_cds_exons))\n",
    "        braker_tran = braker_species.db[list(map(str.strip, row[braker_col].split(\",\")))[0]]\n",
    "        cds_exons = list(braker_species.db.children(braker_tran, featuretype=\"CDS\"))\n",
    "        y2.append(braker_species.get_amino_acid_count(cds_exons))\n",
    "        y2e.append(len(cds_exons))\n",
    "    if not row[helixer_col] is np.nan:\n",
    "        x3.append(wbps_prot_length)\n",
    "        x3e.append(len(wbps_cds_exons))\n",
    "        helixer_tran = helixer_species.db[list(map(str.strip, row[helixer_col].split(\",\")))[0]]\n",
    "        cds_exons = list(helixer_species.db.children(helixer_tran, featuretype=\"CDS\"))\n",
    "        y3.append(helixer_species.get_amino_acid_count(cds_exons))\n",
    "        y3e.append(len(cds_exons))"
   ]
  },
  {
   "cell_type": "code",
   "execution_count": 14,
   "metadata": {},
   "outputs": [],
   "source": [
    "def scatter_axes(idx, label, x, y, log=True):\n",
    "    ax = plt.subplot(1, 3, idx)\n",
    "    ax.scatter(x, y, linewidths=0.1, marker=\".\")\n",
    "    if log:\n",
    "        ax.set_yscale('log')\n",
    "        ax.set_xscale('log')\n",
    "    ax.set_xlabel(\"WBPS\")\n",
    "    ax.set_ylabel(label, rotation=90)\n",
    "    ax.set_title(f\"r={round(np.corrcoef(x, y)[1, 0], 2)} (\\N{GREEK CAPITAL LETTER SIGMA}={len(x)})\")"
   ]
  },
  {
   "cell_type": "code",
   "execution_count": 15,
   "metadata": {},
   "outputs": [],
   "source": [
    "scatter_axes(1, \"Anno\", x1, y1)\n",
    "scatter_axes(2, \"BRAKER3\", x2, y2)\n",
    "scatter_axes(3, \"Helixer\", x3, y3)\n",
    "plt.suptitle(\"Amino acid count correlations\")\n",
    "plt.tight_layout()\n",
    "plt.savefig(os.path.join(plot_dir, \"sman_prot_length_correlations.png\"))\n",
    "plt.show()"
   ]
  },
  {
   "cell_type": "code",
   "execution_count": 16,
   "metadata": {},
   "outputs": [],
   "source": [
    "scatter_axes(1, \"Anno\", x1e, y1e, log=False)\n",
    "scatter_axes(2, \"BRAKER3\", x2e, y2e, log=False)\n",
    "scatter_axes(3, \"Helixer\", x3e, y3e, log=False)\n",
    "plt.suptitle(\"Exon count correlations\")\n",
    "plt.tight_layout()\n",
    "plt.savefig(os.path.join(plot_dir, \"sman_exon_count_correlations.png\"))\n",
    "plt.show()"
   ]
  },
  {
   "cell_type": "markdown",
   "metadata": {},
   "source": [
    "# Assessing merged/split genes"
   ]
  },
  {
   "cell_type": "code",
   "execution_count": 17,
   "metadata": {},
   "outputs": [
    {
     "name": "stderr",
     "output_type": "stream",
     "text": [
      "100%|██████████| 9122/9122 [00:46<00:00, 195.20it/s] \n",
      "100%|██████████| 9122/9122 [04:02<00:00, 37.68it/s] \n",
      "100%|██████████| 9122/9122 [01:20<00:00, 113.98it/s]\n"
     ]
    }
   ],
   "source": [
    "braker_merged, braker_split = suspicious_orthologue_pipeline(og_df, wbps_col, braker_col, species_list, seq_id_map)\n",
    "anno_merged, anno_split = suspicious_orthologue_pipeline(og_df, wbps_col, anno_col, species_list, seq_id_map)\n",
    "helixer_merged, helixer_split = suspicious_orthologue_pipeline(og_df, wbps_col, helixer_col, species_list, seq_id_map)"
   ]
  },
  {
   "cell_type": "code",
   "execution_count": 20,
   "metadata": {},
   "outputs": [
    {
     "name": "stdout",
     "output_type": "stream",
     "text": [
      "BRAKER3: merged=17, split=10, total=0.48\n",
      "Helixer: merged=161, split=20, total=3.45\n",
      "Anno: merged=204, split=27, total=3.4\n"
     ]
    }
   ],
   "source": [
    "num_genes = len(list(braker_species.db.all_features(featuretype=\"gene\")))\n",
    "print(f\"BRAKER3: merged={len(braker_merged)}, split={len(braker_split)}, total={round(100*(len(braker_split) + len(braker_merged)*2)/num_genes, 2)}\")\n",
    "num_genes = len(list(helixer_species.db.all_features(featuretype=\"gene\")))\n",
    "print(f\"Helixer: merged={len(helixer_merged)}, split={len(helixer_split)}, total={round(100*(len(helixer_split) + len(helixer_merged)*2)/num_genes, 2)}\")\n",
    "num_genes = len(list(anno_species.db.all_features(featuretype=\"gene\")))\n",
    "print(f\"Anno: merged={len(anno_merged)}, split={len(anno_split)}, total={round(100*(len(anno_split) + len(anno_merged)*2)/num_genes, 2)}\")"
   ]
  },
  {
   "cell_type": "markdown",
   "metadata": {},
   "source": [
    "# InterPro accession investigation"
   ]
  },
  {
   "cell_type": "markdown",
   "metadata": {},
   "source": [
    "### BRAKER3"
   ]
  },
  {
   "cell_type": "code",
   "execution_count": 21,
   "metadata": {},
   "outputs": [],
   "source": [
    "acc_tally_shared_braker3, acc_tally_missed_braker3, acc_tally_novel_braker3, missed_transcripts = interpro_accession_pipeline(db, og_df, wbps_col, braker_col, interproscan_dir)\n",
    "_, acc_tally_missed_braker3_unassigned, acc_tally_novel_braker3_unassigned, _ = interpro_accession_pipeline(db, no_og_df, wbps_col, braker_col, os.path.join(interproscan_dir, \"unassigned_genes\"))\n",
    "acc_tally_missed_braker3 += acc_tally_missed_braker3_unassigned\n",
    "acc_tally_novel_braker3 += acc_tally_novel_braker3_unassigned\n",
    "\n",
    "# Find InterPro accessions occurring with significantly different frequency than in control (acc_tally_shared_braker3)\n",
    "braker3_novel_results = fisher_exact_for_two_lists_of_accessions(acc_tally_novel_braker3, acc_tally_shared_braker3 + acc_tally_missed_braker3)\n",
    "braker3_missed_results = fisher_exact_for_two_lists_of_accessions(acc_tally_missed_braker3, acc_tally_shared_braker3 + acc_tally_novel_braker3)"
   ]
  },
  {
   "cell_type": "code",
   "execution_count": 22,
   "metadata": {},
   "outputs": [
    {
     "name": "stdout",
     "output_type": "stream",
     "text": [
      "InterPro accessions occurring with significantly higher frequency in novel transcripts than in shared transcripts:\n",
      "\tIPR037104: Annexin superfamily (3 occurrences, 0 expected)\n",
      "\tIPR003961: Fibronectin type III (3 occurrences, 0 expected)\n",
      "\tIPR036116: Fibronectin type III superfamily (3 occurrences, 0 expected)\n",
      "\tIPR036291: NAD(P)-binding domain superfamily (3 occurrences, 1 expected)\n",
      "\tIPR029071: Ubiquitin-like domain superfamily (3 occurrences, 1 expected)\n",
      "\n",
      "InterPro accessions that are completely missing from shared transcripts, with high frequency in novel transcripts:\n",
      "\tIPR045609: Domain of unknown function DUF6451 (3 occurrences)\n",
      "\n"
     ]
    },
    {
     "data": {
      "text/plain": [
       "['IPR037104', 'IPR003961', 'IPR036116', 'IPR036291', 'IPR029071', 'IPR045609']"
      ]
     },
     "execution_count": 22,
     "metadata": {},
     "output_type": "execute_result"
    }
   ],
   "source": [
    "list(interpro_accessions_in_novel_transcripts(flatten_nested_dict(acc_product), acc_tally_novel_braker3, braker3_novel_results, 3))"
   ]
  },
  {
   "cell_type": "code",
   "execution_count": 23,
   "metadata": {},
   "outputs": [
    {
     "name": "stdout",
     "output_type": "stream",
     "text": [
      "InterPro accessions that are completely missing from shared transcripts, with high frequency in missed transcripts:\n",
      "\n",
      "InterPro accessions occurring with significantly higher frequency in missed transcripts than in shared transcripts:\n",
      "\tIPR041036: Glycoside hydrolase family 5, C-terminal domain (10 occurrences, 0 expected)\n",
      "\tIPR009003: Peptidase S1, PA clan (27 occurrences, 0 expected)\n",
      "\tIPR001254: Serine proteases, trypsin domain (25 occurrences, 0 expected)\n",
      "\tIPR043504: Peptidase S1, PA clan, chymotrypsin-like fold (25 occurrences, 0 expected)\n",
      "\tIPR013780: Glycosyl hydrolase, all-beta (11 occurrences, 1 expected)\n",
      "\tIPR017853: Glycoside hydrolase superfamily (13 occurrences, 1 expected)\n",
      "\tIPR000276: G protein-coupled receptor, rhodopsin-like (23 occurrences, 4 expected)\n",
      "\tIPR017452: GPCR, rhodopsin-like, 7TM (26 occurrences, 4 expected)\n",
      "\n",
      "InterPro accessions occurring as expected in missed transcripts with high frequency:\n",
      "\tIPR027417: P-loop containing nucleoside triphosphate hydrolase (19 occurrences)\n",
      "\tIPR011009: Protein kinase-like domain superfamily (11 occurrences)\n",
      "\tIPR015943: WD40/YVTN repeat-like-containing domain superfamily (11 occurrences)\n",
      "\tIPR036322: WD40-repeat-containing domain superfamily (11 occurrences)\n",
      "\n",
      "InterPro accessions occurring less frequently in missed transcripts than expected:\n",
      "\n"
     ]
    }
   ],
   "source": [
    "interpro_accessions_in_missed_transcripts(flatten_nested_dict(acc_product), acc_tally_missed_braker3, acc_tally_novel_braker3, braker3_missed_results, braker3_novel_results, min_freq)"
   ]
  },
  {
   "cell_type": "code",
   "execution_count": 24,
   "metadata": {},
   "outputs": [
    {
     "name": "stdout",
     "output_type": "stream",
     "text": [
      "SM_V10_1 - Smp_126730.1 - {'IPR000276', 'IPR017452'}\n",
      "SM_V10_1 - Smp_170610.1 - {'IPR000276', 'IPR017452'}\n",
      "SM_V10_1 - Smp_315690.2 - {'IPR013780', 'IPR041036', 'IPR017853'}\n",
      "SM_V10_1 - Smp_316850.1 - {'IPR000276', 'IPR017452'}\n",
      "SM_V10_1 - Smp_317470.2 - {'IPR013780', 'IPR041036', 'IPR017853'}\n",
      "SM_V10_1 - Smp_324100.1 - {'IPR017452'}\n",
      "SM_V10_1 - Smp_325900.1 - {'IPR017452'}\n",
      "SM_V10_Z - Smp_162980.1 - {'IPR000276'}\n",
      "SM_V10_Z - Smp_167870.1 - {'IPR000276', 'IPR017452'}\n",
      "SM_V10_Z - Smp_204060.1 - {'IPR000276', 'IPR017452'}\n",
      "SM_V10_Z - Smp_303010.1 - {'IPR013780', 'IPR041036', 'IPR017853'}\n",
      "SM_V10_Z - Smp_322380.1 - {'IPR017452'}\n",
      "SM_V10_Z - Smp_323980.1 - {'IPR017452'}\n",
      "SM_V10_3 - Smp_083940.1 - {'IPR000276', 'IPR017452'}\n",
      "SM_V10_3 - Smp_091950.1 - {'IPR000276', 'IPR017452'}\n",
      "SM_V10_3 - Smp_177720.1 - {'IPR000276', 'IPR017452'}\n",
      "SM_V10_3 - Smp_211260.1 - {'IPR009003'}\n",
      "SM_V10_3 - Smp_241490.1 - {'IPR000276', 'IPR017452'}\n",
      "SM_V10_3 - Smp_326640.1 - {'IPR000276', 'IPR017452'}\n",
      "SM_V10_3 - Smp_333690.1 - {'IPR000276', 'IPR017452'}\n",
      "SM_V10_3 - Smp_335930.1 - {'IPR013780', 'IPR041036', 'IPR017853'}\n",
      "SM_V10_4 - Smp_043270.1 - {'IPR000276', 'IPR017452'}\n",
      "SM_V10_4 - Smp_043300.1 - {'IPR000276', 'IPR017452'}\n",
      "SM_V10_4 - Smp_043320.1 - {'IPR000276', 'IPR017452'}\n",
      "SM_V10_4 - Smp_043340.1 - {'IPR000276', 'IPR017452'}\n",
      "SM_V10_4 - Smp_134460.1 - {'IPR000276', 'IPR017452'}\n",
      "SM_V10_4 - Smp_137050.1 - {'IPR000276', 'IPR017452'}\n",
      "SM_V10_4 - Smp_193400.1 - {'IPR013780', 'IPR041036'}\n",
      "SM_V10_4 - Smp_315880.1 - {'IPR000276', 'IPR017452'}\n",
      "SM_V10_4 - Smp_329030.1 - {'IPR013780', 'IPR041036'}\n",
      "SM_V10_4 - Smp_335780.1 - {'IPR017853'}\n",
      "SM_V10_4 - Smp_336140.1 - {'IPR000276', 'IPR017452'}\n",
      "SM_V10_4 - Smp_348040.1 - {'IPR000276', 'IPR017452'}\n",
      "SM_V10_2 - Smp_128710.1 - {'IPR017452'}\n",
      "SM_V10_2 - Smp_337240.1 - {'IPR000276'}\n",
      "SM_V10_2 - Smp_343330.1 - {'IPR017853'}\n",
      "SM_V10_6 - Smp_187410.1 - {'IPR013780', 'IPR041036', 'IPR017853'}\n",
      "SM_V10_6 - Smp_314170.1 - {'IPR013780', 'IPR041036', 'IPR017853'}\n",
      "SM_V10_6 - Smp_317240.1 - {'IPR013780', 'IPR041036', 'IPR017853'}\n",
      "SM_V10_6 - Smp_332150.1 - {'IPR013780', 'IPR017853'}\n",
      "SM_V10_5 - Smp_306680.1 - {'IPR043504', 'IPR001254', 'IPR009003'}\n",
      "SM_V10_5 - Smp_314350.1 - {'IPR043504', 'IPR001254', 'IPR009003'}\n",
      "SM_V10_5 - Smp_317160.1 - {'IPR043504', 'IPR001254', 'IPR009003'}\n",
      "SM_V10_5 - Smp_317170.1 - {'IPR043504', 'IPR001254', 'IPR009003'}\n",
      "SM_V10_5 - Smp_317180.1 - {'IPR043504', 'IPR001254', 'IPR009003'}\n",
      "SM_V10_5 - Smp_317270.1 - {'IPR043504', 'IPR001254', 'IPR009003'}\n",
      "SM_V10_5 - Smp_330270.1 - {'IPR043504', 'IPR001254', 'IPR009003'}\n",
      "SM_V10_5 - Smp_330280.1 - {'IPR043504', 'IPR001254', 'IPR009003'}\n",
      "SM_V10_5 - Smp_330290.1 - {'IPR043504', 'IPR001254', 'IPR009003'}\n",
      "SM_V10_5 - Smp_336200.1 - {'IPR043504', 'IPR001254', 'IPR009003'}\n",
      "SM_V10_5 - Smp_337500.1 - {'IPR043504', 'IPR001254', 'IPR009003'}\n",
      "SM_V10_7 - Smp_242910.1 - {'IPR000276', 'IPR017452'}\n",
      "SM_V10_7 - Smp_316790.1 - {'IPR017853'}\n",
      "SM_V10_7 - Smp_318020.1 - {'IPR043504', 'IPR001254', 'IPR009003'}\n",
      "SM_V10_7 - Smp_318040.1 - {'IPR043504', 'IPR001254', 'IPR009003'}\n",
      "SM_V10_7 - Smp_318050.1 - {'IPR043504', 'IPR001254', 'IPR009003'}\n",
      "SM_V10_7 - Smp_318060.1 - {'IPR043504', 'IPR001254', 'IPR009003'}\n",
      "SM_V10_7 - Smp_318070.1 - {'IPR043504', 'IPR001254', 'IPR009003'}\n",
      "SM_V10_7 - Smp_318080.1 - {'IPR043504', 'IPR001254', 'IPR009003'}\n",
      "SM_V10_7 - Smp_318090.1 - {'IPR043504', 'IPR001254', 'IPR009003'}\n",
      "SM_V10_7 - Smp_318100.1 - {'IPR043504', 'IPR001254', 'IPR009003'}\n",
      "SM_V10_7 - Smp_335540.1 - {'IPR043504', 'IPR001254', 'IPR009003'}\n",
      "SM_V10_7 - Smp_348060.1 - {'IPR013780', 'IPR041036', 'IPR017853'}\n"
     ]
    }
   ],
   "source": [
    "missed_transcripts_with_significantly_more_frequent_accessions(wbps_species.db, missed_transcripts, acc_tally_missed_braker3, braker3_missed_results, min_freq)"
   ]
  },
  {
   "cell_type": "markdown",
   "metadata": {},
   "source": [
    "### Helixer"
   ]
  },
  {
   "cell_type": "code",
   "execution_count": 25,
   "metadata": {},
   "outputs": [],
   "source": [
    "acc_tally_shared_helixer, acc_tally_missed_helixer, acc_tally_novel_helixer, missed_transcripts = interpro_accession_pipeline(db, og_df, wbps_col, helixer_col, interproscan_dir)\n",
    "_, acc_tally_missed_helixer_unassigned, acc_tally_novel_helixer_unassigned, _ = interpro_accession_pipeline(db, no_og_df, wbps_col, helixer_col, os.path.join(interproscan_dir, \"unassigned_genes\"))\n",
    "acc_tally_missed_helixer += acc_tally_missed_helixer_unassigned\n",
    "acc_tally_novel_helixer += acc_tally_novel_helixer_unassigned\n",
    "\n",
    "# Find InterPro accessions occurring with significantly different frequency than in control (acc_tally_shared_helixer)\n",
    "helixer_novel_results = fisher_exact_for_two_lists_of_accessions(acc_tally_novel_helixer, acc_tally_shared_helixer + acc_tally_missed_helixer)\n",
    "helixer_missed_results = fisher_exact_for_two_lists_of_accessions(acc_tally_missed_helixer, acc_tally_shared_helixer + acc_tally_novel_helixer)"
   ]
  },
  {
   "cell_type": "code",
   "execution_count": 26,
   "metadata": {},
   "outputs": [
    {
     "name": "stdout",
     "output_type": "stream",
     "text": [
      "InterPro accessions occurring with significantly higher frequency in novel transcripts than in shared transcripts:\n",
      "\tIPR036964: Ras guanine-nucleotide exchange factor, catalytic domain superfamily (3 occurrences, 0 expected)\n",
      "\tIPR023578: Ras guanine nucleotide exchange factor domain superfamily (3 occurrences, 0 expected)\n",
      "\tIPR036869: Chaperone J-domain superfamily (5 occurrences, 1 expected)\n",
      "\tIPR001623: DnaJ domain (4 occurrences, 1 expected)\n",
      "\tIPR002347: Short-chain dehydrogenase/reductase SDR (3 occurrences, 1 expected)\n",
      "\tIPR013098: Immunoglobulin I-set (3 occurrences, 1 expected)\n",
      "\tIPR003599: Immunoglobulin subtype (6 occurrences, 1 expected)\n",
      "\tIPR003961: Fibronectin type III (4 occurrences, 1 expected)\n",
      "\tIPR036116: Fibronectin type III superfamily (4 occurrences, 1 expected)\n",
      "\tIPR007110: Immunoglobulin-like domain (7 occurrences, 2 expected)\n",
      "\tIPR003598: Immunoglobulin subtype 2 (4 occurrences, 1 expected)\n",
      "\tIPR036179: Immunoglobulin-like domain superfamily (6 occurrences, 2 expected)\n",
      "\tIPR029071: Ubiquitin-like domain superfamily (5 occurrences, 2 expected)\n",
      "\tIPR013783: Immunoglobulin-like fold (8 occurrences, 3 expected)\n",
      "\tIPR027417: P-loop containing nucleoside triphosphate hydrolase (20 occurrences, 10 expected)\n",
      "\n",
      "InterPro accessions that are completely missing from shared transcripts, with high frequency in novel transcripts:\n",
      "\tIPR050951: Retrovirus-related Pol polyprotein (3 occurrences)\n",
      "\n"
     ]
    },
    {
     "data": {
      "text/plain": [
       "['IPR036964',\n",
       " 'IPR023578',\n",
       " 'IPR036869',\n",
       " 'IPR001623',\n",
       " 'IPR002347',\n",
       " 'IPR013098',\n",
       " 'IPR003599',\n",
       " 'IPR003961',\n",
       " 'IPR036116',\n",
       " 'IPR007110',\n",
       " 'IPR003598',\n",
       " 'IPR036179',\n",
       " 'IPR029071',\n",
       " 'IPR013783',\n",
       " 'IPR027417',\n",
       " 'IPR050951']"
      ]
     },
     "execution_count": 26,
     "metadata": {},
     "output_type": "execute_result"
    }
   ],
   "source": [
    "list(interpro_accessions_in_novel_transcripts(flatten_nested_dict(acc_product), acc_tally_novel_helixer, helixer_novel_results, 3))"
   ]
  },
  {
   "cell_type": "code",
   "execution_count": 27,
   "metadata": {},
   "outputs": [
    {
     "name": "stdout",
     "output_type": "stream",
     "text": [
      "InterPro accessions that are completely missing from shared transcripts, with high frequency in missed transcripts:\n",
      "\tIPR002453: Beta tubulin (7 occurrences)\n",
      "\tIPR013838: Beta tubulin, autoregulation binding site (6 occurrences)\n",
      "\tIPR026183: Taxilin family (4 occurrences)\n",
      "\tIPR001951: Histone H4 (3 occurrences)\n",
      "\tIPR019809: Histone H4, conserved site (3 occurrences)\n",
      "\tIPR035425: CENP-T/Histone H4, histone fold (3 occurrences)\n",
      "\tIPR000558: Histone H2B (3 occurrences)\n",
      "\tIPR001971: Small ribosomal subunit protein uS11 (2 occurrences)\n",
      "\tIPR001147: Large ribosomal subunit protein eL21 (2 occurrences)\n",
      "\tIPR018259: Large ribosomal subunit protein eL21, conserved site (2 occurrences)\n",
      "\tIPR036948: Large ribosomal subunit protein eL21 superfamily (2 occurrences)\n",
      "\tIPR005336: Mitochondrial pyruvate carrier (2 occurrences)\n",
      "\tIPR029040: RNA polymerase subunit RPABC4/transcription elongation factor Spt4 (2 occurrences)\n",
      "\tIPR011331: Large ribosomal subunit protein eL37/eL43 (2 occurrences)\n",
      "\tIPR000892: Small ribosomal subunit protein eS26 (2 occurrences)\n",
      "\tIPR038551: Ribosomal protein eS26 superfamily (2 occurrences)\n",
      "\tIPR047864: Ribosomal protein eS26, conserved site (2 occurrences)\n",
      "\tIPR000589: Small ribosomal subunit protein uS15 (2 occurrences)\n",
      "\tIPR012606: Small ribosomal subunit protein uS15, N-terminal (2 occurrences)\n",
      "\tIPR023029: Small ribosomal subunit protein uS15, archaea/eukaryotes (2 occurrences)\n",
      "\tIPR003213: Cytochrome c oxidase, subunit VIb (2 occurrences)\n",
      "\tIPR005710: Ribosomal protein S4/S9, eukaryotic/archaeal (2 occurrences)\n",
      "\tIPR018079: Small ribosomal subunit protein uS4, conserved site (2 occurrences)\n",
      "\tIPR034014: Pol III subunit C11, C-terminal zinc ribbon (2 occurrences)\n",
      "\tIPR016487: Sm-like protein Lsm6/SmF (2 occurrences)\n",
      "\tIPR001750: NADH:quinone oxidoreductase/Mrp antiporter, membrane subunit (2 occurrences)\n",
      "\tIPR019404: Mediator complex, subunit Med11 (2 occurrences)\n",
      "\tIPR021640: Mediator complex, subunit Med28 (1 occurrences)\n",
      "\tIPR027521: U6 snRNA phosphodiesterase 1 (1 occurrences)\n",
      "\tIPR001911: Small ribosomal subunit protein bS21 (1 occurrences)\n",
      "\tIPR002143: Large ribosomal subunit protein uL1 (1 occurrences)\n",
      "\tIPR004205: Cytochrome b-c1 complex subunit 8 (1 occurrences)\n",
      "\tIPR036642: Cytochrome b-c1 complex subunit 8 superfamily (1 occurrences)\n",
      "\tIPR002738: RNase P subunit p30 (1 occurrences)\n",
      "\tIPR016195: Polymerase/histidinol phosphatase-like (1 occurrences)\n",
      "\tIPR020574: Small ribosomal subunit protein uS9, conserved site (1 occurrences)\n",
      "\tIPR002908: Frataxin/CyaY (1 occurrences)\n",
      "\tIPR017789: Frataxin (1 occurrences)\n",
      "\tIPR020895: Frataxin conserved site (1 occurrences)\n",
      "\tIPR036524: Frataxin/CyaY superfamily (1 occurrences)\n",
      "\tIPR039517: C6orf106, UBA-like domain (1 occurrences)\n",
      "\tIPR001713: Proteinase inhibitor I25A, stefin (1 occurrences)\n",
      "\tIPR018073: Proteinase inhibitor I25, cystatin, conserved site (1 occurrences)\n",
      "\tIPR019610: Iron sulphur domain-containing, mitoNEET, N-terminal (1 occurrences)\n",
      "\tIPR045131: CDGSH iron-sulfur domain-containing protein 1/2 (1 occurrences)\n",
      "\tIPR003134: Hs1/Cortactin (1 occurrences)\n",
      "\tIPR038888: Cilia- and flagella-associated protein 36 (1 occurrences)\n",
      "\tIPR019171: Intermembrane space protein MIX23 (1 occurrences)\n",
      "\tIPR018102: Small ribosomal subunit protein uS11, conserved site (1 occurrences)\n",
      "\tIPR034884: Mitochondrial cytochrome c oxidase subunit VIc/VIIs (1 occurrences)\n",
      "\tIPR037169: Mitochondrial cytochrome c oxidase subunit VIc/VIIs superfamily (1 occurrences)\n",
      "\tIPR036788: Translation initiation factor 3 (IF-3), C-terminal domain superfamily (1 occurrences)\n",
      "\tIPR001141: Large ribosomal subunit protein eL27 (1 occurrences)\n",
      "\tIPR038655: Large ribosomal subunit protein eL27 superfamily (1 occurrences)\n",
      "\tIPR041991: Large ribosomal subunit protein eL27, KOW domain (1 occurrences)\n",
      "\tIPR000509: Large ribosomal subunit protein eL36 (1 occurrences)\n",
      "\tIPR038097: Large ribosomal subunit protein eL36 domain superfamily (1 occurrences)\n",
      "\tIPR007129: Ubiquinol-cytochrome c chaperone, CBP3 (1 occurrences)\n",
      "\tIPR021150: Ubiquinol-cytochrome c chaperone (1 occurrences)\n",
      "\tIPR005756: Ribosomal protein L26/L24, eukaryotic/archaeal (1 occurrences)\n",
      "\tIPR018794: Uncharacterised protein family UPF0538 (1 occurrences)\n",
      "\tIPR001892: Small ribosomal subunit protein uS13 (1 occurrences)\n",
      "\tIPR010979: Small ribosomal subunit protein uS13-like, H2TH (1 occurrences)\n",
      "\tIPR018269: Small ribosomal subunit protein uS13, conserved site (1 occurrences)\n",
      "\tIPR027437: Small ribosomal subunit protein uS13, C-terminal (1 occurrences)\n",
      "\tIPR001196: Large ribosomal subunit protein uL15, conserved site (1 occurrences)\n",
      "\tIPR027386: Ribosomal uL15, N-terminal (1 occurrences)\n",
      "\tIPR030878: Large ribosomal subunit protein uL15 (1 occurrences)\n",
      "\tIPR000630: Small ribosomal subunit protein uS8 (1 occurrences)\n",
      "\tIPR035987: Small ribosomal subunit protein uS8 superfamily (1 occurrences)\n",
      "\tIPR047863: Small ribosomal subunit protein uS8, conserved site (1 occurrences)\n",
      "\tIPR034098: Small nuclear ribonucleoprotein G (1 occurrences)\n",
      "\tIPR007758: Nucleoporin, NSP1-like, C-terminal (1 occurrences)\n",
      "\tIPR026010: Nucleoporin NSP1/NUP62 (1 occurrences)\n",
      "\tIPR000054: Large ribosomal subunit protein eL31 (1 occurrences)\n",
      "\tIPR020052: Large ribosomal subunit protein eL31, conserved site (1 occurrences)\n",
      "\tIPR023621: Large ribosomal subunit protein eL31 domain superfamily (1 occurrences)\n",
      "\tIPR007315: GPI mannosyltransferase 2 (1 occurrences)\n",
      "\tIPR007872: DPH-type metal-binding domain (1 occurrences)\n",
      "\tIPR004226: Tubulin binding cofactor A (1 occurrences)\n",
      "\tIPR036126: Tubulin binding cofactor A superfamily (1 occurrences)\n",
      "\tIPR042528: Translation initiation factor eIF-2B subunit alpha, N-terminal (1 occurrences)\n",
      "\tIPR015418: Chromatin modification-related protein Eaf6 (1 occurrences)\n",
      "\tIPR019144: Membralin (1 occurrences)\n",
      "\tIPR027156: AP-2 complex subunit sigma (1 occurrences)\n",
      "\tIPR001266: Small ribosomal subunit protein eS19 (1 occurrences)\n",
      "\tIPR026060: Associate of Myc 1 (1 occurrences)\n",
      "\tIPR009779: Translocon-associated protein subunit gamma (1 occurrences)\n",
      "\tIPR008015: GMP phosphodiesterase, delta subunit (1 occurrences)\n",
      "\tIPR037036: GMP phosphodiesterase, delta subunit superfamily (1 occurrences)\n",
      "\tIPR020186: Meiosis-expressed gene 1 protein (1 occurrences)\n",
      "\tIPR016661: Prefoldin, subunit 4 (1 occurrences)\n",
      "\tIPR029827: J domain-containing protein 1-like (1 occurrences)\n",
      "\tIPR038922: Huntingtin-interacting protein K, UBA-like domain (1 occurrences)\n",
      "\tIPR010585: DNA repair protein XRCC4 (1 occurrences)\n",
      "\tIPR013869: Protein of unknown function DUF1757 (1 occurrences)\n",
      "\tIPR040247: Protein of unknown function DUF5524 (1 occurrences)\n",
      "\tIPR001780: Large ribosomal subunit protein eL33 (1 occurrences)\n",
      "\tIPR018266: Large ribosomal subunit protein eL33, conserved site (1 occurrences)\n",
      "\tIPR038661: Large ribosomal subunit protein eL33 superfamily (1 occurrences)\n",
      "\tIPR001515: Large ribosomal subunit protein eL32 (1 occurrences)\n",
      "\tIPR036351: Large ribosomal subunit protein eL32 superfamily (1 occurrences)\n",
      "\tIPR007174: Las1 (1 occurrences)\n",
      "\tIPR042418: Thioredoxin domain-containing protein 15 (1 occurrences)\n",
      "\tIPR002124: Cytochrome c oxidase, subunit Vb (1 occurrences)\n",
      "\tIPR021138: Large ribosomal subunit protein eL20, eukaryotes (1 occurrences)\n",
      "\tIPR023573: Large ribosomal subunit protein eL20 domain (1 occurrences)\n",
      "\tIPR028877: Large ribosomal subunit protein eL20 (1 occurrences)\n",
      "\tIPR036527: SCP2 sterol-binding domain superfamily (1 occurrences)\n",
      "\tIPR019367: PDZ-binding protein, CRIPT (1 occurrences)\n",
      "\tIPR008387: ATP synthase-coupling factor 6, mitochondrial (1 occurrences)\n",
      "\tIPR036204: ATP synthase-coupling factor 6 superfamily, mitochondrial (1 occurrences)\n",
      "\tIPR039471: Uncharacterized protein CXorf65-like (1 occurrences)\n",
      "\tIPR027078: Small nuclear ribonucleoprotein E (1 occurrences)\n",
      "\tIPR005683: Mitochondrial import receptor subunit Tom22 (1 occurrences)\n",
      "\tIPR044198: Protein DEK (1 occurrences)\n",
      "\tIPR007533: Cytochrome c oxidase assembly protein CtaG/Cox11 (1 occurrences)\n",
      "\tIPR023471: Cytochrome c oxidase assembly protein CtaG/Cox11, domain superfamily (1 occurrences)\n",
      "\tIPR009846: Splicing factor 3B subunit 5/RDS3 complex subunit 10 (1 occurrences)\n",
      "\tIPR017089: Splicing factor 3B, subunit 5 (1 occurrences)\n",
      "\tIPR038887: Dehydrodolichyl diphosphate synthase complex subunit Nus1 (1 occurrences)\n",
      "\tIPR020339: Ciliary microtubule inner protein 1-like (1 occurrences)\n",
      "\tIPR002672: Large ribosomal subunit protein eL28 (1 occurrences)\n",
      "\tIPR005680: Ribosomal protein S23, eukaryotic/archaeal (1 occurrences)\n",
      "\tIPR033871: Sm-like protein LSm5 (1 occurrences)\n",
      "\tIPR036636: Cytochrome c oxidase subunit VIIc superfamily (1 occurrences)\n",
      "\tIPR009027: Large ribosomal subunit protein bL9/RNase H1, N-terminal (1 occurrences)\n",
      "\tIPR020070: Large ribosomal subunit protein bL9, N-terminal (1 occurrences)\n",
      "\tIPR036935: Large ribosomal subunit protein bL9, N-terminal domain superfamily (1 occurrences)\n",
      "\tIPR023184: Ubiquinol-cytochrome C reductase hinge domain (1 occurrences)\n",
      "\tIPR036811: Ubiquinol-cytochrome C reductase hinge domain superfamily (1 occurrences)\n",
      "\tIPR002994: Surfeit locus 1/Shy1 (1 occurrences)\n",
      "\tIPR045214: Surfeit locus 1/4 (1 occurrences)\n",
      "\tIPR026702: Coiled-coil domain-containing protein 83 (1 occurrences)\n",
      "\tIPR007014: FUN14 (1 occurrences)\n",
      "\tIPR027885: Uncharacterised protein family UPF0728 (1 occurrences)\n",
      "\tIPR004023: Mago nashi protein (1 occurrences)\n",
      "\tIPR036605: Mago nashi superfamily (1 occurrences)\n",
      "\tIPR000266: Small ribosomal subunit protein uS17 (1 occurrences)\n",
      "\tIPR019979: Small ribosomal subunit protein uS17, conserved site (1 occurrences)\n",
      "\tIPR028333: Ribosomal protein S17, archaeal/eukaryotic (1 occurrences)\n",
      "\tIPR032440: Small ribosomal subunit protein uS17, N-terminal (1 occurrences)\n",
      "\tIPR013870: Large ribosomal subunit protein mL54 (1 occurrences)\n",
      "\tIPR006282: Thiamin pyrophosphokinase (1 occurrences)\n",
      "\tIPR007371: Thiamin pyrophosphokinase, catalytic domain (1 occurrences)\n",
      "\tIPR007373: Thiamin pyrophosphokinase, thiamin-binding domain (1 occurrences)\n",
      "\tIPR036371: Thiamin pyrophosphokinase, thiamin-binding domain superfamily (1 occurrences)\n",
      "\tIPR036759: Thiamin pyrophosphokinase, catalytic domain superfamily (1 occurrences)\n",
      "\tIPR040055: Small ribosomal subunit protein uS10m (1 occurrences)\n",
      "\tIPR009790: Transmembrane protein 106 (1 occurrences)\n",
      "\tIPR048509: Transmembrane protein 106, C-terminal domain (1 occurrences)\n",
      "\tIPR048511: Transmembrane protein 106, N-terminal (1 occurrences)\n",
      "\tIPR004385: Nucleoside diphosphate pyrophosphatase (1 occurrences)\n",
      "\tIPR006789: Actin-related protein 2/3 complex subunit 5 (1 occurrences)\n",
      "\tIPR036743: Actin-related protein 2/3 complex subunit 5 superfamily (1 occurrences)\n",
      "\tIPR008042: Retrotransposon, Pao (1 occurrences)\n",
      "\tIPR004122: Barrier- to-autointegration factor, BAF (1 occurrences)\n",
      "\tIPR036617: Barrier-to-autointegration factor, BAF superfamily (1 occurrences)\n",
      "\tIPR020785: Large ribosomal subunit protein uL11, conserved site (1 occurrences)\n",
      "\tIPR009287: Transcription initiation Spt4 (1 occurrences)\n",
      "\tIPR022800: Spt4/RpoE2 zinc finger (1 occurrences)\n",
      "\tIPR038510: Spt4 superfamily (1 occurrences)\n",
      "\tIPR028260: FAM177 family (1 occurrences)\n",
      "\tIPR000445: Helix-hairpin-helix motif (1 occurrences)\n",
      "\tIPR003651: Endonuclease III-like, iron-sulphur cluster loop motif (1 occurrences)\n",
      "\tIPR030841: Endonuclease III-like protein 1 (1 occurrences)\n",
      "\tIPR019344: Mitochondrial F1-F0 ATP synthase subunit F, predicted (1 occurrences)\n",
      "\tIPR032727: Flagellar C1a complex subunit C1a-32 (1 occurrences)\n",
      "\tIPR019164: Transmembrane protein 147 (1 occurrences)\n",
      "\tIPR002674: Ribosomal protein L37ae (1 occurrences)\n",
      "\tIPR026224: Protein DPCD (1 occurrences)\n",
      "\tIPR003737: N-acetylglucosaminyl phosphatidylinositol deacetylase-related (1 occurrences)\n",
      "\tIPR024078: Putative deacetylase LmbE-like domain superfamily (1 occurrences)\n",
      "\tIPR045115: BolA-like protein 2 (1 occurrences)\n",
      "\tIPR005485: Large ribosomal subunit protein uL18 eukaryotic/archaeal (1 occurrences)\n",
      "\tIPR025607: Large ribosomal subunit protein uL18, C-terminal, eukaryotes (1 occurrences)\n",
      "\tIPR032072: Protein of unknown function DUF4807 (1 occurrences)\n",
      "\tIPR013892: Cytochrome c oxidase biogenesis protein Cmc1-like (1 occurrences)\n",
      "\tIPR006846: Small ribosomal subunit protein eS30 (1 occurrences)\n",
      "\tIPR004895: Prenylated rab acceptor PRA1 (1 occurrences)\n",
      "\tIPR049626: DCX/DCDC2-like (1 occurrences)\n",
      "\tIPR026721: Transmembrane protein 18 (1 occurrences)\n",
      "\tIPR013729: Multiprotein bridging factor 1, N-terminal (1 occurrences)\n",
      "\tIPR002415: H/ACA ribonucleoprotein complex, subunit Nhp2-like (1 occurrences)\n",
      "\tIPR034100: Small nuclear ribonucleoprotein F (1 occurrences)\n",
      "\tIPR028361: GPI-anchor transamidase (1 occurrences)\n",
      "\tIPR013197: RNA polymerase III subunit RPC82-related, helix-turn-helix (1 occurrences)\n",
      "\tIPR039748: DNA-directed RNA polymerase III subunit RPC3 (1 occurrences)\n",
      "\tIPR029147: Cilia- and flagella-associated protein 77 (1 occurrences)\n",
      "\tIPR042814: MORN repeat-containing protein 5 (1 occurrences)\n",
      "\tIPR009617: Seipin family (1 occurrences)\n",
      "\tIPR039250: CREBL2/REPTOR-BP (1 occurrences)\n",
      "\tIPR040049: Ribosomal subunit protein mS25/mL61, mitochondrial (1 occurrences)\n",
      "\tIPR008504: ER membrane protein complex subunit 6 (1 occurrences)\n",
      "\tIPR018796: Cytochrome c oxidase assembly factor 8 (1 occurrences)\n",
      "\tIPR039632: Transmembrane protein 42 (1 occurrences)\n",
      "\tIPR013924: Ribonuclease H2, subunit C (1 occurrences)\n",
      "\tIPR026142: Protein phosphatase 1 regulatory subunit 36 (1 occurrences)\n",
      "\tIPR005570: DNA-directed RNA polymerases I, II, and III subunit RPABC3 (1 occurrences)\n",
      "\tIPR037503: rRNA-processing protein Fcf1, PIN domain (1 occurrences)\n",
      "\tIPR018784: Learning associated protein 18-like (1 occurrences)\n",
      "\tIPR001975: Large ribosomal subunit protein eL40 domain (1 occurrences)\n",
      "\tIPR038587: Large ribosomal subunit protein eL40 superfamily (1 occurrences)\n",
      "\tIPR005874: Eukaryotic translation initiation factor SUI1 (1 occurrences)\n",
      "\tIPR001792: Acylphosphatase-like domain (1 occurrences)\n",
      "\tIPR017968: Acylphosphatase, conserved site (1 occurrences)\n",
      "\tIPR020456: Acylphosphatase (1 occurrences)\n",
      "\tIPR036046: Acylphosphatase-like domain superfamily (1 occurrences)\n",
      "\tIPR000439: Large ribosomal subunit protein eL15 (1 occurrences)\n",
      "\tIPR020925: Large ribosomal subunit protein eL15, conserved site (1 occurrences)\n",
      "\tIPR024794: Large ribosomal subunit protein eL15 core domain superfamily (1 occurrences)\n",
      "\tIPR039667: Dolichyldiphosphatase, PAP2 domain (1 occurrences)\n",
      "\tIPR034099: Small nuclear ribonucleoprotein Sm D3 (1 occurrences)\n",
      "\tIPR032739: MRN complex-interacting protein (1 occurrences)\n",
      "\tIPR049472: MRN complex-interacting protein, N-terminal domain (1 occurrences)\n",
      "\tIPR037992: TRAPP complex, Trs33 subunit (1 occurrences)\n",
      "\tIPR006683: Thioesterase domain (1 occurrences)\n",
      "\tIPR024135: Ragulator complex protein LAMTOR5 (1 occurrences)\n",
      "\tIPR008591: GINS complex subunit Sld5 (1 occurrences)\n",
      "\tIPR038749: GINS complex protein Sld5, alpha-helical domain (1 occurrences)\n",
      "\tIPR007269: Isoprenylcysteine carboxyl methyltransferase (1 occurrences)\n",
      "\tIPR025770: Protein-S-isoprenylcysteine O-methyltransferase (1 occurrences)\n",
      "\tIPR000289: Small ribosomal subunit protein eS28 (1 occurrences)\n",
      "\tIPR028626: Ribosomal protein eS28 conserved site (1 occurrences)\n",
      "\tIPR002673: Large ribosomal subunit protein eL29 (1 occurrences)\n",
      "\tIPR006721: ATP synthase, F1 complex, epsilon subunit, mitochondrial (1 occurrences)\n",
      "\tIPR036742: ATP synthase, F1 complex, epsilon subunit superfamily, mitochondrial (1 occurrences)\n",
      "\tIPR013880: Yos1-like (1 occurrences)\n",
      "\tIPR018908: Putative transmembrane family 234 (1 occurrences)\n",
      "\tIPR033182: MICOS complex subunit MIC26/MIC27, animal (1 occurrences)\n",
      "\tIPR007915: Oligosaccharyltransferase complex subunit (1 occurrences)\n",
      "\tIPR006591: RNA polymerase archaeal subunit P/eukaryotic subunit RPABC4 (1 occurrences)\n",
      "\tIPR039747: DNA-directed RNA polymerases I, II, and III subunit RPABC4 (1 occurrences)\n",
      "\tIPR005351: PAT complex subunit Asterix (1 occurrences)\n",
      "\tIPR000552: Large ribosomal subunit protein eL42 (1 occurrences)\n",
      "\tIPR001569: Large ribosomal subunit protein eL37 (1 occurrences)\n",
      "\tIPR018267: Large ribosomal subunit protein eL37, conserved site (1 occurrences)\n",
      "\tIPR009400: TFIIH subunit TTDA/Tfb5 (1 occurrences)\n",
      "\tIPR035935: TFB5-like superfamily (1 occurrences)\n",
      "\tIPR024133: Transmembrane protein 138 (1 occurrences)\n",
      "\tIPR003945: NADH-quinone oxidoreductase, chain 5-like (1 occurrences)\n",
      "\tIPR035908: ATP synthase, F0 complex, subunit A superfamily (1 occurrences)\n",
      "\tIPR019716: Large ribosomal subunit protein mL53 (1 occurrences)\n",
      "\tIPR005312: Protein of unknown function DUF1759 (1 occurrences)\n",
      "\tIPR002906: Small ribosomal subunit protein eS31 (1 occurrences)\n",
      "\tIPR038582: Small ribosomal subunit protein eS31 eukaryotic-type superfamily (1 occurrences)\n",
      "\tIPR018785: Cysteine-rich domain, DPF-motif (1 occurrences)\n",
      "\tIPR042426: Cysteine-rich DPF motif domain-containing protein 1 (1 occurrences)\n",
      "\tIPR037760: Small lysine-rich protein 1 (1 occurrences)\n",
      "\tIPR019013: Vacuolar ATPase assembly integral membrane protein Vma21 (1 occurrences)\n",
      "\tIPR018468: SFR1/Mei5 family (1 occurrences)\n",
      "\tIPR018792: Nuclear protein 1-like (1 occurrences)\n",
      "\tIPR047185: Glutaredoxin-1 (1 occurrences)\n",
      "\tIPR008614: Acidic fibroblast growth factor intracellular-binding protein (1 occurrences)\n",
      "\tIPR013730: Fyv7/TAP26 (1 occurrences)\n",
      "\tIPR045176: Protein transport protein Got1 (1 occurrences)\n",
      "\tIPR040760: Testis-specific expressed protein 55 (1 occurrences)\n",
      "\tIPR048377: TEX55, dimerization/docking domain (1 occurrences)\n",
      "\tIPR038581: Ornithine decarboxylase antizyme superfamily (1 occurrences)\n",
      "\tIPR024512: Small subunit of serine palmitoyltransferase-like (1 occurrences)\n",
      "\tIPR040211: Small EDRK-rich factor 1/2-like (1 occurrences)\n",
      "\tIPR039992: Selenoprotein F/M (1 occurrences)\n",
      "\tIPR009598: Bladder cancer-related BC10 (1 occurrences)\n",
      "\tIPR035766: SPRY domain-containing protein 7 (1 occurrences)\n",
      "\tIPR031821: SOSS complex subunit C (1 occurrences)\n",
      "\tIPR000473: Ribosomal protein L36 (1 occurrences)\n",
      "\tIPR035977: Large ribosomal subunit protein bL36 superfamily (1 occurrences)\n",
      "\tIPR009653: Protein kish (1 occurrences)\n",
      "\tIPR009643: Heat shock factor binding 1 (1 occurrences)\n",
      "\tIPR018943: Oligosaccaryltransferase (1 occurrences)\n",
      "\tIPR036330: Oligosaccharyltransferase subunit ost4p superfamily (1 occurrences)\n",
      "\tIPR015157: Translation machinery associated TMA7 (1 occurrences)\n",
      "\tIPR009356: NADH dehydrogenase subunit 4L (1 occurrences)\n",
      "\tIPR003918: NADH:ubiquinone oxidoreductase (1 occurrences)\n",
      "\tIPR000440: NADH:ubiquinone/plastoquinone oxidoreductase, chain 3 (1 occurrences)\n",
      "\tIPR038430: NADH:ubiquinone oxidoreductase, subunit 3 superfamily (1 occurrences)\n",
      "\tIPR001694: NADH:ubiquinone oxidoreductase, subunit 1/F420H2 oxidoreductase subunit H (1 occurrences)\n",
      "\tIPR000298: Cytochrome c oxidase subunit III-like (1 occurrences)\n",
      "\tIPR013833: Cytochrome c oxidase, subunit III, 4-helical bundle (1 occurrences)\n",
      "\tIPR035973: Cytochrome c oxidase subunit III-like superfamily (1 occurrences)\n",
      "\tIPR001505: Copper centre Cu(A) (1 occurrences)\n",
      "\tIPR002429: Cytochrome c oxidase subunit II-like C-terminal (1 occurrences)\n",
      "\tIPR011759: Cytochrome C oxidase subunit II, transmembrane domain (1 occurrences)\n",
      "\tIPR036257: Cytochrome C oxidase subunit II, transmembrane domain superfamily (1 occurrences)\n",
      "\tIPR045187: Cytochrome c/quinol oxidase subunit II (1 occurrences)\n",
      "\tIPR042815: Dynein regulatory complex protein 10 (1 occurrences)\n",
      "\tIPR039732: Ubiquitin-like modifier Hub1/Ubl5 (1 occurrences)\n",
      "\tIPR015089: Cytochrome b-c1 complex subunit 10 (1 occurrences)\n",
      "\tIPR029027: Single alpha-helix domain superfamily (1 occurrences)\n",
      "\tIPR019309: WASH complex subunit 3 (1 occurrences)\n",
      "\tIPR033378: Protein BRICK1 (1 occurrences)\n",
      "\tIPR027960: Protein of unknown function DUF4519 (1 occurrences)\n",
      "\tIPR010580: Stress-associated endoplasmic reticulum protein (1 occurrences)\n",
      "\tIPR003148: Regulator of K+ conductance, N-terminal (1 occurrences)\n",
      "\tIPR000268: DNA-directed RNA polymerase subunit RPABC5/Rpb10 (1 occurrences)\n",
      "\tIPR020789: RNA polymerases, subunit N, zinc binding site (1 occurrences)\n",
      "\tIPR023580: RNA polymerase subunit RPB10 (1 occurrences)\n",
      "\tIPR009125: ATP synthase membrane subunit K (1 occurrences)\n",
      "\tIPR003038: DAD/Ost2 (1 occurrences)\n",
      "\tIPR012621: Mitochondrial import receptor subunit TOM7 (1 occurrences)\n",
      "\tIPR016482: Protein transport protein SecG/Sec61-beta/Sbh (1 occurrences)\n",
      "\tIPR030671: Protein transport Sec61-beta/Sbh (1 occurrences)\n",
      "\tIPR013174: Dolichol-phosphate mannosyltransferase subunit 3 (1 occurrences)\n",
      "\tIPR001901: Protein translocase complex, SecE/Sec61-gamma subunit (1 occurrences)\n",
      "\tIPR008158: Protein translocase SEC61 complex,  gamma subunit (1 occurrences)\n",
      "\tIPR023391: Protein translocase SecE domain superfamily (1 occurrences)\n",
      "\tIPR008386: ATP synthase, F0 complex, subunit E, mitochondrial (1 occurrences)\n",
      "\n",
      "InterPro accessions occurring with significantly higher frequency in missed transcripts than in shared transcripts:\n",
      "\tIPR041305: Interleukin-4 inducing immunoglobulin-binding domain (14 occurrences, 0 expected)\n",
      "\tIPR000164: Histone H3/CENP-A (7 occurrences, 0 expected)\n",
      "\tIPR011024: Gamma-crystallin-like (13 occurrences, 0 expected)\n",
      "\tIPR032458: Histone H2A conserved site (5 occurrences, 0 expected)\n",
      "\tIPR007125: Histone H2A/H2B/H3 (14 occurrences, 0 expected)\n",
      "\tIPR002119: Histone H2A (6 occurrences, 0 expected)\n",
      "\tIPR002777: Prefoldin beta-like (3 occurrences, 0 expected)\n",
      "\tIPR004823: TATA box binding protein associated factor (TAF), histone-like fold domain (3 occurrences, 0 expected)\n",
      "\tIPR019956: Ubiquitin domain (3 occurrences, 0 expected)\n",
      "\tIPR011332: Zinc-binding ribosomal protein (4 occurrences, 0 expected)\n",
      "\tIPR032454: Histone H2A, C-terminal domain (4 occurrences, 0 expected)\n",
      "\tIPR007305: Vesicle transport protein, Got1/SFT2-like (2 occurrences, 0 expected)\n",
      "\tIPR036967: Small ribosomal subunit protein uS11 superfamily (2 occurrences, 0 expected)\n",
      "\tIPR015898: G-protein gamma-like domain (2 occurrences, 0 expected)\n",
      "\tIPR036284: G-protein gamma-like domain superfamily (2 occurrences, 0 expected)\n",
      "\tIPR011129: Cold shock domain (2 occurrences, 0 expected)\n",
      "\tIPR002634: BolA protein (2 occurrences, 0 expected)\n",
      "\tIPR036065: BolA-like superfamily (2 occurrences, 0 expected)\n",
      "\tIPR004037: Large ribosomal subunit protein eL8-like, conserved site (2 occurrences, 0 expected)\n",
      "\tIPR018492: Ribosomal protein eL8/Nhp2 family (2 occurrences, 0 expected)\n",
      "\tIPR036549: Cytochrome c oxidase, subunit VIb superfamily (2 occurrences, 0 expected)\n",
      "\tIPR048280: Cytochrome oxidase c subunit VIb-like (2 occurrences, 0 expected)\n",
      "\tIPR001912: Small ribosomal subunit protein uS4, N-terminal (2 occurrences, 0 expected)\n",
      "\tIPR022801: Small ribosomal subunit protein uS4 (2 occurrences, 0 expected)\n",
      "\tIPR001547: Glycoside hydrolase, family 5 (9 occurrences, 0 expected)\n",
      "\tIPR001254: Serine proteases, trypsin domain (21 occurrences, 1 expected)\n",
      "\tIPR043504: Peptidase S1, PA clan, chymotrypsin-like fold (21 occurrences, 1 expected)\n",
      "\tIPR009003: Peptidase S1, PA clan (22 occurrences, 1 expected)\n",
      "\tIPR019954: Ubiquitin conserved site (3 occurrences, 0 expected)\n",
      "\tIPR009072: Histone-fold (21 occurrences, 1 expected)\n",
      "\tIPR037103: Tubulin/FtsZ-like, C-terminal domain (7 occurrences, 0 expected)\n",
      "\tIPR041036: Glycoside hydrolase family 5, C-terminal domain (7 occurrences, 0 expected)\n",
      "\tIPR002059: Cold-shock protein, DNA-binding (2 occurrences, 0 expected)\n",
      "\tIPR009068: uS15/NS1, RNA-binding domain superfamily (2 occurrences, 0 expected)\n",
      "\tIPR002942: RNA-binding S4 domain (2 occurrences, 0 expected)\n",
      "\tIPR036986: RNA-binding S4 domain superfamily (2 occurrences, 0 expected)\n",
      "\tIPR012164: DNA-directed RNA polymerase subunit/transcription factor S (2 occurrences, 0 expected)\n",
      "\tIPR000217: Tubulin (7 occurrences, 0 expected)\n",
      "\tIPR003008: Tubulin/FtsZ, GTPase domain (7 occurrences, 0 expected)\n",
      "\tIPR008280: Tubulin/FtsZ, C-terminal (7 occurrences, 0 expected)\n",
      "\tIPR017975: Tubulin, conserved site (7 occurrences, 0 expected)\n",
      "\tIPR018316: Tubulin/FtsZ, 2-layer sandwich domain (6 occurrences, 0 expected)\n",
      "\tIPR023123: Tubulin, C-terminal (6 occurrences, 0 expected)\n",
      "\tIPR036525: Tubulin/FtsZ, GTPase domain superfamily (7 occurrences, 0 expected)\n",
      "\tIPR004038: Ribosomal protein eL8/eL30/eS12/Gadd45 (2 occurrences, 0 expected)\n",
      "\tIPR029030: Caspase-like domain superfamily (2 occurrences, 0 expected)\n",
      "\tIPR047575: Sm domain (6 occurrences, 0 expected)\n",
      "\tIPR045860: Snake toxin-like superfamily (6 occurrences, 0 expected)\n",
      "\tIPR009053: Prefoldin (3 occurrences, 0 expected)\n",
      "\tIPR002413: Venom allergen 5-like (5 occurrences, 0 expected)\n",
      "\tIPR013780: Glycosyl hydrolase, all-beta (8 occurrences, 1 expected)\n",
      "\tIPR001163: Sm domain, eukaryotic/archaea-type (6 occurrences, 1 expected)\n",
      "\tIPR036875: Zinc finger, CCHC-type superfamily (3 occurrences, 0 expected)\n",
      "\tIPR006629: LPS-induced tumour necrosis factor alpha factor (3 occurrences, 0 expected)\n",
      "\tIPR037519: LITAF domain containing protein (3 occurrences, 0 expected)\n",
      "\tIPR001222: Zinc finger, TFIIS-type (2 occurrences, 0 expected)\n",
      "\tIPR008991: Translation protein SH3-like domain superfamily (4 occurrences, 0 expected)\n",
      "\tIPR010920: LSM domain superfamily (6 occurrences, 1 expected)\n",
      "\tIPR000626: Ubiquitin-like domain (6 occurrences, 1 expected)\n",
      "\tIPR021712: Uncharacterised domain UPF0506 (4 occurrences, 0 expected)\n",
      "\tIPR001568: Ribonuclease T2-like (2 occurrences, 0 expected)\n",
      "\tIPR033130: Ribonuclease T2, His active site 2 (2 occurrences, 0 expected)\n",
      "\tIPR036430: Ribonuclease T2-like superfamily (2 occurrences, 0 expected)\n",
      "\tIPR017853: Glycoside hydrolase superfamily (11 occurrences, 1 expected)\n",
      "\tIPR002223: Pancreatic trypsin inhibitor Kunitz domain (5 occurrences, 1 expected)\n",
      "\tIPR036880: Pancreatic trypsin inhibitor Kunitz domain superfamily (5 occurrences, 1 expected)\n",
      "\tIPR048684: Conserved oligomeric Golgi complex subunit 4, C-terminal (2 occurrences, 0 expected)\n",
      "\tIPR014044: CAP domain (9 occurrences, 1 expected)\n",
      "\tIPR035940: CAP superfamily (9 occurrences, 1 expected)\n",
      "\tIPR001283: Cysteine-rich secretory protein-related (8 occurrences, 1 expected)\n",
      "\tIPR011001: Saposin-like (3 occurrences, 1 expected)\n",
      "\tIPR000467: G-patch domain (3 occurrences, 1 expected)\n",
      "\n",
      "InterPro accessions occurring as expected in missed transcripts with high frequency:\n",
      "\tIPR020568: Ribosomal protein uS5 domain 2-type superfamily (1 occurrences)\n",
      "\tIPR009060: UBA-like superfamily (1 occurrences)\n",
      "\tIPR001452: SH3 domain (2 occurrences)\n",
      "\tIPR018499: Tetraspanin/Peripherin (3 occurrences)\n",
      "\tIPR001781: Zinc finger, LIM-type (1 occurrences)\n",
      "\tIPR000980: SH2 domain (1 occurrences)\n",
      "\tIPR036860: SH2 domain superfamily (1 occurrences)\n",
      "\tIPR000276: G protein-coupled receptor, rhodopsin-like (5 occurrences)\n",
      "\tIPR017452: GPCR, rhodopsin-like, 7TM (5 occurrences)\n",
      "\tIPR011012: Longin-like domain superfamily (1 occurrences)\n",
      "\tIPR000152: EGF-type aspartate/asparagine hydroxylation site (1 occurrences)\n",
      "\tIPR001881: EGF-like calcium-binding domain (1 occurrences)\n",
      "\tIPR009030: Growth factor receptor cysteine-rich domain superfamily (1 occurrences)\n",
      "\tIPR036388: Winged helix-like DNA-binding domain superfamily (3 occurrences)\n",
      "\tIPR036390: Winged helix DNA-binding domain superfamily (2 occurrences)\n",
      "\tIPR006029: Neurotransmitter-gated ion-channel transmembrane domain (1 occurrences)\n",
      "\tIPR006201: Neurotransmitter-gated ion-channel (1 occurrences)\n",
      "\tIPR006202: Neurotransmitter-gated ion-channel ligand-binding domain (1 occurrences)\n",
      "\tIPR018000: Neurotransmitter-gated ion-channel, conserved site (1 occurrences)\n",
      "\tIPR036719: Neurotransmitter-gated ion-channel transmembrane domain superfamily (1 occurrences)\n",
      "\tIPR036734: Neurotransmitter-gated ion-channel ligand-binding domain superfamily (1 occurrences)\n",
      "\tIPR038050: Neuronal acetylcholine receptor (1 occurrences)\n",
      "\tIPR023214: HAD superfamily (2 occurrences)\n",
      "\tIPR036412: HAD-like superfamily (2 occurrences)\n",
      "\tIPR001715: Calponin homology domain (1 occurrences)\n",
      "\tIPR036872: CH domain superfamily (1 occurrences)\n",
      "\tIPR014756: Immunoglobulin E-set (1 occurrences)\n",
      "\tIPR001623: DnaJ domain (1 occurrences)\n",
      "\tIPR036869: Chaperone J-domain superfamily (1 occurrences)\n",
      "\tIPR036915: Cyclin-like superfamily (1 occurrences)\n",
      "\tIPR009000: Translation protein, beta-barrel domain superfamily (1 occurrences)\n",
      "\tIPR001202: WW domain (1 occurrences)\n",
      "\tIPR036020: WW domain superfamily (1 occurrences)\n",
      "\tIPR008952: Tetraspanin, EC2 domain superfamily (2 occurrences)\n",
      "\tIPR001372: Dynein light chain, type 1/2 (3 occurrences)\n",
      "\tIPR037177: Dynein light chain superfamily (3 occurrences)\n",
      "\tIPR016135: Ubiquitin-conjugating enzyme/RWD-like (2 occurrences)\n",
      "\tIPR001806: Small GTPase (2 occurrences)\n",
      "\tIPR005225: Small GTP-binding protein domain (3 occurrences)\n",
      "\tIPR001611: Leucine-rich repeat (3 occurrences)\n",
      "\tIPR003591: Leucine-rich repeat, typical subtype (1 occurrences)\n",
      "\tIPR032675: Leucine-rich repeat domain superfamily (3 occurrences)\n",
      "\tIPR000387: Tyrosine-specific protein phosphatases domain (1 occurrences)\n",
      "\tIPR003595: Protein-tyrosine phosphatase, catalytic (1 occurrences)\n",
      "\tIPR016130: Protein-tyrosine phosphatase, active site (1 occurrences)\n",
      "\tIPR020422: Dual specificity protein phosphatase domain (1 occurrences)\n",
      "\tIPR016187: C-type lectin fold (1 occurrences)\n",
      "\tIPR046341: SET domain superfamily (1 occurrences)\n",
      "\tIPR000884: Thrombospondin type-1 (TSP1) repeat (1 occurrences)\n",
      "\tIPR036383: Thrombospondin type-1 (TSP1) repeat superfamily (1 occurrences)\n",
      "\tIPR000961: AGC-kinase, C-terminal (1 occurrences)\n",
      "\tIPR004827: Basic-leucine zipper domain (1 occurrences)\n",
      "\tIPR029055: Nucleophile aminohydrolases, N-terminal (1 occurrences)\n",
      "\tIPR008978: HSP20-like chaperone (1 occurrences)\n",
      "\tIPR013320: Concanavalin A-like lectin/glucanase domain superfamily (1 occurrences)\n",
      "\tIPR001752: Kinesin motor domain (1 occurrences)\n",
      "\tIPR036961: Kinesin motor domain superfamily (1 occurrences)\n",
      "\tIPR037104: Annexin superfamily (1 occurrences)\n",
      "\tIPR002126: Cadherin-like (1 occurrences)\n",
      "\tIPR020894: Cadherin conserved site (1 occurrences)\n",
      "\tIPR013785: Aldolase-type TIM barrel (1 occurrences)\n",
      "\tIPR045864: Class II Aminoacyl-tRNA synthetase/Biotinyl protein ligase (BPL) and lipoyl protein ligase (LPL) (1 occurrences)\n",
      "\n",
      "InterPro accessions occurring less frequently in missed transcripts than expected:\n",
      "\tIPR013783: Immunoglobulin-like fold (1 occurrences, 6 expected)\n",
      "\tIPR027417: P-loop containing nucleoside triphosphate hydrolase (7 occurrences, 21 expected)\n",
      "\tIPR015943: WD40/YVTN repeat-like-containing domain superfamily (3 occurrences, 9 expected)\n",
      "\tIPR011009: Protein kinase-like domain superfamily (3 occurrences, 11 expected)\n",
      "\tIPR000719: Protein kinase domain (2 occurrences, 10 expected)\n",
      "\tIPR013083: Zinc finger, RING/FYVE/PHD-type (1 occurrences, 7 expected)\n",
      "\n"
     ]
    }
   ],
   "source": [
    "interpro_accessions_in_missed_transcripts(flatten_nested_dict(acc_product), acc_tally_missed_helixer, acc_tally_novel_helixer, helixer_missed_results, helixer_novel_results, min_freq=1)"
   ]
  },
  {
   "cell_type": "markdown",
   "metadata": {},
   "source": [
    "### Anno"
   ]
  },
  {
   "cell_type": "code",
   "execution_count": 29,
   "metadata": {},
   "outputs": [],
   "source": [
    "acc_tally_shared_anno, acc_tally_missed_anno, acc_tally_novel_anno, missed_transcripts = interpro_accession_pipeline(db, og_df, wbps_col, anno_col, interproscan_dir)\n",
    "_, acc_tally_missed_anno_unassigned, acc_tally_novel_anno_unassigned, _ = interpro_accession_pipeline(db, no_og_df, wbps_col, anno_col, os.path.join(interproscan_dir, \"unassigned_genes\"))\n",
    "acc_tally_missed_anno += acc_tally_missed_anno_unassigned\n",
    "acc_tally_novel_anno += acc_tally_novel_anno_unassigned\n",
    "\n",
    "# Find InterPro accessions occurring with significantly different frequency than in control (acc_tally_shared_anno)\n",
    "anno_novel_results = fisher_exact_for_two_lists_of_accessions(acc_tally_novel_anno, acc_tally_shared_anno + acc_tally_missed_anno)\n",
    "anno_missed_results = fisher_exact_for_two_lists_of_accessions(acc_tally_missed_anno, acc_tally_shared_anno + acc_tally_novel_anno)"
   ]
  },
  {
   "cell_type": "code",
   "execution_count": 30,
   "metadata": {},
   "outputs": [
    {
     "name": "stdout",
     "output_type": "stream",
     "text": [
      "InterPro accessions occurring with significantly higher frequency in novel transcripts than in shared transcripts:\n",
      "\tIPR001995: Peptidase A2A, retrovirus, catalytic (2 occurrences, 0 expected)\n",
      "\tIPR043128: Reverse transcriptase/Diguanylate cyclase domain (5 occurrences, 0 expected)\n",
      "\tIPR000477: Reverse transcriptase domain (4 occurrences, 0 expected)\n",
      "\tIPR027080: Protein Unc-13 (2 occurrences, 0 expected)\n",
      "\tIPR007081: RNA polymerase Rpb1, domain 5 (2 occurrences, 0 expected)\n",
      "\tIPR043502: DNA/RNA polymerase superfamily (6 occurrences, 0 expected)\n",
      "\tIPR005479: Carbamoyl-phosphate synthetase large subunit-like, ATP-binding domain (2 occurrences, 0 expected)\n",
      "\tIPR033749: Polyprenyl synthetase, conserved site (2 occurrences, 0 expected)\n",
      "\tIPR045867: DNA-directed RNA polymerase, subunit beta-prime (2 occurrences, 0 expected)\n",
      "\tIPR038207: DIX domain superfamily (2 occurrences, 0 expected)\n",
      "\tIPR001158: DIX domain (2 occurrences, 0 expected)\n",
      "\tIPR016185: Pre-ATP-grasp domain superfamily (2 occurrences, 0 expected)\n",
      "\tIPR043154: Sec1-like, domain 1 (2 occurrences, 0 expected)\n",
      "\tIPR036045: Sec1-like superfamily (2 occurrences, 0 expected)\n",
      "\tIPR008949: Isoprenoid synthase domain superfamily (2 occurrences, 0 expected)\n",
      "\tIPR048684: Conserved oligomeric Golgi complex subunit 4, C-terminal (2 occurrences, 0 expected)\n",
      "\tIPR036430: Ribonuclease T2-like superfamily (2 occurrences, 0 expected)\n",
      "\tIPR021109: Aspartic peptidase domain superfamily (3 occurrences, 0 expected)\n",
      "\tIPR011761: ATP-grasp fold (2 occurrences, 0 expected)\n",
      "\tIPR001300: Peptidase C2, calpain, catalytic domain (2 occurrences, 0 expected)\n",
      "\tIPR000306: FYVE zinc finger (3 occurrences, 0 expected)\n",
      "\tIPR037272: Sodium:neurotransmitter symporter superfamily (3 occurrences, 0 expected)\n",
      "\tIPR000175: Sodium:neurotransmitter symporter (3 occurrences, 0 expected)\n",
      "\tIPR036880: Pancreatic trypsin inhibitor Kunitz domain superfamily (3 occurrences, 1 expected)\n",
      "\tIPR002223: Pancreatic trypsin inhibitor Kunitz domain (3 occurrences, 1 expected)\n",
      "\tIPR002126: Cadherin-like (7 occurrences, 2 expected)\n",
      "\tIPR023298: P-type ATPase, transmembrane domain superfamily (3 occurrences, 1 expected)\n",
      "\tIPR015919: Cadherin-like superfamily (7 occurrences, 2 expected)\n",
      "\tIPR003599: Immunoglobulin subtype (9 occurrences, 2 expected)\n",
      "\tIPR020894: Cadherin conserved site (6 occurrences, 2 expected)\n",
      "\tIPR018490: Cyclic nucleotide-binding domain superfamily (4 occurrences, 1 expected)\n",
      "\tIPR000595: Cyclic nucleotide-binding domain (4 occurrences, 1 expected)\n",
      "\tIPR036179: Immunoglobulin-like domain superfamily (10 occurrences, 3 expected)\n",
      "\tIPR007110: Immunoglobulin-like domain (10 occurrences, 3 expected)\n",
      "\tIPR000387: Tyrosine-specific protein phosphatases domain (4 occurrences, 1 expected)\n",
      "\tIPR036259: MFS transporter superfamily (9 occurrences, 3 expected)\n",
      "\tIPR036770: Ankyrin repeat-containing domain superfamily (9 occurrences, 3 expected)\n",
      "\tIPR013783: Immunoglobulin-like fold (13 occurrences, 5 expected)\n",
      "\tIPR002110: Ankyrin repeat (8 occurrences, 3 expected)\n",
      "\n",
      "InterPro accessions that are completely missing from shared transcripts, with high frequency in novel transcripts:\n",
      "\tIPR050174: Protocadherin/Cadherin-related Cell Adhesion (5 occurrences)\n",
      "\tIPR051877: Centriole and Basal Body Structural Protein (3 occurrences)\n",
      "\tIPR050098: Kunitz-type Serine Protease Inhibitor (2 occurrences)\n",
      "\tIPR050599: Voltage-dependent calcium channel alpha-1 subunit (2 occurrences)\n",
      "\tIPR050951: Retrovirus-related Pol polyprotein (2 occurrences)\n",
      "\tIPR050327: Proton-linked Monocarboxylate Transporter (2 occurrences)\n",
      "\tIPR050122: Receptor Tyrosine Kinase (2 occurrences)\n",
      "\tIPR051131: NEK Ser/Thr protein kinase family, NIMA subfamily (2 occurrences)\n",
      "\tIPR050382: Major Facilitator Superfamily Sodium/Anion Cotransporter (2 occurrences)\n",
      "\tIPR050302: Rab GTPase-activating TBC domain-containing protein (2 occurrences)\n",
      "\tIPR050216: Leucine-rich repeat domain-containing protein (2 occurrences)\n",
      "\tIPR052993: Cilia- and flagella-associated protein 57 (2 occurrences)\n",
      "\tIPR050927: Transient receptor potential cation channel M (2 occurrences)\n",
      "\tIPR051835: RAC1-specific guanine nucleotide exchange factor (2 occurrences)\n",
      "\tIPR050217: Thiol-specific antioxidant peroxiredoxin (1 occurrences)\n",
      "\tIPR031703: Lipin, middle domain (1 occurrences)\n",
      "\tIPR036906: ATPase, V1 complex, subunit F superfamily (1 occurrences)\n",
      "\tIPR008218: ATPase, V1 complex, subunit F (1 occurrences)\n",
      "\tIPR019186: Nucleolar protein 12 (1 occurrences)\n",
      "\tIPR019269: Biogenesis of lysosome-related organelles complex-1, subunit 2 (1 occurrences)\n",
      "\tIPR050964: Striated Muscle Structural and Regulatory Protein (1 occurrences)\n",
      "\tIPR053025: Mitochondrial ATP Synthase-Associated (1 occurrences)\n",
      "\tIPR028119: Snapin/Pallidin/Snn1 (1 occurrences)\n",
      "\tIPR002056: Protein import receptor MAS20 (1 occurrences)\n",
      "\tIPR023392: Mitochondrial outer membrane translocase complex, Tom20 domain superfamily (1 occurrences)\n",
      "\tIPR022422: Protein import receptor MAS20, metazoan (1 occurrences)\n",
      "\tIPR041577: Reverse transcriptase/retrotransposon-derived protein, RNase H-like domain (1 occurrences)\n",
      "\tIPR051165: Multifunctional Ankyrin Repeat Domain-Containing Protein (1 occurrences)\n",
      "\tIPR051783: NAD(P)-dependent Metabolic Enzyme (1 occurrences)\n",
      "\tIPR015816: Vitellinogen, beta-sheet N-terminal (1 occurrences)\n",
      "\tIPR050733: Vitellogenin/Apolipophorin (1 occurrences)\n",
      "\tIPR050668: Cytochrome b5 (1 occurrences)\n",
      "\tIPR016818: Nitric oxide synthase-interacting protein (1 occurrences)\n",
      "\tIPR031790: Nitric oxide synthase-interacting protein, zinc-finger (1 occurrences)\n",
      "\tIPR028064: Transmembrane protein 154 (1 occurrences)\n",
      "\tIPR050758: Zinc finger protein, C2H2-type (1 occurrences)\n",
      "\tIPR050379: Type I Cytokine Receptor (1 occurrences)\n",
      "\tIPR029248: Transmembrane protein 107 (1 occurrences)\n",
      "\tIPR045609: Domain of unknown function DUF6451 (1 occurrences)\n",
      "\tIPR050989: Rap1/Ran GTPase-activating (1 occurrences)\n",
      "\tIPR017067: Ribonuclease H1, eukaryote (1 occurrences)\n",
      "\tIPR035566: Ribosomal protein bL20, C-terminal (1 occurrences)\n",
      "\tIPR005813: Large ribosomal subunit protein bL20 (1 occurrences)\n",
      "\tIPR007242: Ubiquitin-like protein Atg12 (1 occurrences)\n",
      "\tIPR040459: MJ1316 RNA cyclic group end recognition domain (1 occurrences)\n",
      "\tIPR050561: Protein Tyrosine Phosphatase (1 occurrences)\n",
      "\tIPR053040: Leucine-rich repeat-containing protein 71 (1 occurrences)\n",
      "\tIPR029681: Coiled-coil domain-containing protein 157 (1 occurrences)\n",
      "\tIPR034128: K02A2.6-like peptidase catalytic domain (1 occurrences)\n",
      "\tIPR018552: Centromere protein X (1 occurrences)\n",
      "\tIPR053134: RNA-directed DNA polymerase homolog (1 occurrences)\n",
      "\tIPR052066: Glycosphingolipid Hydrolyzing Enzymes (1 occurrences)\n",
      "\tIPR028325: Voltage-gated potassium channel (1 occurrences)\n",
      "\tIPR051177: Catalytically Inactive Kinase-Related Protein (1 occurrences)\n",
      "\tIPR051857: Asparagine synthetase domain-containing protein (1 occurrences)\n",
      "\tIPR051569: SH3 and multiple ankyrin repeat domains protein (1 occurrences)\n",
      "\tIPR050348: Protein-Tyrosine Phosphatase (1 occurrences)\n",
      "\tIPR050699: RNA/DNA Helicase (1 occurrences)\n",
      "\tIPR053003: TRIM/RBCC E3 ubiquitin-protein ligases (1 occurrences)\n",
      "\tIPR049883: NOTCH1 EGF-like calcium-binding domain (1 occurrences)\n",
      "\tIPR050751: Extracellular matrix structural protein (1 occurrences)\n",
      "\tIPR050209: Rab GTPases family involved in membrane trafficking (1 occurrences)\n",
      "\tIPR050503: cAMP-dependent kinase regulatory chain (1 occurrences)\n",
      "\tIPR051280: Voltage-gated chloride channel/antiporter (1 occurrences)\n",
      "\tIPR050185: Ubiquitin carboxyl-terminal hydrolase (1 occurrences)\n",
      "\tIPR050717: C2H2-type Zinc-Finger Transcription Regulators (1 occurrences)\n",
      "\tIPR051281: Dual-specificity lipid and protein phosphatase (1 occurrences)\n",
      "\tIPR051944: BEACH domain-containing protein (1 occurrences)\n",
      "\tIPR042635: MEGF10/SREC1/2-like (1 occurrences)\n",
      "\tIPR050745: Multifunctional regulatory proteins (1 occurrences)\n",
      "\tIPR050836: SDS22/Internalin LRR-containing (1 occurrences)\n",
      "\tIPR051739: Rhomboid-related Intramembrane Serine Proteases (1 occurrences)\n",
      "\tIPR051025: Rho GTPase-activating (1 occurrences)\n",
      "\tIPR054429: Muscleblind-like, CCCH zinc finger (1 occurrences)\n",
      "\tIPR050527: Snail/Krueppel C2H2-type Zinc-finger (1 occurrences)\n",
      "\tIPR052311: MMS22L-TONSL complex component (1 occurrences)\n",
      "\tIPR050198: Non-receptor tyrosine kinases involved in cell signaling (1 occurrences)\n",
      "\tIPR052093: Homologous Recombination Repair Mediator (1 occurrences)\n",
      "\tIPR052954: GPCR_Ligand_Interaction (1 occurrences)\n",
      "\tIPR053879: HYDIN/VesB/CFA65-like, Ig-like domain (1 occurrences)\n",
      "\tIPR050866: Cyclic nucleotide-gated cation channel (1 occurrences)\n",
      "\tIPR051092: FYVE, RhoGEF and PH domain-containing (1 occurrences)\n",
      "\tIPR050149: Collagen superfamily (1 occurrences)\n",
      "\tIPR051070: NF-kappa-B Inhibitor (1 occurrences)\n",
      "\tIPR051519: PDE6D/unc-119 myristoyl-binding (1 occurrences)\n",
      "\tIPR053014: Cuticle-associated divergent protein (1 occurrences)\n",
      "\tIPR052208: DmX-like/RAVE complex component (1 occurrences)\n",
      "\tIPR050776: Ankyrin Repeat and Cyclin-Dependent Kinase Inhibitor (1 occurrences)\n",
      "\tIPR050440: Laminin/Netrin Extracellular Matrix (1 occurrences)\n",
      "\tIPR051738: Scaffold Attachment Factor and Modulators (1 occurrences)\n",
      "\tIPR052434: Tectonic-like complex component protein (1 occurrences)\n",
      "\tIPR050116: DNA polymerase type-Y (1 occurrences)\n",
      "\tIPR052403: LINC complex-associated protein (1 occurrences)\n",
      "\tIPR050818: Voltage-gated potassium channel family H (1 occurrences)\n",
      "\tIPR051337: Organophosphate:Pi Antiporter (1 occurrences)\n",
      "\tIPR050886: RNA-binding_regulatory_proteins (1 occurrences)\n",
      "\tIPR051382: Cytochrome P450 Amino Acid/Fatty Acid Hydroxylases (1 occurrences)\n",
      "\tIPR051093: Neuroligin and Bile salt-activated lipase (1 occurrences)\n",
      "\tIPR038441: THAP-type zinc finger superfamily (1 occurrences)\n",
      "\tIPR052224: THAP domain-containing protein (1 occurrences)\n",
      "\tIPR036366: PGBD superfamily (1 occurrences)\n",
      "\tIPR050342: High Mobility Group Box (HMGB) (1 occurrences)\n",
      "\tIPR004323: Divalent ion tolerance protein, CutA (1 occurrences)\n",
      "\tIPR011322: Nitrogen regulatory PII-like, alpha/beta (1 occurrences)\n",
      "\tIPR000077: Large ribosomal subunit protein eL39 (1 occurrences)\n",
      "\tIPR023626: Large ribosomal subunit protein eL39 domain superfamily (1 occurrences)\n",
      "\n"
     ]
    },
    {
     "data": {
      "text/plain": [
       "['IPR001995',\n",
       " 'IPR043128',\n",
       " 'IPR000477',\n",
       " 'IPR027080',\n",
       " 'IPR007081',\n",
       " 'IPR043502',\n",
       " 'IPR005479',\n",
       " 'IPR033749',\n",
       " 'IPR045867',\n",
       " 'IPR038207',\n",
       " 'IPR001158',\n",
       " 'IPR016185',\n",
       " 'IPR043154',\n",
       " 'IPR036045',\n",
       " 'IPR008949',\n",
       " 'IPR048684',\n",
       " 'IPR036430',\n",
       " 'IPR021109',\n",
       " 'IPR011761',\n",
       " 'IPR001300',\n",
       " 'IPR000306',\n",
       " 'IPR037272',\n",
       " 'IPR000175',\n",
       " 'IPR036880',\n",
       " 'IPR002223',\n",
       " 'IPR002126',\n",
       " 'IPR023298',\n",
       " 'IPR015919',\n",
       " 'IPR003599',\n",
       " 'IPR020894',\n",
       " 'IPR018490',\n",
       " 'IPR000595',\n",
       " 'IPR036179',\n",
       " 'IPR007110',\n",
       " 'IPR000387',\n",
       " 'IPR036259',\n",
       " 'IPR036770',\n",
       " 'IPR013783',\n",
       " 'IPR002110',\n",
       " 'IPR050174',\n",
       " 'IPR051877',\n",
       " 'IPR050098',\n",
       " 'IPR050599',\n",
       " 'IPR050951',\n",
       " 'IPR050327',\n",
       " 'IPR050122',\n",
       " 'IPR051131',\n",
       " 'IPR050382',\n",
       " 'IPR050302',\n",
       " 'IPR050216',\n",
       " 'IPR052993',\n",
       " 'IPR050927',\n",
       " 'IPR051835',\n",
       " 'IPR050217',\n",
       " 'IPR031703',\n",
       " 'IPR036906',\n",
       " 'IPR008218',\n",
       " 'IPR019186',\n",
       " 'IPR019269',\n",
       " 'IPR050964',\n",
       " 'IPR053025',\n",
       " 'IPR028119',\n",
       " 'IPR002056',\n",
       " 'IPR023392',\n",
       " 'IPR022422',\n",
       " 'IPR041577',\n",
       " 'IPR051165',\n",
       " 'IPR051783',\n",
       " 'IPR015816',\n",
       " 'IPR050733',\n",
       " 'IPR050668',\n",
       " 'IPR016818',\n",
       " 'IPR031790',\n",
       " 'IPR028064',\n",
       " 'IPR050758',\n",
       " 'IPR050379',\n",
       " 'IPR029248',\n",
       " 'IPR045609',\n",
       " 'IPR050989',\n",
       " 'IPR017067',\n",
       " 'IPR035566',\n",
       " 'IPR005813',\n",
       " 'IPR007242',\n",
       " 'IPR040459',\n",
       " 'IPR050561',\n",
       " 'IPR053040',\n",
       " 'IPR029681',\n",
       " 'IPR034128',\n",
       " 'IPR018552',\n",
       " 'IPR053134',\n",
       " 'IPR052066',\n",
       " 'IPR028325',\n",
       " 'IPR051177',\n",
       " 'IPR051857',\n",
       " 'IPR051569',\n",
       " 'IPR050348',\n",
       " 'IPR050699',\n",
       " 'IPR053003',\n",
       " 'IPR049883',\n",
       " 'IPR050751',\n",
       " 'IPR050209',\n",
       " 'IPR050503',\n",
       " 'IPR051280',\n",
       " 'IPR050185',\n",
       " 'IPR050717',\n",
       " 'IPR051281',\n",
       " 'IPR051944',\n",
       " 'IPR042635',\n",
       " 'IPR050745',\n",
       " 'IPR050836',\n",
       " 'IPR051739',\n",
       " 'IPR051025',\n",
       " 'IPR054429',\n",
       " 'IPR050527',\n",
       " 'IPR052311',\n",
       " 'IPR050198',\n",
       " 'IPR052093',\n",
       " 'IPR052954',\n",
       " 'IPR053879',\n",
       " 'IPR050866',\n",
       " 'IPR051092',\n",
       " 'IPR050149',\n",
       " 'IPR051070',\n",
       " 'IPR051519',\n",
       " 'IPR053014',\n",
       " 'IPR052208',\n",
       " 'IPR050776',\n",
       " 'IPR050440',\n",
       " 'IPR051738',\n",
       " 'IPR052434',\n",
       " 'IPR050116',\n",
       " 'IPR052403',\n",
       " 'IPR050818',\n",
       " 'IPR051337',\n",
       " 'IPR050886',\n",
       " 'IPR051382',\n",
       " 'IPR051093',\n",
       " 'IPR038441',\n",
       " 'IPR052224',\n",
       " 'IPR036366',\n",
       " 'IPR050342',\n",
       " 'IPR004323',\n",
       " 'IPR011322',\n",
       " 'IPR000077',\n",
       " 'IPR023626']"
      ]
     },
     "execution_count": 30,
     "metadata": {},
     "output_type": "execute_result"
    }
   ],
   "source": [
    "list(interpro_accessions_in_novel_transcripts(flatten_nested_dict(acc_product), acc_tally_novel_anno, anno_novel_results, min_freq=1))"
   ]
  },
  {
   "cell_type": "code",
   "execution_count": 31,
   "metadata": {},
   "outputs": [
    {
     "name": "stdout",
     "output_type": "stream",
     "text": [
      "InterPro accessions that are completely missing from shared transcripts, with high frequency in missed transcripts:\n",
      "\n",
      "InterPro accessions occurring with significantly higher frequency in missed transcripts than in shared transcripts:\n",
      "\tIPR009003: Peptidase S1, PA clan (22 occurrences, 0 expected)\n",
      "\tIPR001254: Serine proteases, trypsin domain (20 occurrences, 0 expected)\n",
      "\tIPR043504: Peptidase S1, PA clan, chymotrypsin-like fold (20 occurrences, 0 expected)\n",
      "\n",
      "InterPro accessions occurring as expected in missed transcripts with high frequency:\n",
      "\n",
      "InterPro accessions occurring less frequently in missed transcripts than expected:\n",
      "\tIPR000719: Protein kinase domain (1 occurrences, 7 expected)\n",
      "\tIPR011009: Protein kinase-like domain superfamily (2 occurrences, 8 expected)\n",
      "\tIPR027417: P-loop containing nucleoside triphosphate hydrolase (6 occurrences, 14 expected)\n",
      "\n"
     ]
    }
   ],
   "source": [
    "interpro_accessions_in_missed_transcripts(flatten_nested_dict(acc_product), acc_tally_missed_anno, acc_tally_novel_anno, anno_missed_results, anno_novel_results, min_freq)"
   ]
  },
  {
   "cell_type": "markdown",
   "metadata": {},
   "source": [
    "### General"
   ]
  },
  {
   "cell_type": "markdown",
   "metadata": {},
   "source": [
    "Find accessions that are significantly commonly missed by **all** tools"
   ]
  },
  {
   "cell_type": "code",
   "execution_count": 32,
   "metadata": {},
   "outputs": [],
   "source": [
    "acc_tally_no_tool, acc_tally_one_plus_tool_shared, acc_tally_one_plus_tool_novel = interpro_accession_pipeline_all_tools(\n",
    "    wbps_species,\n",
    "    og_df,\n",
    "    wbps_col,\n",
    "    [braker_col, helixer_col, anno_col],\n",
    "    interproscan_dir\n",
    ")\n",
    "\n",
    "acc_tally_no_tool_unassigned, _, acc_tally_one_plus_tool_novel_unassigned = interpro_accession_pipeline_all_tools(\n",
    "    wbps_species,\n",
    "    no_og_df,\n",
    "    wbps_col,\n",
    "    [braker_col, helixer_col, anno_col],\n",
    "    os.path.join(interproscan_dir, \"unassigned_genes\")\n",
    ")\n",
    "acc_tally_no_tool += acc_tally_no_tool_unassigned\n",
    "acc_tally_one_plus_tool_novel += acc_tally_one_plus_tool_novel_unassigned\n",
    "\n",
    "no_tools_results = fisher_exact_for_two_lists_of_accessions(acc_tally_no_tool, acc_tally_one_plus_tool_shared + acc_tally_one_plus_tool_novel)\n",
    "only_tools_results = fisher_exact_for_two_lists_of_accessions(acc_tally_one_plus_tool_novel, acc_tally_one_plus_tool_shared + acc_tally_no_tool)"
   ]
  },
  {
   "cell_type": "code",
   "execution_count": 36,
   "metadata": {},
   "outputs": [
    {
     "name": "stdout",
     "output_type": "stream",
     "text": [
      "{'more_frequent': {'IPR021109': [11.860385731353473, 4.709663083007144e-07], 'IPR001995': [56.77794793261868, 8.927868241734657e-05]}, 'as_expected': {}, 'less_frequent': {}, 'not_occurring': []}\n",
      "{'more_frequent': {}, 'as_expected': {}, 'less_frequent': {}, 'not_occurring': []}\n"
     ]
    }
   ],
   "source": [
    "def is_AP(item):\n",
    "    return item[0] in ASPARTIC_PEPTIDASE_SUPERFAMILY\n",
    "\n",
    "def filter_results_for_AP(results):\n",
    "    output = {}\n",
    "    for k, v in results.items():\n",
    "        try:\n",
    "            output[k] = dict(filter(is_AP, v.items()))\n",
    "        except AttributeError:\n",
    "            output[k] = list(filter(is_AP, v))\n",
    "    return output\n",
    "\n",
    "only_tools_results_AP = filter_results_for_AP(only_tools_results)\n",
    "no_tools_results_AP = filter_results_for_AP(no_tools_results)\n",
    "print(only_tools_results_AP)\n",
    "print(no_tools_results_AP)"
   ]
  },
  {
   "cell_type": "code",
   "execution_count": 43,
   "metadata": {},
   "outputs": [
    {
     "name": "stdout",
     "output_type": "stream",
     "text": [
      "InterPro accessions occurring with significantly higher frequency in novel transcripts than in shared transcripts:\n",
      "\tIPR001995: Peptidase A2A, retrovirus, catalytic (4 occurrences, 0 expected)\n",
      "\tIPR000477: Reverse transcriptase domain (13 occurrences, 0 expected)\n",
      "\tIPR043128: Reverse transcriptase/Diguanylate cyclase domain (9 occurrences, 0 expected)\n",
      "\tIPR029008: ER membrane protein complex subunit 6-like (3 occurrences, 0 expected)\n",
      "\tIPR013209: Lipin/Ned1/Smp2 (LNS2) (3 occurrences, 0 expected)\n",
      "\tIPR007651: Lipin, N-terminal (3 occurrences, 0 expected)\n",
      "\tIPR006139: D-isomer specific 2-hydroxyacid dehydrogenase, catalytic domain (3 occurrences, 0 expected)\n",
      "\tIPR006140: D-isomer specific 2-hydroxyacid dehydrogenase, NAD-binding domain (3 occurrences, 0 expected)\n",
      "\tIPR023509: D-aminoacyl-tRNA deacylase-like superfamily (3 occurrences, 0 expected)\n",
      "\tIPR003732: D-aminoacyl-tRNA deacylase DTD (3 occurrences, 0 expected)\n",
      "\tIPR011387: Translation initiation factor 2A (2 occurrences, 0 expected)\n",
      "\tIPR011030: Lipovitellin-phosvitin complex, superhelical domain (2 occurrences, 0 expected)\n",
      "\tIPR001747: Vitellogenin, N-terminal (2 occurrences, 0 expected)\n",
      "\tIPR007233: Trafficking protein particle complex subunit (2 occurrences, 0 expected)\n",
      "\tIPR027120: Smc2, ATP-binding cassette domain (2 occurrences, 0 expected)\n",
      "\tIPR002156: Ribonuclease H domain (2 occurrences, 0 expected)\n",
      "\tIPR040364: Tetratricopeptide repeat protein 21A/21B (2 occurrences, 0 expected)\n",
      "\tIPR000572: Oxidoreductase, molybdopterin-binding domain (2 occurrences, 0 expected)\n",
      "\tIPR036374: Oxidoreductase, molybdopterin-binding domain superfamily (2 occurrences, 0 expected)\n",
      "\tIPR008335: Eukaryotic molybdopterin oxidoreductase (2 occurrences, 0 expected)\n",
      "\tIPR035959: RutC-like superfamily (2 occurrences, 0 expected)\n",
      "\tIPR036748: MTH938-like superfamily (2 occurrences, 0 expected)\n",
      "\tIPR007523: NDUFAF3/Mth938 domain-containing protein (2 occurrences, 0 expected)\n",
      "\tIPR019564: Mitochondrial outer membrane transport complex Sam37/metaxin, N-terminal domain (2 occurrences, 0 expected)\n",
      "\tIPR000998: MAM domain (2 occurrences, 0 expected)\n",
      "\tIPR049629: DPY30/SDC1, dimerization/docking domain (2 occurrences, 0 expected)\n",
      "\tIPR038980: Serine/threonine-protein kinase ATM, plant (2 occurrences, 0 expected)\n",
      "\tIPR043502: DNA/RNA polymerase superfamily (18 occurrences, 1 expected)\n",
      "\tIPR031315: LNS2/PITP (3 occurrences, 0 expected)\n",
      "\tIPR027080: Protein Unc-13 (3 occurrences, 0 expected)\n",
      "\tIPR005479: Carbamoyl-phosphate synthetase large subunit-like, ATP-binding domain (4 occurrences, 0 expected)\n",
      "\tIPR026183: Taxilin family (4 occurrences, 0 expected)\n",
      "\tIPR032815: Peptidase S8, pro-domain (3 occurrences, 0 expected)\n",
      "\tIPR011044: Quinoprotein amine dehydrogenase, beta chain-like (2 occurrences, 0 expected)\n",
      "\tIPR006032: Small ribosomal subunit protein uS12 (2 occurrences, 0 expected)\n",
      "\tIPR018067: Protein phosphatase 2A regulatory subunit PR55, conserved site (2 occurrences, 0 expected)\n",
      "\tIPR013769: Band 3 cytoplasmic domain (2 occurrences, 0 expected)\n",
      "\tIPR008254: Flavodoxin/nitric oxide synthase (2 occurrences, 0 expected)\n",
      "\tIPR029039: Flavoprotein-like superfamily (2 occurrences, 0 expected)\n",
      "\tIPR005446: Voltage-dependent calcium channel, L-type, alpha-1 subunit (2 occurrences, 0 expected)\n",
      "\tIPR042172: Adenosylhomocysteinase-like superfamily (2 occurrences, 0 expected)\n",
      "\tIPR000043: Adenosylhomocysteinase-like (2 occurrences, 0 expected)\n",
      "\tIPR035976: Sushi/SCR/CCP superfamily (2 occurrences, 0 expected)\n",
      "\tIPR023302: Peptidase S9A, N-terminal domain (2 occurrences, 0 expected)\n",
      "\tIPR021109: Aspartic peptidase domain superfamily (10 occurrences, 1 expected)\n",
      "\tIPR013979: Translation initiation factor, beta propellor-like domain (2 occurrences, 0 expected)\n",
      "\tIPR038466: Peptidase S8, pro-domain superfamily (2 occurrences, 0 expected)\n",
      "\tIPR014772: Mammalian uncoordinated homology 13, domain 2 (2 occurrences, 0 expected)\n",
      "\tIPR016152: Phosphotransferase/anion transporter (2 occurrences, 0 expected)\n",
      "\tIPR003020: Bicarbonate transporter, eukaryotic (2 occurrences, 0 expected)\n",
      "\tIPR004240: Nonaspanin (TM9SF) (2 occurrences, 0 expected)\n",
      "\tIPR004130: GPN-loop GTPase (2 occurrences, 0 expected)\n",
      "\tIPR007081: RNA polymerase Rpb1, domain 5 (2 occurrences, 0 expected)\n",
      "\tIPR038207: DIX domain superfamily (3 occurrences, 0 expected)\n",
      "\tIPR001158: DIX domain (3 occurrences, 0 expected)\n",
      "\tIPR048684: Conserved oligomeric Golgi complex subunit 4, C-terminal (4 occurrences, 0 expected)\n",
      "\tIPR011761: ATP-grasp fold (4 occurrences, 1 expected)\n",
      "\tIPR024706: Peroxiredoxin, AhpC-type (3 occurrences, 0 expected)\n",
      "\tIPR000866: Alkyl hydroperoxide reductase subunit C/ Thiol specific antioxidant (3 occurrences, 0 expected)\n",
      "\tIPR001972: Stomatin/HflK family (3 occurrences, 0 expected)\n",
      "\tIPR043202: Band-7 stomatin-like (3 occurrences, 0 expected)\n",
      "\tIPR041228: Dynein heavy chain, C-terminal domain (5 occurrences, 1 expected)\n",
      "\tIPR041658: Dynein heavy chain AAA lid domain (5 occurrences, 1 expected)\n",
      "\tIPR042219: Dynein heavy chain AAA lid domain superfamily (5 occurrences, 1 expected)\n",
      "\tIPR043160: Dynein heavy chain, C-terminal domain, barrel region (5 occurrences, 1 expected)\n",
      "\tIPR023578: Ras guanine nucleotide exchange factor domain superfamily (4 occurrences, 1 expected)\n",
      "\tIPR037104: Annexin superfamily (8 occurrences, 2 expected)\n",
      "\tIPR002223: Pancreatic trypsin inhibitor Kunitz domain (6 occurrences, 1 expected)\n",
      "\tIPR036880: Pancreatic trypsin inhibitor Kunitz domain superfamily (6 occurrences, 1 expected)\n",
      "\tIPR020901: Proteinase inhibitor I2, Kunitz, conserved site (4 occurrences, 1 expected)\n",
      "\tIPR000306: FYVE zinc finger (4 occurrences, 1 expected)\n",
      "\tIPR001547: Glycoside hydrolase, family 5 (4 occurrences, 1 expected)\n",
      "\tIPR026983: Dynein heavy chain (4 occurrences, 1 expected)\n",
      "\tIPR036964: Ras guanine-nucleotide exchange factor, catalytic domain superfamily (3 occurrences, 1 expected)\n",
      "\tIPR003599: Immunoglobulin subtype (17 occurrences, 4 expected)\n",
      "\tIPR036869: Chaperone J-domain superfamily (10 occurrences, 3 expected)\n",
      "\tIPR013098: Immunoglobulin I-set (8 occurrences, 2 expected)\n",
      "\tIPR002126: Cadherin-like (11 occurrences, 3 expected)\n",
      "\tIPR001623: DnaJ domain (9 occurrences, 3 expected)\n",
      "\tIPR012337: Ribonuclease H-like superfamily (6 occurrences, 2 expected)\n",
      "\tIPR015919: Cadherin-like superfamily (11 occurrences, 3 expected)\n",
      "\tIPR003961: Fibronectin type III (10 occurrences, 3 expected)\n",
      "\tIPR020894: Cadherin conserved site (10 occurrences, 3 expected)\n",
      "\tIPR007110: Immunoglobulin-like domain (19 occurrences, 6 expected)\n",
      "\tIPR036116: Fibronectin type III superfamily (10 occurrences, 3 expected)\n",
      "\tIPR036179: Immunoglobulin-like domain superfamily (18 occurrences, 6 expected)\n",
      "\tIPR002347: Short-chain dehydrogenase/reductase SDR (6 occurrences, 2 expected)\n",
      "\tIPR013783: Immunoglobulin-like fold (23 occurrences, 9 expected)\n",
      "\tIPR017853: Glycoside hydrolase superfamily (7 occurrences, 3 expected)\n",
      "\tIPR036770: Ankyrin repeat-containing domain superfamily (14 occurrences, 6 expected)\n",
      "\tIPR002110: Ankyrin repeat (13 occurrences, 6 expected)\n",
      "\tIPR029071: Ubiquitin-like domain superfamily (11 occurrences, 5 expected)\n",
      "\n",
      "InterPro accessions that are completely missing from shared transcripts, with high frequency in novel transcripts:\n",
      "\tIPR050951: Retrovirus-related Pol polyprotein (9 occurrences)\n",
      "\tIPR050174: Protocadherin/Cadherin-related Cell Adhesion (8 occurrences)\n",
      "\tIPR034128: K02A2.6-like peptidase catalytic domain (5 occurrences)\n",
      "\tIPR045609: Domain of unknown function DUF6451 (5 occurrences)\n",
      "\tIPR050098: Kunitz-type Serine Protease Inhibitor (5 occurrences)\n",
      "\tIPR050217: Thiol-specific antioxidant peroxiredoxin (3 occurrences)\n",
      "\tIPR031703: Lipin, middle domain (3 occurrences)\n",
      "\tIPR050209: Rab GTPases family involved in membrane trafficking (3 occurrences)\n",
      "\tIPR008218: ATPase, V1 complex, subunit F (3 occurrences)\n",
      "\tIPR036906: ATPase, V1 complex, subunit F superfamily (3 occurrences)\n",
      "\tIPR019269: Biogenesis of lysosome-related organelles complex-1, subunit 2 (3 occurrences)\n",
      "\tIPR001584: Integrase, catalytic core (3 occurrences)\n",
      "\tIPR041577: Reverse transcriptase/retrotransposon-derived protein, RNase H-like domain (3 occurrences)\n",
      "\tIPR050964: Striated Muscle Structural and Regulatory Protein (3 occurrences)\n",
      "\tIPR051877: Centriole and Basal Body Structural Protein (3 occurrences)\n",
      "\tIPR050283: E-box Binding Transcriptional Regulators (2 occurrences)\n",
      "\tIPR050857: D-isomer specific 2-hydroxyacid dehydrogenases (2 occurrences)\n",
      "\tIPR005772: ATPase, V1 complex, subunit F, eukaryotic (2 occurrences)\n",
      "\tIPR019186: Nucleolar protein 12 (2 occurrences)\n",
      "\tIPR028119: Snapin/Pallidin/Snn1 (2 occurrences)\n",
      "\tIPR022422: Protein import receptor MAS20, metazoan (2 occurrences)\n",
      "\tIPR002056: Protein import receptor MAS20 (2 occurrences)\n",
      "\tIPR023392: Mitochondrial outer membrane translocase complex, Tom20 domain superfamily (2 occurrences)\n",
      "\tIPR051165: Multifunctional Ankyrin Repeat Domain-Containing Protein (2 occurrences)\n",
      "\tIPR015816: Vitellinogen, beta-sheet N-terminal (2 occurrences)\n",
      "\tIPR050733: Vitellogenin/Apolipophorin (2 occurrences)\n",
      "\tIPR054694: E3 ubiquitin-protein ligase parkin-like, IBR domain (2 occurrences)\n",
      "\tIPR041170: RING/Ubox-like zinc-binding domain (2 occurrences)\n",
      "\tIPR003977: E3 ubiquitin-protein ligase parkin (2 occurrences)\n",
      "\tIPR050889: Dendritic Spine Regulation and Scaffold (2 occurrences)\n",
      "\tIPR003377: Cornichon (2 occurrences)\n",
      "\tIPR050668: Cytochrome b5 (2 occurrences)\n",
      "\tIPR031790: Nitric oxide synthase-interacting protein, zinc-finger (2 occurrences)\n",
      "\tIPR016818: Nitric oxide synthase-interacting protein (2 occurrences)\n",
      "\tIPR050758: Zinc finger protein, C2H2-type (2 occurrences)\n",
      "\tIPR029248: Transmembrane protein 107 (2 occurrences)\n",
      "\tIPR005813: Large ribosomal subunit protein bL20 (2 occurrences)\n",
      "\tIPR035566: Ribosomal protein bL20, C-terminal (2 occurrences)\n",
      "\tIPR007242: Ubiquitin-like protein Atg12 (2 occurrences)\n",
      "\tIPR006175: YjgF/YER057c/UK114 family (2 occurrences)\n",
      "\tIPR034096: Mth938 domain-containing protein (2 occurrences)\n",
      "\tIPR053134: RNA-directed DNA polymerase homolog (2 occurrences)\n",
      "\tIPR052066: Glycosphingolipid Hydrolyzing Enzymes (2 occurrences)\n",
      "\tIPR052160: Gypsy Retrotransposon Integrase-like (2 occurrences)\n",
      "\tIPR050599: Voltage-dependent calcium channel alpha-1 subunit (2 occurrences)\n",
      "\tIPR050327: Proton-linked Monocarboxylate Transporter (2 occurrences)\n",
      "\tIPR050122: Receptor Tyrosine Kinase (2 occurrences)\n",
      "\tIPR051131: NEK Ser/Thr protein kinase family, NIMA subfamily (2 occurrences)\n",
      "\tIPR050382: Major Facilitator Superfamily Sodium/Anion Cotransporter (2 occurrences)\n",
      "\tIPR050302: Rab GTPase-activating TBC domain-containing protein (2 occurrences)\n",
      "\tIPR050216: Leucine-rich repeat domain-containing protein (2 occurrences)\n",
      "\tIPR052993: Cilia- and flagella-associated protein 57 (2 occurrences)\n",
      "\tIPR050927: Transient receptor potential cation channel M (2 occurrences)\n",
      "\tIPR051835: RAC1-specific guanine nucleotide exchange factor (2 occurrences)\n",
      "\tIPR050173: ATP-binding cassette transporter C (1 occurrences)\n",
      "\tIPR053025: Mitochondrial ATP Synthase-Associated (1 occurrences)\n",
      "\tIPR053095: Actin-binding & GATA zinc finger domain-containing protein (1 occurrences)\n",
      "\tIPR051783: NAD(P)-dependent Metabolic Enzyme (1 occurrences)\n",
      "\tIPR050274: Nuclear hormone receptor family NR2 subfamily (1 occurrences)\n",
      "\tIPR033466: Cornichon, conserved site (1 occurrences)\n",
      "\tIPR028064: Transmembrane protein 154 (1 occurrences)\n",
      "\tIPR039540: UBL3-like, ubiquitin domain (1 occurrences)\n",
      "\tIPR050379: Type I Cytokine Receptor (1 occurrences)\n",
      "\tIPR050989: Rap1/Ran GTPase-activating (1 occurrences)\n",
      "\tIPR050092: Ribonuclease H (1 occurrences)\n",
      "\tIPR017067: Ribonuclease H1, eukaryote (1 occurrences)\n",
      "\tIPR042653: Leukocyte receptor cluster member 9 (1 occurrences)\n",
      "\tIPR040459: MJ1316 RNA cyclic group end recognition domain (1 occurrences)\n",
      "\tIPR050561: Protein Tyrosine Phosphatase (1 occurrences)\n",
      "\tIPR006056: RidA family (1 occurrences)\n",
      "\tIPR052149: 17-beta-hydroxysteroid dehydrogenase type 3-like (1 occurrences)\n",
      "\tIPR053040: Leucine-rich repeat-containing protein 71 (1 occurrences)\n",
      "\tIPR029681: Coiled-coil domain-containing protein 157 (1 occurrences)\n",
      "\tIPR007404: LexA-binding, inner membrane-associated putative hydrolase (1 occurrences)\n",
      "\tIPR018552: Centromere protein X (1 occurrences)\n",
      "\tIPR034132: Retropepsin Saci-like domain (1 occurrences)\n",
      "\tIPR041373: Reverse transcriptase, RNase H-like domain (1 occurrences)\n",
      "\tIPR052652: Telomerase Complex Component (1 occurrences)\n",
      "\tIPR041588: Integrase zinc-binding domain (1 occurrences)\n",
      "\tIPR051631: Ankyrin repeat and KH/SAM domain-containing protein (1 occurrences)\n",
      "\tIPR052269: Golgi apparatus maintenance and PI4KB interaction protein (1 occurrences)\n",
      "\tIPR024445: ISXO2-like transposase domain (1 occurrences)\n",
      "\tIPR050235: Casein Kinase 1 Ser/Thr Protein Kinase (1 occurrences)\n",
      "\tIPR042237: Putative peptidyl-tRNA hydrolase PTRHD1 (1 occurrences)\n",
      "\tIPR049813: Echinoderm microtubule-associated protein-like elp-1, trimerization domain (1 occurrences)\n",
      "\tIPR051583: Yes-associated protein 1 (1 occurrences)\n",
      "\tIPR051833: Transcription-coupled DNA damage response regulator-like (1 occurrences)\n",
      "\tIPR050449: Ephrin receptor tyrosine kinases (1 occurrences)\n",
      "\tIPR050701: Histone Modification Regulator (1 occurrences)\n",
      "\tIPR050082: Ribosomal RNA large subunit methyltransferase RlmE (1 occurrences)\n",
      "\tIPR050079: DEAD box RNA helicase (1 occurrences)\n",
      "\tIPR052579: Zinc finger SWIM domain-containing protein (1 occurrences)\n",
      "\tIPR039870: Cytochrome oxidase assembly factor 4-like (1 occurrences)\n",
      "\tIPR051746: Kelch domain-containing protein 8 (1 occurrences)\n",
      "\tIPR051974: Poly(U)-binding-splicing regulator (1 occurrences)\n",
      "\tIPR052094: Pre-mRNA-splicing and ERAD-associated protein (1 occurrences)\n",
      "\tIPR028325: Voltage-gated potassium channel (1 occurrences)\n",
      "\tIPR051177: Catalytically Inactive Kinase-Related Protein (1 occurrences)\n",
      "\tIPR051857: Asparagine synthetase domain-containing protein (1 occurrences)\n",
      "\tIPR051569: SH3 and multiple ankyrin repeat domains protein (1 occurrences)\n",
      "\tIPR050348: Protein-Tyrosine Phosphatase (1 occurrences)\n",
      "\tIPR050699: RNA/DNA Helicase (1 occurrences)\n",
      "\tIPR053003: TRIM/RBCC E3 ubiquitin-protein ligases (1 occurrences)\n",
      "\tIPR050751: Extracellular matrix structural protein (1 occurrences)\n",
      "\tIPR049883: NOTCH1 EGF-like calcium-binding domain (1 occurrences)\n",
      "\tIPR050503: cAMP-dependent kinase regulatory chain (1 occurrences)\n",
      "\tIPR052795: Ras-responsive element-binding protein 1 (1 occurrences)\n",
      "\tIPR051280: Voltage-gated chloride channel/antiporter (1 occurrences)\n",
      "\tIPR050185: Ubiquitin carboxyl-terminal hydrolase (1 occurrences)\n",
      "\tIPR050717: C2H2-type Zinc-Finger Transcription Regulators (1 occurrences)\n",
      "\tIPR051281: Dual-specificity lipid and protein phosphatase (1 occurrences)\n",
      "\tIPR051944: BEACH domain-containing protein (1 occurrences)\n",
      "\tIPR042635: MEGF10/SREC1/2-like (1 occurrences)\n",
      "\tIPR042406: Vitamin K epoxide reductase complex subunit 1 (1 occurrences)\n",
      "\tIPR012932: Vitamin K epoxide reductase (1 occurrences)\n",
      "\tIPR051001: Calbindin Calcium-Binding (1 occurrences)\n",
      "\tIPR050606: Calponin-like (1 occurrences)\n",
      "\tIPR009600: GPI transamidase subunit PIG-U (1 occurrences)\n",
      "\tIPR051341: Zyg-11-related ubiquitin ligase adapter protein (1 occurrences)\n",
      "\tIPR051370: Peptidyl-prolyl cis-trans isomerase Pin1 (1 occurrences)\n",
      "\tIPR051578: Glycerophosphodiester Phosphodiesterase (1 occurrences)\n",
      "\tIPR050932: TM2 domain-containing protein 1-3-like (1 occurrences)\n",
      "\tIPR034168: Peptidyl-prolyl cis-trans isomerase E, RNA recognition motif (1 occurrences)\n",
      "\tIPR051167: Prolyl oligopeptidase and macrocyclase (1 occurrences)\n",
      "\tIPR050409: E3 ubiquitin-protein ligase (1 occurrences)\n",
      "\tIPR054532: TPL/SMU1, LisH-like dimerisation domain (1 occurrences)\n",
      "\tIPR050117: Mitogen-activated protein kinase (1 occurrences)\n",
      "\tIPR051618: Actin-binding LIM (1 occurrences)\n",
      "\tIPR051434: DnaJ homolog subfamily C member 5 (1 occurrences)\n",
      "\tIPR050238: DNA Replication and Repair Clamp Loader Complex (1 occurrences)\n",
      "\tIPR022324: Bacilysin exporter BacE, putative (1 occurrences)\n",
      "\tIPR039843: KxDL motif-containing protein 1-like (1 occurrences)\n",
      "\tIPR052942: Lipopolysaccharide cholinephosphotransferase (1 occurrences)\n",
      "\tIPR050698: RNA Processing Metallo-Beta-Lactamase Domain-Containing Protein (1 occurrences)\n",
      "\tIPR052394: Leucine-rich repeat-containing protein (1 occurrences)\n",
      "\tIPR050645: Histidine Acid Phosphatase (1 occurrences)\n",
      "\tIPR050745: Multifunctional regulatory proteins (1 occurrences)\n",
      "\tIPR050836: SDS22/Internalin LRR-containing (1 occurrences)\n",
      "\tIPR051739: Rhomboid-related Intramembrane Serine Proteases (1 occurrences)\n",
      "\tIPR051025: Rho GTPase-activating (1 occurrences)\n",
      "\tIPR054429: Muscleblind-like, CCCH zinc finger (1 occurrences)\n",
      "\tIPR050527: Snail/Krueppel C2H2-type Zinc-finger (1 occurrences)\n",
      "\tIPR052311: MMS22L-TONSL complex component (1 occurrences)\n",
      "\tIPR050198: Non-receptor tyrosine kinases involved in cell signaling (1 occurrences)\n",
      "\tIPR052093: Homologous Recombination Repair Mediator (1 occurrences)\n",
      "\tIPR052954: GPCR_Ligand_Interaction (1 occurrences)\n",
      "\tIPR053879: HYDIN/VesB/CFA65-like, Ig-like domain (1 occurrences)\n",
      "\tIPR050866: Cyclic nucleotide-gated cation channel (1 occurrences)\n",
      "\tIPR051092: FYVE, RhoGEF and PH domain-containing (1 occurrences)\n",
      "\tIPR050149: Collagen superfamily (1 occurrences)\n",
      "\tIPR051070: NF-kappa-B Inhibitor (1 occurrences)\n",
      "\tIPR051519: PDE6D/unc-119 myristoyl-binding (1 occurrences)\n",
      "\tIPR053014: Cuticle-associated divergent protein (1 occurrences)\n",
      "\tIPR052208: DmX-like/RAVE complex component (1 occurrences)\n",
      "\tIPR050776: Ankyrin Repeat and Cyclin-Dependent Kinase Inhibitor (1 occurrences)\n",
      "\tIPR050440: Laminin/Netrin Extracellular Matrix (1 occurrences)\n",
      "\tIPR051738: Scaffold Attachment Factor and Modulators (1 occurrences)\n",
      "\tIPR052434: Tectonic-like complex component protein (1 occurrences)\n",
      "\tIPR050116: DNA polymerase type-Y (1 occurrences)\n",
      "\tIPR052403: LINC complex-associated protein (1 occurrences)\n",
      "\tIPR050818: Voltage-gated potassium channel family H (1 occurrences)\n",
      "\tIPR051337: Organophosphate:Pi Antiporter (1 occurrences)\n",
      "\tIPR050886: RNA-binding_regulatory_proteins (1 occurrences)\n",
      "\tIPR051382: Cytochrome P450 Amino Acid/Fatty Acid Hydroxylases (1 occurrences)\n",
      "\tIPR051093: Neuroligin and Bile salt-activated lipase (1 occurrences)\n",
      "\tIPR052224: THAP domain-containing protein (1 occurrences)\n",
      "\tIPR038441: THAP-type zinc finger superfamily (1 occurrences)\n",
      "\tIPR036366: PGBD superfamily (1 occurrences)\n",
      "\tIPR050342: High Mobility Group Box (HMGB) (1 occurrences)\n",
      "\tIPR004323: Divalent ion tolerance protein, CutA (1 occurrences)\n",
      "\tIPR011322: Nitrogen regulatory PII-like, alpha/beta (1 occurrences)\n",
      "\tIPR000077: Large ribosomal subunit protein eL39 (1 occurrences)\n",
      "\tIPR023626: Large ribosomal subunit protein eL39 domain superfamily (1 occurrences)\n",
      "\n"
     ]
    }
   ],
   "source": [
    "overrepd_accs = list(interpro_accessions_in_novel_transcripts(flatten_nested_dict(acc_product), acc_tally_one_plus_tool_novel, only_tools_results, min_freq=1))"
   ]
  },
  {
   "cell_type": "markdown",
   "metadata": {},
   "source": [
    "There don't appear to be any TEs amongst the overrepresented \"homologous superfamily\" or \"family\" accessions"
   ]
  },
  {
   "cell_type": "code",
   "execution_count": 44,
   "metadata": {},
   "outputs": [
    {
     "name": "stdout",
     "output_type": "stream",
     "text": [
      "265\n"
     ]
    },
    {
     "data": {
      "text/plain": [
       "{'IPR000477', 'IPR001584', 'IPR002156', 'IPR024445'}"
      ]
     },
     "execution_count": 44,
     "metadata": {},
     "output_type": "execute_result"
    }
   ],
   "source": [
    "print(len(overrepd_accs))\n",
    "with open(\"data/transposable_elements/transposable_element_iprs.json\", \"r\") as f:\n",
    "    te_accs = json.load(f)\n",
    "set(te_accs.values()).intersection(overrepd_accs)"
   ]
  },
  {
   "cell_type": "code",
   "execution_count": 45,
   "metadata": {},
   "outputs": [
    {
     "name": "stderr",
     "output_type": "stream",
     "text": [
      "  0%|          | 1/265 [00:01<04:31,  1.03s/it]"
     ]
    },
    {
     "name": "stdout",
     "output_type": "stream",
     "text": [
      "IPR001995: 4 (4 unique)\n"
     ]
    },
    {
     "name": "stderr",
     "output_type": "stream",
     "text": [
      "  1%|          | 2/265 [00:01<04:19,  1.01it/s]"
     ]
    },
    {
     "name": "stdout",
     "output_type": "stream",
     "text": [
      "IPR000477: 13 (13 unique)\n"
     ]
    },
    {
     "name": "stderr",
     "output_type": "stream",
     "text": [
      "  1%|          | 3/265 [00:02<04:18,  1.01it/s]"
     ]
    },
    {
     "name": "stdout",
     "output_type": "stream",
     "text": [
      "IPR043128: 8 (8 unique)\n"
     ]
    },
    {
     "name": "stderr",
     "output_type": "stream",
     "text": [
      "  2%|▏         | 4/265 [00:04<04:21,  1.00s/it]"
     ]
    },
    {
     "name": "stdout",
     "output_type": "stream",
     "text": [
      "IPR029008: 3 (3 unique)\n"
     ]
    },
    {
     "name": "stderr",
     "output_type": "stream",
     "text": [
      "  2%|▏         | 5/265 [00:04<04:18,  1.00it/s]"
     ]
    },
    {
     "name": "stdout",
     "output_type": "stream",
     "text": [
      "IPR013209: 3 (3 unique)\n"
     ]
    },
    {
     "name": "stderr",
     "output_type": "stream",
     "text": [
      "  2%|▏         | 6/265 [00:05<04:16,  1.01it/s]"
     ]
    },
    {
     "name": "stdout",
     "output_type": "stream",
     "text": [
      "IPR007651: 3 (3 unique)\n"
     ]
    },
    {
     "name": "stderr",
     "output_type": "stream",
     "text": [
      "  3%|▎         | 7/265 [00:06<04:09,  1.03it/s]"
     ]
    },
    {
     "name": "stdout",
     "output_type": "stream",
     "text": [
      "IPR006139: 3 (3 unique)\n"
     ]
    },
    {
     "name": "stderr",
     "output_type": "stream",
     "text": [
      "  3%|▎         | 8/265 [00:07<04:04,  1.05it/s]"
     ]
    },
    {
     "name": "stdout",
     "output_type": "stream",
     "text": [
      "IPR006140: 3 (3 unique)\n"
     ]
    },
    {
     "name": "stderr",
     "output_type": "stream",
     "text": [
      "  3%|▎         | 9/265 [00:08<04:02,  1.06it/s]"
     ]
    },
    {
     "name": "stdout",
     "output_type": "stream",
     "text": [
      "IPR023509: 3 (3 unique)\n"
     ]
    },
    {
     "name": "stderr",
     "output_type": "stream",
     "text": [
      "  4%|▍         | 10/265 [00:09<03:57,  1.07it/s]"
     ]
    },
    {
     "name": "stdout",
     "output_type": "stream",
     "text": [
      "IPR003732: 3 (3 unique)\n"
     ]
    },
    {
     "name": "stderr",
     "output_type": "stream",
     "text": [
      "  4%|▍         | 11/265 [00:10<03:57,  1.07it/s]"
     ]
    },
    {
     "name": "stdout",
     "output_type": "stream",
     "text": [
      "IPR011387: 2 (2 unique)\n"
     ]
    },
    {
     "name": "stderr",
     "output_type": "stream",
     "text": [
      "  5%|▍         | 12/265 [00:11<03:53,  1.08it/s]"
     ]
    },
    {
     "name": "stdout",
     "output_type": "stream",
     "text": [
      "IPR011030: 2 (2 unique)\n"
     ]
    },
    {
     "name": "stderr",
     "output_type": "stream",
     "text": [
      "  5%|▍         | 13/265 [00:12<03:50,  1.09it/s]"
     ]
    },
    {
     "name": "stdout",
     "output_type": "stream",
     "text": [
      "IPR001747: 2 (2 unique)\n"
     ]
    },
    {
     "name": "stderr",
     "output_type": "stream",
     "text": [
      "  5%|▌         | 14/265 [00:13<03:50,  1.09it/s]"
     ]
    },
    {
     "name": "stdout",
     "output_type": "stream",
     "text": [
      "IPR007233: 2 (2 unique)\n"
     ]
    },
    {
     "name": "stderr",
     "output_type": "stream",
     "text": [
      "  6%|▌         | 15/265 [00:14<03:50,  1.08it/s]"
     ]
    },
    {
     "name": "stdout",
     "output_type": "stream",
     "text": [
      "IPR027120: 2 (2 unique)\n"
     ]
    },
    {
     "name": "stderr",
     "output_type": "stream",
     "text": [
      "  6%|▌         | 16/265 [00:15<03:51,  1.07it/s]"
     ]
    },
    {
     "name": "stdout",
     "output_type": "stream",
     "text": [
      "IPR002156: 2 (2 unique)\n"
     ]
    },
    {
     "name": "stderr",
     "output_type": "stream",
     "text": [
      "  6%|▋         | 17/265 [00:16<03:48,  1.08it/s]"
     ]
    },
    {
     "name": "stdout",
     "output_type": "stream",
     "text": [
      "IPR040364: 2 (2 unique)\n"
     ]
    },
    {
     "name": "stderr",
     "output_type": "stream",
     "text": [
      "  7%|▋         | 18/265 [00:17<03:51,  1.07it/s]"
     ]
    },
    {
     "name": "stdout",
     "output_type": "stream",
     "text": [
      "IPR000572: 2 (2 unique)\n"
     ]
    },
    {
     "name": "stderr",
     "output_type": "stream",
     "text": [
      "  7%|▋         | 19/265 [00:17<03:49,  1.07it/s]"
     ]
    },
    {
     "name": "stdout",
     "output_type": "stream",
     "text": [
      "IPR036374: 2 (2 unique)\n"
     ]
    },
    {
     "name": "stderr",
     "output_type": "stream",
     "text": [
      "  8%|▊         | 20/265 [00:18<03:47,  1.08it/s]"
     ]
    },
    {
     "name": "stdout",
     "output_type": "stream",
     "text": [
      "IPR008335: 2 (2 unique)\n"
     ]
    },
    {
     "name": "stderr",
     "output_type": "stream",
     "text": [
      "  8%|▊         | 21/265 [00:19<03:44,  1.09it/s]"
     ]
    },
    {
     "name": "stdout",
     "output_type": "stream",
     "text": [
      "IPR035959: 2 (2 unique)\n"
     ]
    },
    {
     "name": "stderr",
     "output_type": "stream",
     "text": [
      "  8%|▊         | 22/265 [00:20<03:41,  1.09it/s]"
     ]
    },
    {
     "name": "stdout",
     "output_type": "stream",
     "text": [
      "IPR036748: 2 (2 unique)\n"
     ]
    },
    {
     "name": "stderr",
     "output_type": "stream",
     "text": [
      "  9%|▊         | 23/265 [00:21<03:42,  1.09it/s]"
     ]
    },
    {
     "name": "stdout",
     "output_type": "stream",
     "text": [
      "IPR007523: 2 (2 unique)\n"
     ]
    },
    {
     "name": "stderr",
     "output_type": "stream",
     "text": [
      "  9%|▉         | 24/265 [00:22<03:40,  1.09it/s]"
     ]
    },
    {
     "name": "stdout",
     "output_type": "stream",
     "text": [
      "IPR019564: 2 (2 unique)\n"
     ]
    },
    {
     "name": "stderr",
     "output_type": "stream",
     "text": [
      "  9%|▉         | 25/265 [00:23<03:41,  1.08it/s]"
     ]
    },
    {
     "name": "stdout",
     "output_type": "stream",
     "text": [
      "IPR000998: 2 (2 unique)\n"
     ]
    },
    {
     "name": "stderr",
     "output_type": "stream",
     "text": [
      " 10%|▉         | 26/265 [00:24<03:47,  1.05it/s]"
     ]
    },
    {
     "name": "stdout",
     "output_type": "stream",
     "text": [
      "IPR049629: 2 (2 unique)\n"
     ]
    },
    {
     "name": "stderr",
     "output_type": "stream",
     "text": [
      " 10%|█         | 27/265 [00:25<03:44,  1.06it/s]"
     ]
    },
    {
     "name": "stdout",
     "output_type": "stream",
     "text": [
      "IPR038980: 1 (1 unique)\n"
     ]
    },
    {
     "name": "stderr",
     "output_type": "stream",
     "text": [
      " 11%|█         | 28/265 [00:26<03:43,  1.06it/s]"
     ]
    },
    {
     "name": "stdout",
     "output_type": "stream",
     "text": [
      "IPR043502: 18 (18 unique)\n"
     ]
    },
    {
     "name": "stderr",
     "output_type": "stream",
     "text": [
      " 11%|█         | 29/265 [00:27<03:40,  1.07it/s]"
     ]
    },
    {
     "name": "stdout",
     "output_type": "stream",
     "text": [
      "IPR031315: 3 (3 unique)\n"
     ]
    },
    {
     "name": "stderr",
     "output_type": "stream",
     "text": [
      " 11%|█▏        | 30/265 [00:28<03:40,  1.07it/s]"
     ]
    },
    {
     "name": "stdout",
     "output_type": "stream",
     "text": [
      "IPR027080: 2 (2 unique)\n"
     ]
    },
    {
     "name": "stderr",
     "output_type": "stream",
     "text": [
      " 12%|█▏        | 31/265 [00:29<03:37,  1.08it/s]"
     ]
    },
    {
     "name": "stdout",
     "output_type": "stream",
     "text": [
      "IPR005479: 3 (3 unique)\n"
     ]
    },
    {
     "name": "stderr",
     "output_type": "stream",
     "text": [
      " 12%|█▏        | 32/265 [00:30<03:37,  1.07it/s]"
     ]
    },
    {
     "name": "stdout",
     "output_type": "stream",
     "text": [
      "IPR026183: 6 (6 unique)\n"
     ]
    },
    {
     "name": "stderr",
     "output_type": "stream",
     "text": [
      " 12%|█▏        | 33/265 [00:30<03:36,  1.07it/s]"
     ]
    },
    {
     "name": "stdout",
     "output_type": "stream",
     "text": [
      "IPR032815: 2 (2 unique)\n"
     ]
    },
    {
     "name": "stderr",
     "output_type": "stream",
     "text": [
      " 13%|█▎        | 34/265 [00:31<03:35,  1.07it/s]"
     ]
    },
    {
     "name": "stdout",
     "output_type": "stream",
     "text": [
      "IPR011044: 2 (2 unique)\n"
     ]
    },
    {
     "name": "stderr",
     "output_type": "stream",
     "text": [
      " 13%|█▎        | 35/265 [00:32<03:34,  1.07it/s]"
     ]
    },
    {
     "name": "stdout",
     "output_type": "stream",
     "text": [
      "IPR006032: 2 (2 unique)\n"
     ]
    },
    {
     "name": "stderr",
     "output_type": "stream",
     "text": [
      " 14%|█▎        | 36/265 [00:33<03:33,  1.07it/s]"
     ]
    },
    {
     "name": "stdout",
     "output_type": "stream",
     "text": [
      "IPR018067: 2 (2 unique)\n"
     ]
    },
    {
     "name": "stderr",
     "output_type": "stream",
     "text": [
      " 14%|█▍        | 37/265 [00:34<03:32,  1.07it/s]"
     ]
    },
    {
     "name": "stdout",
     "output_type": "stream",
     "text": [
      "IPR013769: 2 (2 unique)\n"
     ]
    },
    {
     "name": "stderr",
     "output_type": "stream",
     "text": [
      " 14%|█▍        | 38/265 [00:35<03:32,  1.07it/s]"
     ]
    },
    {
     "name": "stdout",
     "output_type": "stream",
     "text": [
      "IPR008254: 2 (2 unique)\n"
     ]
    },
    {
     "name": "stderr",
     "output_type": "stream",
     "text": [
      " 15%|█▍        | 39/265 [00:36<03:30,  1.07it/s]"
     ]
    },
    {
     "name": "stdout",
     "output_type": "stream",
     "text": [
      "IPR029039: 2 (2 unique)\n"
     ]
    },
    {
     "name": "stderr",
     "output_type": "stream",
     "text": [
      " 15%|█▌        | 40/265 [00:37<03:33,  1.05it/s]"
     ]
    },
    {
     "name": "stdout",
     "output_type": "stream",
     "text": [
      "IPR005446: 1 (1 unique)\n"
     ]
    },
    {
     "name": "stderr",
     "output_type": "stream",
     "text": [
      " 15%|█▌        | 41/265 [00:38<03:31,  1.06it/s]"
     ]
    },
    {
     "name": "stdout",
     "output_type": "stream",
     "text": [
      "IPR042172: 0 (0 unique)\n"
     ]
    },
    {
     "name": "stderr",
     "output_type": "stream",
     "text": [
      " 16%|█▌        | 42/265 [00:39<03:32,  1.05it/s]"
     ]
    },
    {
     "name": "stdout",
     "output_type": "stream",
     "text": [
      "IPR000043: 0 (0 unique)\n"
     ]
    },
    {
     "name": "stderr",
     "output_type": "stream",
     "text": [
      " 16%|█▌        | 43/265 [00:40<03:32,  1.04it/s]"
     ]
    },
    {
     "name": "stdout",
     "output_type": "stream",
     "text": [
      "IPR035976: 0 (0 unique)\n"
     ]
    },
    {
     "name": "stderr",
     "output_type": "stream",
     "text": [
      " 17%|█▋        | 44/265 [00:41<03:31,  1.04it/s]"
     ]
    },
    {
     "name": "stdout",
     "output_type": "stream",
     "text": [
      "IPR023302: 0 (0 unique)\n"
     ]
    },
    {
     "name": "stderr",
     "output_type": "stream",
     "text": [
      " 17%|█▋        | 45/265 [00:42<03:32,  1.03it/s]"
     ]
    },
    {
     "name": "stdout",
     "output_type": "stream",
     "text": [
      "IPR021109: 17 (17 unique)\n"
     ]
    },
    {
     "name": "stderr",
     "output_type": "stream",
     "text": [
      " 17%|█▋        | 46/265 [00:43<03:32,  1.03it/s]"
     ]
    },
    {
     "name": "stdout",
     "output_type": "stream",
     "text": [
      "IPR013979: 2 (2 unique)\n"
     ]
    },
    {
     "name": "stderr",
     "output_type": "stream",
     "text": [
      " 18%|█▊        | 47/265 [00:44<03:32,  1.03it/s]"
     ]
    },
    {
     "name": "stdout",
     "output_type": "stream",
     "text": [
      "IPR038466: 1 (1 unique)\n"
     ]
    },
    {
     "name": "stderr",
     "output_type": "stream",
     "text": [
      " 18%|█▊        | 48/265 [00:45<03:29,  1.04it/s]"
     ]
    },
    {
     "name": "stdout",
     "output_type": "stream",
     "text": [
      "IPR014772: 2 (2 unique)\n"
     ]
    },
    {
     "name": "stderr",
     "output_type": "stream",
     "text": [
      " 18%|█▊        | 49/265 [00:46<03:26,  1.05it/s]"
     ]
    },
    {
     "name": "stdout",
     "output_type": "stream",
     "text": [
      "IPR016152: 2 (2 unique)\n"
     ]
    },
    {
     "name": "stderr",
     "output_type": "stream",
     "text": [
      " 19%|█▉        | 50/265 [00:47<03:23,  1.05it/s]"
     ]
    },
    {
     "name": "stdout",
     "output_type": "stream",
     "text": [
      "IPR003020: 2 (2 unique)\n"
     ]
    },
    {
     "name": "stderr",
     "output_type": "stream",
     "text": [
      " 19%|█▉        | 51/265 [00:48<03:22,  1.06it/s]"
     ]
    },
    {
     "name": "stdout",
     "output_type": "stream",
     "text": [
      "IPR004240: 2 (2 unique)\n"
     ]
    },
    {
     "name": "stderr",
     "output_type": "stream",
     "text": [
      " 20%|█▉        | 52/265 [00:49<03:22,  1.05it/s]"
     ]
    },
    {
     "name": "stdout",
     "output_type": "stream",
     "text": [
      "IPR004130: 0 (0 unique)\n"
     ]
    },
    {
     "name": "stderr",
     "output_type": "stream",
     "text": [
      " 20%|██        | 53/265 [00:50<03:21,  1.05it/s]"
     ]
    },
    {
     "name": "stdout",
     "output_type": "stream",
     "text": [
      "IPR007081: 0 (0 unique)\n"
     ]
    },
    {
     "name": "stderr",
     "output_type": "stream",
     "text": [
      " 20%|██        | 54/265 [00:50<03:21,  1.05it/s]"
     ]
    },
    {
     "name": "stdout",
     "output_type": "stream",
     "text": [
      "IPR038207: 2 (2 unique)\n"
     ]
    },
    {
     "name": "stderr",
     "output_type": "stream",
     "text": [
      " 21%|██        | 55/265 [00:51<03:21,  1.04it/s]"
     ]
    },
    {
     "name": "stdout",
     "output_type": "stream",
     "text": [
      "IPR001158: 2 (2 unique)\n"
     ]
    },
    {
     "name": "stderr",
     "output_type": "stream",
     "text": [
      " 21%|██        | 56/265 [00:52<03:18,  1.05it/s]"
     ]
    },
    {
     "name": "stdout",
     "output_type": "stream",
     "text": [
      "IPR048684: 3 (3 unique)\n"
     ]
    },
    {
     "name": "stderr",
     "output_type": "stream",
     "text": [
      " 22%|██▏       | 57/265 [00:53<03:19,  1.04it/s]"
     ]
    },
    {
     "name": "stdout",
     "output_type": "stream",
     "text": [
      "IPR011761: 3 (3 unique)\n"
     ]
    },
    {
     "name": "stderr",
     "output_type": "stream",
     "text": [
      " 22%|██▏       | 58/265 [00:54<03:16,  1.05it/s]"
     ]
    },
    {
     "name": "stdout",
     "output_type": "stream",
     "text": [
      "IPR024706: 3 (3 unique)\n"
     ]
    },
    {
     "name": "stderr",
     "output_type": "stream",
     "text": [
      " 22%|██▏       | 59/265 [00:55<03:15,  1.05it/s]"
     ]
    },
    {
     "name": "stdout",
     "output_type": "stream",
     "text": [
      "IPR000866: 3 (3 unique)\n"
     ]
    },
    {
     "name": "stderr",
     "output_type": "stream",
     "text": [
      " 23%|██▎       | 60/265 [00:56<03:17,  1.04it/s]"
     ]
    },
    {
     "name": "stdout",
     "output_type": "stream",
     "text": [
      "IPR001972: 3 (3 unique)\n"
     ]
    },
    {
     "name": "stderr",
     "output_type": "stream",
     "text": [
      " 23%|██▎       | 61/265 [00:57<03:17,  1.03it/s]"
     ]
    },
    {
     "name": "stdout",
     "output_type": "stream",
     "text": [
      "IPR043202: 3 (3 unique)\n"
     ]
    },
    {
     "name": "stderr",
     "output_type": "stream",
     "text": [
      " 23%|██▎       | 62/265 [00:58<03:16,  1.03it/s]"
     ]
    },
    {
     "name": "stdout",
     "output_type": "stream",
     "text": [
      "IPR041228: 3 (3 unique)\n"
     ]
    },
    {
     "name": "stderr",
     "output_type": "stream",
     "text": [
      " 24%|██▍       | 63/265 [00:59<03:12,  1.05it/s]"
     ]
    },
    {
     "name": "stdout",
     "output_type": "stream",
     "text": [
      "IPR041658: 3 (3 unique)\n"
     ]
    },
    {
     "name": "stderr",
     "output_type": "stream",
     "text": [
      " 24%|██▍       | 64/265 [01:00<03:10,  1.06it/s]"
     ]
    },
    {
     "name": "stdout",
     "output_type": "stream",
     "text": [
      "IPR042219: 3 (3 unique)\n"
     ]
    },
    {
     "name": "stderr",
     "output_type": "stream",
     "text": [
      " 25%|██▍       | 65/265 [01:01<03:09,  1.06it/s]"
     ]
    },
    {
     "name": "stdout",
     "output_type": "stream",
     "text": [
      "IPR043160: 3 (3 unique)\n"
     ]
    },
    {
     "name": "stderr",
     "output_type": "stream",
     "text": [
      " 25%|██▍       | 66/265 [01:02<03:08,  1.06it/s]"
     ]
    },
    {
     "name": "stdout",
     "output_type": "stream",
     "text": [
      "IPR023578: 0 (0 unique)\n"
     ]
    },
    {
     "name": "stderr",
     "output_type": "stream",
     "text": [
      " 25%|██▌       | 67/265 [01:03<03:09,  1.05it/s]"
     ]
    },
    {
     "name": "stdout",
     "output_type": "stream",
     "text": [
      "IPR037104: 8 (8 unique)\n"
     ]
    },
    {
     "name": "stderr",
     "output_type": "stream",
     "text": [
      " 26%|██▌       | 68/265 [01:04<03:08,  1.04it/s]"
     ]
    },
    {
     "name": "stdout",
     "output_type": "stream",
     "text": [
      "IPR002223: 3 (3 unique)\n"
     ]
    },
    {
     "name": "stderr",
     "output_type": "stream",
     "text": [
      " 26%|██▌       | 69/265 [01:05<03:07,  1.05it/s]"
     ]
    },
    {
     "name": "stdout",
     "output_type": "stream",
     "text": [
      "IPR036880: 3 (3 unique)\n"
     ]
    },
    {
     "name": "stderr",
     "output_type": "stream",
     "text": [
      " 26%|██▋       | 70/265 [01:06<03:08,  1.04it/s]"
     ]
    },
    {
     "name": "stdout",
     "output_type": "stream",
     "text": [
      "IPR020901: 2 (2 unique)\n"
     ]
    },
    {
     "name": "stderr",
     "output_type": "stream",
     "text": [
      " 27%|██▋       | 71/265 [01:07<03:10,  1.02it/s]"
     ]
    },
    {
     "name": "stdout",
     "output_type": "stream",
     "text": [
      "IPR000306: 2 (2 unique)\n"
     ]
    },
    {
     "name": "stderr",
     "output_type": "stream",
     "text": [
      " 27%|██▋       | 72/265 [01:08<03:11,  1.01it/s]"
     ]
    },
    {
     "name": "stdout",
     "output_type": "stream",
     "text": [
      "IPR001547: 6 (6 unique)\n"
     ]
    },
    {
     "name": "stderr",
     "output_type": "stream",
     "text": [
      " 28%|██▊       | 73/265 [01:09<03:16,  1.02s/it]"
     ]
    },
    {
     "name": "stdout",
     "output_type": "stream",
     "text": [
      "IPR026983: 3 (3 unique)\n"
     ]
    },
    {
     "name": "stderr",
     "output_type": "stream",
     "text": [
      " 28%|██▊       | 74/265 [01:10<03:12,  1.01s/it]"
     ]
    },
    {
     "name": "stdout",
     "output_type": "stream",
     "text": [
      "IPR036964: 0 (0 unique)\n"
     ]
    },
    {
     "name": "stderr",
     "output_type": "stream",
     "text": [
      " 28%|██▊       | 75/265 [01:11<03:12,  1.01s/it]"
     ]
    },
    {
     "name": "stdout",
     "output_type": "stream",
     "text": [
      "IPR003599: 14 (14 unique)\n"
     ]
    },
    {
     "name": "stderr",
     "output_type": "stream",
     "text": [
      " 29%|██▊       | 76/265 [01:12<03:09,  1.00s/it]"
     ]
    },
    {
     "name": "stdout",
     "output_type": "stream",
     "text": [
      "IPR036869: 8 (8 unique)\n"
     ]
    },
    {
     "name": "stderr",
     "output_type": "stream",
     "text": [
      " 29%|██▉       | 77/265 [01:13<03:09,  1.01s/it]"
     ]
    },
    {
     "name": "stdout",
     "output_type": "stream",
     "text": [
      "IPR013098: 10 (10 unique)\n"
     ]
    },
    {
     "name": "stderr",
     "output_type": "stream",
     "text": [
      " 29%|██▉       | 78/265 [01:14<03:10,  1.02s/it]"
     ]
    },
    {
     "name": "stdout",
     "output_type": "stream",
     "text": [
      "IPR002126: 4 (4 unique)\n"
     ]
    },
    {
     "name": "stderr",
     "output_type": "stream",
     "text": [
      " 30%|██▉       | 79/265 [01:15<03:08,  1.02s/it]"
     ]
    },
    {
     "name": "stdout",
     "output_type": "stream",
     "text": [
      "IPR001623: 8 (8 unique)\n"
     ]
    },
    {
     "name": "stderr",
     "output_type": "stream",
     "text": [
      " 30%|███       | 80/265 [01:16<03:10,  1.03s/it]"
     ]
    },
    {
     "name": "stdout",
     "output_type": "stream",
     "text": [
      "IPR012337: 5 (5 unique)\n"
     ]
    },
    {
     "name": "stderr",
     "output_type": "stream",
     "text": [
      " 31%|███       | 81/265 [01:17<03:05,  1.01s/it]"
     ]
    },
    {
     "name": "stdout",
     "output_type": "stream",
     "text": [
      "IPR015919: 4 (4 unique)\n"
     ]
    },
    {
     "name": "stderr",
     "output_type": "stream",
     "text": [
      " 31%|███       | 82/265 [01:18<03:04,  1.01s/it]"
     ]
    },
    {
     "name": "stdout",
     "output_type": "stream",
     "text": [
      "IPR003961: 11 (11 unique)\n"
     ]
    },
    {
     "name": "stderr",
     "output_type": "stream",
     "text": [
      " 31%|███▏      | 83/265 [01:19<03:02,  1.00s/it]"
     ]
    },
    {
     "name": "stdout",
     "output_type": "stream",
     "text": [
      "IPR020894: 4 (4 unique)\n"
     ]
    },
    {
     "name": "stderr",
     "output_type": "stream",
     "text": [
      " 32%|███▏      | 84/265 [01:20<02:59,  1.01it/s]"
     ]
    },
    {
     "name": "stdout",
     "output_type": "stream",
     "text": [
      "IPR007110: 13 (13 unique)\n"
     ]
    },
    {
     "name": "stderr",
     "output_type": "stream",
     "text": [
      " 32%|███▏      | 85/265 [01:21<02:59,  1.00it/s]"
     ]
    },
    {
     "name": "stdout",
     "output_type": "stream",
     "text": [
      "IPR036116: 11 (11 unique)\n"
     ]
    },
    {
     "name": "stderr",
     "output_type": "stream",
     "text": [
      " 32%|███▏      | 86/265 [01:22<02:58,  1.00it/s]"
     ]
    },
    {
     "name": "stdout",
     "output_type": "stream",
     "text": [
      "IPR036179: 14 (14 unique)\n"
     ]
    },
    {
     "name": "stderr",
     "output_type": "stream",
     "text": [
      " 33%|███▎      | 87/265 [01:23<02:55,  1.01it/s]"
     ]
    },
    {
     "name": "stdout",
     "output_type": "stream",
     "text": [
      "IPR002347: 5 (5 unique)\n"
     ]
    },
    {
     "name": "stderr",
     "output_type": "stream",
     "text": [
      " 33%|███▎      | 88/265 [01:24<02:52,  1.03it/s]"
     ]
    },
    {
     "name": "stdout",
     "output_type": "stream",
     "text": [
      "IPR013783: 15 (15 unique)\n"
     ]
    },
    {
     "name": "stderr",
     "output_type": "stream",
     "text": [
      " 34%|███▎      | 89/265 [01:25<02:55,  1.00it/s]"
     ]
    },
    {
     "name": "stdout",
     "output_type": "stream",
     "text": [
      "IPR017853: 8 (8 unique)\n"
     ]
    },
    {
     "name": "stderr",
     "output_type": "stream",
     "text": [
      " 34%|███▍      | 90/265 [01:26<02:54,  1.00it/s]"
     ]
    },
    {
     "name": "stdout",
     "output_type": "stream",
     "text": [
      "IPR036770: 9 (9 unique)\n"
     ]
    },
    {
     "name": "stderr",
     "output_type": "stream",
     "text": [
      " 34%|███▍      | 91/265 [01:27<02:52,  1.01it/s]"
     ]
    },
    {
     "name": "stdout",
     "output_type": "stream",
     "text": [
      "IPR002110: 9 (9 unique)\n"
     ]
    },
    {
     "name": "stderr",
     "output_type": "stream",
     "text": [
      " 35%|███▍      | 92/265 [01:28<02:49,  1.02it/s]"
     ]
    },
    {
     "name": "stdout",
     "output_type": "stream",
     "text": [
      "IPR029071: 8 (8 unique)\n"
     ]
    },
    {
     "name": "stderr",
     "output_type": "stream",
     "text": [
      " 35%|███▌      | 93/265 [01:29<02:46,  1.03it/s]"
     ]
    },
    {
     "name": "stdout",
     "output_type": "stream",
     "text": [
      "IPR050951: 10 (10 unique)\n"
     ]
    },
    {
     "name": "stderr",
     "output_type": "stream",
     "text": [
      " 35%|███▌      | 94/265 [01:30<02:43,  1.05it/s]"
     ]
    },
    {
     "name": "stdout",
     "output_type": "stream",
     "text": [
      "IPR050174: 4 (4 unique)\n"
     ]
    },
    {
     "name": "stderr",
     "output_type": "stream",
     "text": [
      " 36%|███▌      | 95/265 [01:31<02:42,  1.04it/s]"
     ]
    },
    {
     "name": "stdout",
     "output_type": "stream",
     "text": [
      "IPR034128: 5 (5 unique)\n"
     ]
    },
    {
     "name": "stderr",
     "output_type": "stream",
     "text": [
      " 36%|███▌      | 96/265 [01:32<02:40,  1.05it/s]"
     ]
    },
    {
     "name": "stdout",
     "output_type": "stream",
     "text": [
      "IPR045609: 5 (5 unique)\n"
     ]
    },
    {
     "name": "stderr",
     "output_type": "stream",
     "text": [
      " 37%|███▋      | 97/265 [01:33<02:41,  1.04it/s]"
     ]
    },
    {
     "name": "stdout",
     "output_type": "stream",
     "text": [
      "IPR050098: 3 (3 unique)\n"
     ]
    },
    {
     "name": "stderr",
     "output_type": "stream",
     "text": [
      " 37%|███▋      | 98/265 [01:34<02:40,  1.04it/s]"
     ]
    },
    {
     "name": "stdout",
     "output_type": "stream",
     "text": [
      "IPR050217: 3 (3 unique)\n"
     ]
    },
    {
     "name": "stderr",
     "output_type": "stream",
     "text": [
      " 37%|███▋      | 99/265 [01:34<02:35,  1.07it/s]"
     ]
    },
    {
     "name": "stdout",
     "output_type": "stream",
     "text": [
      "IPR031703: 3 (3 unique)\n"
     ]
    },
    {
     "name": "stderr",
     "output_type": "stream",
     "text": [
      " 38%|███▊      | 100/265 [01:35<02:35,  1.06it/s]"
     ]
    },
    {
     "name": "stdout",
     "output_type": "stream",
     "text": [
      "IPR050209: 4 (4 unique)\n"
     ]
    },
    {
     "name": "stderr",
     "output_type": "stream",
     "text": [
      " 38%|███▊      | 101/265 [01:36<02:32,  1.07it/s]"
     ]
    },
    {
     "name": "stdout",
     "output_type": "stream",
     "text": [
      "IPR008218: 3 (3 unique)\n"
     ]
    },
    {
     "name": "stderr",
     "output_type": "stream",
     "text": [
      " 38%|███▊      | 102/265 [01:37<02:31,  1.07it/s]"
     ]
    },
    {
     "name": "stdout",
     "output_type": "stream",
     "text": [
      "IPR036906: 3 (3 unique)\n"
     ]
    },
    {
     "name": "stderr",
     "output_type": "stream",
     "text": [
      " 39%|███▉      | 103/265 [01:38<02:29,  1.08it/s]"
     ]
    },
    {
     "name": "stdout",
     "output_type": "stream",
     "text": [
      "IPR019269: 3 (3 unique)\n"
     ]
    },
    {
     "name": "stderr",
     "output_type": "stream",
     "text": [
      " 39%|███▉      | 104/265 [01:39<02:29,  1.08it/s]"
     ]
    },
    {
     "name": "stdout",
     "output_type": "stream",
     "text": [
      "IPR001584: 3 (3 unique)\n"
     ]
    },
    {
     "name": "stderr",
     "output_type": "stream",
     "text": [
      " 40%|███▉      | 105/265 [01:40<02:29,  1.07it/s]"
     ]
    },
    {
     "name": "stdout",
     "output_type": "stream",
     "text": [
      "IPR041577: 3 (3 unique)\n"
     ]
    },
    {
     "name": "stderr",
     "output_type": "stream",
     "text": [
      " 40%|████      | 106/265 [01:41<02:28,  1.07it/s]"
     ]
    },
    {
     "name": "stdout",
     "output_type": "stream",
     "text": [
      "IPR050964: 5 (5 unique)\n"
     ]
    },
    {
     "name": "stderr",
     "output_type": "stream",
     "text": [
      " 40%|████      | 107/265 [01:42<02:28,  1.06it/s]"
     ]
    },
    {
     "name": "stdout",
     "output_type": "stream",
     "text": [
      "IPR051877: 0 (0 unique)\n"
     ]
    },
    {
     "name": "stderr",
     "output_type": "stream",
     "text": [
      " 41%|████      | 108/265 [01:43<02:26,  1.07it/s]"
     ]
    },
    {
     "name": "stdout",
     "output_type": "stream",
     "text": [
      "IPR050283: 2 (2 unique)\n"
     ]
    },
    {
     "name": "stderr",
     "output_type": "stream",
     "text": [
      " 41%|████      | 109/265 [01:44<02:24,  1.08it/s]"
     ]
    },
    {
     "name": "stdout",
     "output_type": "stream",
     "text": [
      "IPR050857: 2 (2 unique)\n"
     ]
    },
    {
     "name": "stderr",
     "output_type": "stream",
     "text": [
      " 42%|████▏     | 110/265 [01:45<02:23,  1.08it/s]"
     ]
    },
    {
     "name": "stdout",
     "output_type": "stream",
     "text": [
      "IPR005772: 2 (2 unique)\n"
     ]
    },
    {
     "name": "stderr",
     "output_type": "stream",
     "text": [
      " 42%|████▏     | 111/265 [01:46<02:21,  1.09it/s]"
     ]
    },
    {
     "name": "stdout",
     "output_type": "stream",
     "text": [
      "IPR019186: 2 (2 unique)\n"
     ]
    },
    {
     "name": "stderr",
     "output_type": "stream",
     "text": [
      " 42%|████▏     | 112/265 [01:47<02:23,  1.07it/s]"
     ]
    },
    {
     "name": "stdout",
     "output_type": "stream",
     "text": [
      "IPR028119: 2 (2 unique)\n"
     ]
    },
    {
     "name": "stderr",
     "output_type": "stream",
     "text": [
      " 43%|████▎     | 113/265 [01:48<02:24,  1.05it/s]"
     ]
    },
    {
     "name": "stdout",
     "output_type": "stream",
     "text": [
      "IPR022422: 2 (2 unique)\n"
     ]
    },
    {
     "name": "stderr",
     "output_type": "stream",
     "text": [
      " 43%|████▎     | 114/265 [01:49<02:26,  1.03it/s]"
     ]
    },
    {
     "name": "stdout",
     "output_type": "stream",
     "text": [
      "IPR002056: 2 (2 unique)\n"
     ]
    },
    {
     "name": "stderr",
     "output_type": "stream",
     "text": [
      " 43%|████▎     | 115/265 [01:50<02:26,  1.02it/s]"
     ]
    },
    {
     "name": "stdout",
     "output_type": "stream",
     "text": [
      "IPR023392: 2 (2 unique)\n"
     ]
    },
    {
     "name": "stderr",
     "output_type": "stream",
     "text": [
      " 44%|████▍     | 116/265 [01:51<02:27,  1.01it/s]"
     ]
    },
    {
     "name": "stdout",
     "output_type": "stream",
     "text": [
      "IPR051165: 2 (2 unique)\n"
     ]
    },
    {
     "name": "stderr",
     "output_type": "stream",
     "text": [
      " 44%|████▍     | 117/265 [01:52<02:28,  1.00s/it]"
     ]
    },
    {
     "name": "stdout",
     "output_type": "stream",
     "text": [
      "IPR015816: 2 (2 unique)\n"
     ]
    },
    {
     "name": "stderr",
     "output_type": "stream",
     "text": [
      " 45%|████▍     | 118/265 [01:53<02:28,  1.01s/it]"
     ]
    },
    {
     "name": "stdout",
     "output_type": "stream",
     "text": [
      "IPR050733: 2 (2 unique)\n"
     ]
    },
    {
     "name": "stderr",
     "output_type": "stream",
     "text": [
      " 45%|████▍     | 119/265 [01:54<02:25,  1.00it/s]"
     ]
    },
    {
     "name": "stdout",
     "output_type": "stream",
     "text": [
      "IPR054694: 2 (2 unique)\n"
     ]
    },
    {
     "name": "stderr",
     "output_type": "stream",
     "text": [
      " 45%|████▌     | 120/265 [01:55<02:31,  1.04s/it]"
     ]
    },
    {
     "name": "stdout",
     "output_type": "stream",
     "text": [
      "IPR041170: 2 (2 unique)\n"
     ]
    },
    {
     "name": "stderr",
     "output_type": "stream",
     "text": [
      " 46%|████▌     | 121/265 [01:56<02:33,  1.07s/it]"
     ]
    },
    {
     "name": "stdout",
     "output_type": "stream",
     "text": [
      "IPR003977: 2 (2 unique)\n"
     ]
    },
    {
     "name": "stderr",
     "output_type": "stream",
     "text": [
      " 46%|████▌     | 122/265 [01:57<02:29,  1.05s/it]"
     ]
    },
    {
     "name": "stdout",
     "output_type": "stream",
     "text": [
      "IPR050889: 2 (2 unique)\n"
     ]
    },
    {
     "name": "stderr",
     "output_type": "stream",
     "text": [
      " 46%|████▋     | 123/265 [01:58<02:26,  1.03s/it]"
     ]
    },
    {
     "name": "stdout",
     "output_type": "stream",
     "text": [
      "IPR003377: 2 (2 unique)\n"
     ]
    },
    {
     "name": "stderr",
     "output_type": "stream",
     "text": [
      " 47%|████▋     | 124/265 [01:59<02:32,  1.08s/it]"
     ]
    },
    {
     "name": "stdout",
     "output_type": "stream",
     "text": [
      "IPR050668: 2 (2 unique)\n"
     ]
    },
    {
     "name": "stderr",
     "output_type": "stream",
     "text": [
      " 47%|████▋     | 125/265 [02:00<02:40,  1.15s/it]"
     ]
    },
    {
     "name": "stdout",
     "output_type": "stream",
     "text": [
      "IPR031790: 2 (2 unique)\n"
     ]
    },
    {
     "name": "stderr",
     "output_type": "stream",
     "text": [
      " 48%|████▊     | 126/265 [02:01<02:33,  1.10s/it]"
     ]
    },
    {
     "name": "stdout",
     "output_type": "stream",
     "text": [
      "IPR016818: 2 (2 unique)\n"
     ]
    },
    {
     "name": "stderr",
     "output_type": "stream",
     "text": [
      " 48%|████▊     | 127/265 [02:02<02:26,  1.06s/it]"
     ]
    },
    {
     "name": "stdout",
     "output_type": "stream",
     "text": [
      "IPR050758: 2 (2 unique)\n"
     ]
    },
    {
     "name": "stderr",
     "output_type": "stream",
     "text": [
      " 48%|████▊     | 128/265 [02:03<02:21,  1.03s/it]"
     ]
    },
    {
     "name": "stdout",
     "output_type": "stream",
     "text": [
      "IPR029248: 2 (2 unique)\n"
     ]
    },
    {
     "name": "stderr",
     "output_type": "stream",
     "text": [
      " 49%|████▊     | 129/265 [02:04<02:16,  1.00s/it]"
     ]
    },
    {
     "name": "stdout",
     "output_type": "stream",
     "text": [
      "IPR005813: 2 (2 unique)\n"
     ]
    },
    {
     "name": "stderr",
     "output_type": "stream",
     "text": [
      " 49%|████▉     | 130/265 [02:05<02:18,  1.02s/it]"
     ]
    },
    {
     "name": "stdout",
     "output_type": "stream",
     "text": [
      "IPR035566: 2 (2 unique)\n"
     ]
    },
    {
     "name": "stderr",
     "output_type": "stream",
     "text": [
      " 49%|████▉     | 131/265 [02:06<02:14,  1.00s/it]"
     ]
    },
    {
     "name": "stdout",
     "output_type": "stream",
     "text": [
      "IPR007242: 2 (2 unique)\n"
     ]
    },
    {
     "name": "stderr",
     "output_type": "stream",
     "text": [
      " 50%|████▉     | 132/265 [02:07<02:16,  1.03s/it]"
     ]
    },
    {
     "name": "stdout",
     "output_type": "stream",
     "text": [
      "IPR006175: 2 (2 unique)\n"
     ]
    },
    {
     "name": "stderr",
     "output_type": "stream",
     "text": [
      " 50%|█████     | 133/265 [02:08<02:18,  1.05s/it]"
     ]
    },
    {
     "name": "stdout",
     "output_type": "stream",
     "text": [
      "IPR034096: 2 (2 unique)\n"
     ]
    },
    {
     "name": "stderr",
     "output_type": "stream",
     "text": [
      " 51%|█████     | 134/265 [02:09<02:15,  1.04s/it]"
     ]
    },
    {
     "name": "stdout",
     "output_type": "stream",
     "text": [
      "IPR053134: 2 (2 unique)\n"
     ]
    },
    {
     "name": "stderr",
     "output_type": "stream",
     "text": [
      " 51%|█████     | 135/265 [02:10<02:13,  1.03s/it]"
     ]
    },
    {
     "name": "stdout",
     "output_type": "stream",
     "text": [
      "IPR052066: 6 (6 unique)\n"
     ]
    },
    {
     "name": "stderr",
     "output_type": "stream",
     "text": [
      " 51%|█████▏    | 136/265 [02:11<02:10,  1.01s/it]"
     ]
    },
    {
     "name": "stdout",
     "output_type": "stream",
     "text": [
      "IPR052160: 1 (1 unique)\n"
     ]
    },
    {
     "name": "stderr",
     "output_type": "stream",
     "text": [
      " 52%|█████▏    | 137/265 [02:12<02:10,  1.02s/it]"
     ]
    },
    {
     "name": "stdout",
     "output_type": "stream",
     "text": [
      "IPR050599: 2 (2 unique)\n"
     ]
    },
    {
     "name": "stderr",
     "output_type": "stream",
     "text": [
      " 52%|█████▏    | 138/265 [02:13<02:08,  1.02s/it]"
     ]
    },
    {
     "name": "stdout",
     "output_type": "stream",
     "text": [
      "IPR050327: 0 (0 unique)\n"
     ]
    },
    {
     "name": "stderr",
     "output_type": "stream",
     "text": [
      " 52%|█████▏    | 139/265 [02:15<02:12,  1.05s/it]"
     ]
    },
    {
     "name": "stdout",
     "output_type": "stream",
     "text": [
      "IPR050122: 0 (0 unique)\n"
     ]
    },
    {
     "name": "stderr",
     "output_type": "stream",
     "text": [
      " 53%|█████▎    | 140/265 [02:16<02:11,  1.05s/it]"
     ]
    },
    {
     "name": "stdout",
     "output_type": "stream",
     "text": [
      "IPR051131: 0 (0 unique)\n"
     ]
    },
    {
     "name": "stderr",
     "output_type": "stream",
     "text": [
      " 53%|█████▎    | 141/265 [02:17<02:08,  1.04s/it]"
     ]
    },
    {
     "name": "stdout",
     "output_type": "stream",
     "text": [
      "IPR050382: 0 (0 unique)\n"
     ]
    },
    {
     "name": "stderr",
     "output_type": "stream",
     "text": [
      " 54%|█████▎    | 142/265 [02:18<02:06,  1.03s/it]"
     ]
    },
    {
     "name": "stdout",
     "output_type": "stream",
     "text": [
      "IPR050302: 0 (0 unique)\n"
     ]
    },
    {
     "name": "stderr",
     "output_type": "stream",
     "text": [
      " 54%|█████▍    | 143/265 [02:19<02:03,  1.01s/it]"
     ]
    },
    {
     "name": "stdout",
     "output_type": "stream",
     "text": [
      "IPR050216: 0 (0 unique)\n"
     ]
    },
    {
     "name": "stderr",
     "output_type": "stream",
     "text": [
      " 54%|█████▍    | 144/265 [02:20<02:03,  1.02s/it]"
     ]
    },
    {
     "name": "stdout",
     "output_type": "stream",
     "text": [
      "IPR052993: 0 (0 unique)\n"
     ]
    },
    {
     "name": "stderr",
     "output_type": "stream",
     "text": [
      " 55%|█████▍    | 145/265 [02:21<02:02,  1.02s/it]"
     ]
    },
    {
     "name": "stdout",
     "output_type": "stream",
     "text": [
      "IPR050927: 0 (0 unique)\n"
     ]
    },
    {
     "name": "stderr",
     "output_type": "stream",
     "text": [
      " 55%|█████▌    | 146/265 [02:22<02:00,  1.02s/it]"
     ]
    },
    {
     "name": "stdout",
     "output_type": "stream",
     "text": [
      "IPR051835: 0 (0 unique)\n"
     ]
    },
    {
     "name": "stderr",
     "output_type": "stream",
     "text": [
      " 55%|█████▌    | 147/265 [02:23<02:00,  1.02s/it]"
     ]
    },
    {
     "name": "stdout",
     "output_type": "stream",
     "text": [
      "IPR050173: 1 (1 unique)\n"
     ]
    },
    {
     "name": "stderr",
     "output_type": "stream",
     "text": [
      " 56%|█████▌    | 148/265 [02:24<01:57,  1.01s/it]"
     ]
    },
    {
     "name": "stdout",
     "output_type": "stream",
     "text": [
      "IPR053025: 1 (1 unique)\n"
     ]
    },
    {
     "name": "stderr",
     "output_type": "stream",
     "text": [
      " 56%|█████▌    | 149/265 [02:25<01:59,  1.03s/it]"
     ]
    },
    {
     "name": "stdout",
     "output_type": "stream",
     "text": [
      "IPR053095: 1 (1 unique)\n"
     ]
    },
    {
     "name": "stderr",
     "output_type": "stream",
     "text": [
      " 57%|█████▋    | 150/265 [02:26<01:57,  1.03s/it]"
     ]
    },
    {
     "name": "stdout",
     "output_type": "stream",
     "text": [
      "IPR051783: 1 (1 unique)\n"
     ]
    },
    {
     "name": "stderr",
     "output_type": "stream",
     "text": [
      " 57%|█████▋    | 151/265 [02:27<02:01,  1.06s/it]"
     ]
    },
    {
     "name": "stdout",
     "output_type": "stream",
     "text": [
      "IPR050274: 1 (1 unique)\n"
     ]
    },
    {
     "name": "stderr",
     "output_type": "stream",
     "text": [
      " 57%|█████▋    | 152/265 [02:28<01:58,  1.04s/it]"
     ]
    },
    {
     "name": "stdout",
     "output_type": "stream",
     "text": [
      "IPR033466: 1 (1 unique)\n"
     ]
    },
    {
     "name": "stderr",
     "output_type": "stream",
     "text": [
      " 58%|█████▊    | 153/265 [02:29<01:56,  1.04s/it]"
     ]
    },
    {
     "name": "stdout",
     "output_type": "stream",
     "text": [
      "IPR028064: 1 (1 unique)\n"
     ]
    },
    {
     "name": "stderr",
     "output_type": "stream",
     "text": [
      " 58%|█████▊    | 154/265 [02:30<01:53,  1.02s/it]"
     ]
    },
    {
     "name": "stdout",
     "output_type": "stream",
     "text": [
      "IPR039540: 1 (1 unique)\n"
     ]
    },
    {
     "name": "stderr",
     "output_type": "stream",
     "text": [
      " 58%|█████▊    | 155/265 [02:31<01:57,  1.07s/it]"
     ]
    },
    {
     "name": "stdout",
     "output_type": "stream",
     "text": [
      "IPR050379: 1 (1 unique)\n"
     ]
    },
    {
     "name": "stderr",
     "output_type": "stream",
     "text": [
      " 59%|█████▉    | 156/265 [02:32<01:56,  1.07s/it]"
     ]
    },
    {
     "name": "stdout",
     "output_type": "stream",
     "text": [
      "IPR050989: 1 (1 unique)\n"
     ]
    },
    {
     "name": "stderr",
     "output_type": "stream",
     "text": [
      " 59%|█████▉    | 157/265 [02:33<01:53,  1.05s/it]"
     ]
    },
    {
     "name": "stdout",
     "output_type": "stream",
     "text": [
      "IPR050092: 1 (1 unique)\n"
     ]
    },
    {
     "name": "stderr",
     "output_type": "stream",
     "text": [
      " 60%|█████▉    | 158/265 [02:34<01:52,  1.06s/it]"
     ]
    },
    {
     "name": "stdout",
     "output_type": "stream",
     "text": [
      "IPR017067: 1 (1 unique)\n"
     ]
    },
    {
     "name": "stderr",
     "output_type": "stream",
     "text": [
      " 60%|██████    | 159/265 [02:35<01:50,  1.04s/it]"
     ]
    },
    {
     "name": "stdout",
     "output_type": "stream",
     "text": [
      "IPR042653: 1 (1 unique)\n"
     ]
    },
    {
     "name": "stderr",
     "output_type": "stream",
     "text": [
      " 60%|██████    | 160/265 [02:36<01:52,  1.07s/it]"
     ]
    },
    {
     "name": "stdout",
     "output_type": "stream",
     "text": [
      "IPR040459: 1 (1 unique)\n"
     ]
    },
    {
     "name": "stderr",
     "output_type": "stream",
     "text": [
      " 61%|██████    | 161/265 [02:38<01:53,  1.09s/it]"
     ]
    },
    {
     "name": "stdout",
     "output_type": "stream",
     "text": [
      "IPR050561: 1 (1 unique)\n"
     ]
    },
    {
     "name": "stderr",
     "output_type": "stream",
     "text": [
      " 61%|██████    | 162/265 [02:39<01:49,  1.07s/it]"
     ]
    },
    {
     "name": "stdout",
     "output_type": "stream",
     "text": [
      "IPR006056: 1 (1 unique)\n"
     ]
    },
    {
     "name": "stderr",
     "output_type": "stream",
     "text": [
      " 62%|██████▏   | 163/265 [02:40<01:51,  1.10s/it]"
     ]
    },
    {
     "name": "stdout",
     "output_type": "stream",
     "text": [
      "IPR052149: 1 (1 unique)\n"
     ]
    },
    {
     "name": "stderr",
     "output_type": "stream",
     "text": [
      " 62%|██████▏   | 164/265 [02:41<01:51,  1.11s/it]"
     ]
    },
    {
     "name": "stdout",
     "output_type": "stream",
     "text": [
      "IPR053040: 1 (1 unique)\n"
     ]
    },
    {
     "name": "stderr",
     "output_type": "stream",
     "text": [
      " 62%|██████▏   | 165/265 [02:42<01:51,  1.11s/it]"
     ]
    },
    {
     "name": "stdout",
     "output_type": "stream",
     "text": [
      "IPR029681: 1 (1 unique)\n"
     ]
    },
    {
     "name": "stderr",
     "output_type": "stream",
     "text": [
      " 63%|██████▎   | 166/265 [02:43<01:48,  1.10s/it]"
     ]
    },
    {
     "name": "stdout",
     "output_type": "stream",
     "text": [
      "IPR007404: 1 (1 unique)\n"
     ]
    },
    {
     "name": "stderr",
     "output_type": "stream",
     "text": [
      " 63%|██████▎   | 167/265 [02:44<01:46,  1.09s/it]"
     ]
    },
    {
     "name": "stdout",
     "output_type": "stream",
     "text": [
      "IPR018552: 1 (1 unique)\n"
     ]
    },
    {
     "name": "stderr",
     "output_type": "stream",
     "text": [
      " 63%|██████▎   | 168/265 [02:45<01:46,  1.10s/it]"
     ]
    },
    {
     "name": "stdout",
     "output_type": "stream",
     "text": [
      "IPR034132: 1 (1 unique)\n"
     ]
    },
    {
     "name": "stderr",
     "output_type": "stream",
     "text": [
      " 64%|██████▍   | 169/265 [02:46<01:44,  1.09s/it]"
     ]
    },
    {
     "name": "stdout",
     "output_type": "stream",
     "text": [
      "IPR041373: 3 (3 unique)\n"
     ]
    },
    {
     "name": "stderr",
     "output_type": "stream",
     "text": [
      " 64%|██████▍   | 170/265 [02:48<01:52,  1.19s/it]"
     ]
    },
    {
     "name": "stdout",
     "output_type": "stream",
     "text": [
      "IPR052652: 1 (1 unique)\n"
     ]
    },
    {
     "name": "stderr",
     "output_type": "stream",
     "text": [
      " 65%|██████▍   | 171/265 [02:49<01:48,  1.16s/it]"
     ]
    },
    {
     "name": "stdout",
     "output_type": "stream",
     "text": [
      "IPR041588: 2 (2 unique)\n"
     ]
    },
    {
     "name": "stderr",
     "output_type": "stream",
     "text": [
      " 65%|██████▍   | 172/265 [02:50<01:53,  1.22s/it]"
     ]
    },
    {
     "name": "stdout",
     "output_type": "stream",
     "text": [
      "IPR051631: 1 (1 unique)\n"
     ]
    },
    {
     "name": "stderr",
     "output_type": "stream",
     "text": [
      " 65%|██████▌   | 173/265 [02:52<01:56,  1.26s/it]"
     ]
    },
    {
     "name": "stdout",
     "output_type": "stream",
     "text": [
      "IPR052269: 1 (1 unique)\n"
     ]
    },
    {
     "name": "stderr",
     "output_type": "stream",
     "text": [
      " 66%|██████▌   | 174/265 [02:53<01:51,  1.23s/it]"
     ]
    },
    {
     "name": "stdout",
     "output_type": "stream",
     "text": [
      "IPR024445: 1 (1 unique)\n"
     ]
    },
    {
     "name": "stderr",
     "output_type": "stream",
     "text": [
      " 66%|██████▌   | 175/265 [02:54<01:45,  1.18s/it]"
     ]
    },
    {
     "name": "stdout",
     "output_type": "stream",
     "text": [
      "IPR050235: 1 (1 unique)\n"
     ]
    },
    {
     "name": "stderr",
     "output_type": "stream",
     "text": [
      " 66%|██████▋   | 176/265 [02:55<01:40,  1.13s/it]"
     ]
    },
    {
     "name": "stdout",
     "output_type": "stream",
     "text": [
      "IPR042237: 0 (0 unique)\n"
     ]
    },
    {
     "name": "stderr",
     "output_type": "stream",
     "text": [
      " 67%|██████▋   | 177/265 [02:56<01:43,  1.18s/it]"
     ]
    },
    {
     "name": "stdout",
     "output_type": "stream",
     "text": [
      "IPR049813: 0 (0 unique)\n"
     ]
    },
    {
     "name": "stderr",
     "output_type": "stream",
     "text": [
      " 67%|██████▋   | 178/265 [02:57<01:41,  1.17s/it]"
     ]
    },
    {
     "name": "stdout",
     "output_type": "stream",
     "text": [
      "IPR051583: 0 (0 unique)\n"
     ]
    },
    {
     "name": "stderr",
     "output_type": "stream",
     "text": [
      " 68%|██████▊   | 179/265 [02:58<01:38,  1.14s/it]"
     ]
    },
    {
     "name": "stdout",
     "output_type": "stream",
     "text": [
      "IPR051833: 0 (0 unique)\n"
     ]
    },
    {
     "name": "stderr",
     "output_type": "stream",
     "text": [
      " 68%|██████▊   | 180/265 [02:59<01:34,  1.11s/it]"
     ]
    },
    {
     "name": "stdout",
     "output_type": "stream",
     "text": [
      "IPR050449: 0 (0 unique)\n"
     ]
    },
    {
     "name": "stderr",
     "output_type": "stream",
     "text": [
      " 68%|██████▊   | 181/265 [03:00<01:31,  1.08s/it]"
     ]
    },
    {
     "name": "stdout",
     "output_type": "stream",
     "text": [
      "IPR050701: 0 (0 unique)\n"
     ]
    },
    {
     "name": "stderr",
     "output_type": "stream",
     "text": [
      " 69%|██████▊   | 182/265 [03:01<01:30,  1.09s/it]"
     ]
    },
    {
     "name": "stdout",
     "output_type": "stream",
     "text": [
      "IPR050082: 0 (0 unique)\n"
     ]
    },
    {
     "name": "stderr",
     "output_type": "stream",
     "text": [
      " 69%|██████▉   | 183/265 [03:03<01:29,  1.09s/it]"
     ]
    },
    {
     "name": "stdout",
     "output_type": "stream",
     "text": [
      "IPR050079: 0 (0 unique)\n"
     ]
    },
    {
     "name": "stderr",
     "output_type": "stream",
     "text": [
      " 69%|██████▉   | 184/265 [03:04<01:30,  1.11s/it]"
     ]
    },
    {
     "name": "stdout",
     "output_type": "stream",
     "text": [
      "IPR052579: 0 (0 unique)\n"
     ]
    },
    {
     "name": "stderr",
     "output_type": "stream",
     "text": [
      " 70%|██████▉   | 185/265 [03:05<01:24,  1.06s/it]"
     ]
    },
    {
     "name": "stdout",
     "output_type": "stream",
     "text": [
      "IPR039870: 0 (0 unique)\n"
     ]
    },
    {
     "name": "stderr",
     "output_type": "stream",
     "text": [
      " 70%|███████   | 186/265 [03:06<01:21,  1.03s/it]"
     ]
    },
    {
     "name": "stdout",
     "output_type": "stream",
     "text": [
      "IPR051746: 0 (0 unique)\n"
     ]
    },
    {
     "name": "stderr",
     "output_type": "stream",
     "text": [
      " 71%|███████   | 187/265 [03:07<01:18,  1.00s/it]"
     ]
    },
    {
     "name": "stdout",
     "output_type": "stream",
     "text": [
      "IPR051974: 0 (0 unique)\n"
     ]
    },
    {
     "name": "stderr",
     "output_type": "stream",
     "text": [
      " 71%|███████   | 188/265 [03:08<01:15,  1.01it/s]"
     ]
    },
    {
     "name": "stdout",
     "output_type": "stream",
     "text": [
      "IPR052094: 0 (0 unique)\n"
     ]
    },
    {
     "name": "stderr",
     "output_type": "stream",
     "text": [
      " 71%|███████▏  | 189/265 [03:09<01:16,  1.00s/it]"
     ]
    },
    {
     "name": "stdout",
     "output_type": "stream",
     "text": [
      "IPR028325: 0 (0 unique)\n"
     ]
    },
    {
     "name": "stderr",
     "output_type": "stream",
     "text": [
      " 72%|███████▏  | 190/265 [03:10<01:14,  1.01it/s]"
     ]
    },
    {
     "name": "stdout",
     "output_type": "stream",
     "text": [
      "IPR051177: 0 (0 unique)\n"
     ]
    },
    {
     "name": "stderr",
     "output_type": "stream",
     "text": [
      " 72%|███████▏  | 191/265 [03:11<01:13,  1.00it/s]"
     ]
    },
    {
     "name": "stdout",
     "output_type": "stream",
     "text": [
      "IPR051857: 0 (0 unique)\n"
     ]
    },
    {
     "name": "stderr",
     "output_type": "stream",
     "text": [
      " 72%|███████▏  | 192/265 [03:12<01:14,  1.02s/it]"
     ]
    },
    {
     "name": "stdout",
     "output_type": "stream",
     "text": [
      "IPR051569: 0 (0 unique)\n"
     ]
    },
    {
     "name": "stderr",
     "output_type": "stream",
     "text": [
      " 73%|███████▎  | 193/265 [03:13<01:12,  1.01s/it]"
     ]
    },
    {
     "name": "stdout",
     "output_type": "stream",
     "text": [
      "IPR050348: 0 (0 unique)\n"
     ]
    },
    {
     "name": "stderr",
     "output_type": "stream",
     "text": [
      " 73%|███████▎  | 194/265 [03:14<01:11,  1.01s/it]"
     ]
    },
    {
     "name": "stdout",
     "output_type": "stream",
     "text": [
      "IPR050699: 0 (0 unique)\n"
     ]
    },
    {
     "name": "stderr",
     "output_type": "stream",
     "text": [
      " 74%|███████▎  | 195/265 [03:15<01:10,  1.01s/it]"
     ]
    },
    {
     "name": "stdout",
     "output_type": "stream",
     "text": [
      "IPR053003: 0 (0 unique)\n"
     ]
    },
    {
     "name": "stderr",
     "output_type": "stream",
     "text": [
      " 74%|███████▍  | 196/265 [03:16<01:12,  1.04s/it]"
     ]
    },
    {
     "name": "stdout",
     "output_type": "stream",
     "text": [
      "IPR050751: 0 (0 unique)\n"
     ]
    },
    {
     "name": "stderr",
     "output_type": "stream",
     "text": [
      " 74%|███████▍  | 197/265 [03:17<01:10,  1.03s/it]"
     ]
    },
    {
     "name": "stdout",
     "output_type": "stream",
     "text": [
      "IPR049883: 0 (0 unique)\n"
     ]
    },
    {
     "name": "stderr",
     "output_type": "stream",
     "text": [
      " 75%|███████▍  | 198/265 [03:18<01:08,  1.02s/it]"
     ]
    },
    {
     "name": "stdout",
     "output_type": "stream",
     "text": [
      "IPR050503: 0 (0 unique)\n"
     ]
    },
    {
     "name": "stderr",
     "output_type": "stream",
     "text": [
      " 75%|███████▌  | 199/265 [03:19<01:06,  1.00s/it]"
     ]
    },
    {
     "name": "stdout",
     "output_type": "stream",
     "text": [
      "IPR052795: 0 (0 unique)\n"
     ]
    },
    {
     "name": "stderr",
     "output_type": "stream",
     "text": [
      " 75%|███████▌  | 200/265 [03:20<01:04,  1.01it/s]"
     ]
    },
    {
     "name": "stdout",
     "output_type": "stream",
     "text": [
      "IPR051280: 0 (0 unique)\n"
     ]
    },
    {
     "name": "stderr",
     "output_type": "stream",
     "text": [
      " 76%|███████▌  | 201/265 [03:21<01:03,  1.01it/s]"
     ]
    },
    {
     "name": "stdout",
     "output_type": "stream",
     "text": [
      "IPR050185: 0 (0 unique)\n"
     ]
    },
    {
     "name": "stderr",
     "output_type": "stream",
     "text": [
      " 76%|███████▌  | 202/265 [03:22<01:01,  1.02it/s]"
     ]
    },
    {
     "name": "stdout",
     "output_type": "stream",
     "text": [
      "IPR050717: 0 (0 unique)\n"
     ]
    },
    {
     "name": "stderr",
     "output_type": "stream",
     "text": [
      " 77%|███████▋  | 203/265 [03:23<01:00,  1.02it/s]"
     ]
    },
    {
     "name": "stdout",
     "output_type": "stream",
     "text": [
      "IPR051281: 0 (0 unique)\n"
     ]
    },
    {
     "name": "stderr",
     "output_type": "stream",
     "text": [
      " 77%|███████▋  | 204/265 [03:24<00:59,  1.02it/s]"
     ]
    },
    {
     "name": "stdout",
     "output_type": "stream",
     "text": [
      "IPR051944: 0 (0 unique)\n"
     ]
    },
    {
     "name": "stderr",
     "output_type": "stream",
     "text": [
      " 77%|███████▋  | 205/265 [03:25<00:58,  1.02it/s]"
     ]
    },
    {
     "name": "stdout",
     "output_type": "stream",
     "text": [
      "IPR042635: 0 (0 unique)\n"
     ]
    },
    {
     "name": "stderr",
     "output_type": "stream",
     "text": [
      " 78%|███████▊  | 206/265 [03:26<01:00,  1.03s/it]"
     ]
    },
    {
     "name": "stdout",
     "output_type": "stream",
     "text": [
      "IPR042406: 0 (0 unique)\n"
     ]
    },
    {
     "name": "stderr",
     "output_type": "stream",
     "text": [
      " 78%|███████▊  | 207/265 [03:27<00:59,  1.03s/it]"
     ]
    },
    {
     "name": "stdout",
     "output_type": "stream",
     "text": [
      "IPR012932: 0 (0 unique)\n"
     ]
    },
    {
     "name": "stderr",
     "output_type": "stream",
     "text": [
      " 78%|███████▊  | 208/265 [03:28<00:57,  1.01s/it]"
     ]
    },
    {
     "name": "stdout",
     "output_type": "stream",
     "text": [
      "IPR051001: 0 (0 unique)\n"
     ]
    },
    {
     "name": "stderr",
     "output_type": "stream",
     "text": [
      " 79%|███████▉  | 209/265 [03:29<00:56,  1.01s/it]"
     ]
    },
    {
     "name": "stdout",
     "output_type": "stream",
     "text": [
      "IPR050606: 0 (0 unique)\n"
     ]
    },
    {
     "name": "stderr",
     "output_type": "stream",
     "text": [
      " 79%|███████▉  | 210/265 [03:30<00:54,  1.01it/s]"
     ]
    },
    {
     "name": "stdout",
     "output_type": "stream",
     "text": [
      "IPR009600: 0 (0 unique)\n"
     ]
    },
    {
     "name": "stderr",
     "output_type": "stream",
     "text": [
      " 80%|███████▉  | 211/265 [03:31<00:54,  1.00s/it]"
     ]
    },
    {
     "name": "stdout",
     "output_type": "stream",
     "text": [
      "IPR051341: 0 (0 unique)\n"
     ]
    },
    {
     "name": "stderr",
     "output_type": "stream",
     "text": [
      " 80%|████████  | 212/265 [03:32<00:55,  1.05s/it]"
     ]
    },
    {
     "name": "stdout",
     "output_type": "stream",
     "text": [
      "IPR051370: 0 (0 unique)\n"
     ]
    },
    {
     "name": "stderr",
     "output_type": "stream",
     "text": [
      " 80%|████████  | 213/265 [03:33<00:53,  1.03s/it]"
     ]
    },
    {
     "name": "stdout",
     "output_type": "stream",
     "text": [
      "IPR051578: 0 (0 unique)\n"
     ]
    },
    {
     "name": "stderr",
     "output_type": "stream",
     "text": [
      " 81%|████████  | 214/265 [03:34<00:52,  1.02s/it]"
     ]
    },
    {
     "name": "stdout",
     "output_type": "stream",
     "text": [
      "IPR050932: 0 (0 unique)\n"
     ]
    },
    {
     "name": "stderr",
     "output_type": "stream",
     "text": [
      " 81%|████████  | 215/265 [03:35<00:50,  1.01s/it]"
     ]
    },
    {
     "name": "stdout",
     "output_type": "stream",
     "text": [
      "IPR034168: 0 (0 unique)\n"
     ]
    },
    {
     "name": "stderr",
     "output_type": "stream",
     "text": [
      " 82%|████████▏ | 216/265 [03:36<00:49,  1.01s/it]"
     ]
    },
    {
     "name": "stdout",
     "output_type": "stream",
     "text": [
      "IPR051167: 0 (0 unique)\n"
     ]
    },
    {
     "name": "stderr",
     "output_type": "stream",
     "text": [
      " 82%|████████▏ | 217/265 [03:37<00:48,  1.00s/it]"
     ]
    },
    {
     "name": "stdout",
     "output_type": "stream",
     "text": [
      "IPR050409: 0 (0 unique)\n"
     ]
    },
    {
     "name": "stderr",
     "output_type": "stream",
     "text": [
      " 82%|████████▏ | 218/265 [03:38<00:46,  1.00it/s]"
     ]
    },
    {
     "name": "stdout",
     "output_type": "stream",
     "text": [
      "IPR054532: 0 (0 unique)\n"
     ]
    },
    {
     "name": "stderr",
     "output_type": "stream",
     "text": [
      " 83%|████████▎ | 219/265 [03:39<00:46,  1.00s/it]"
     ]
    },
    {
     "name": "stdout",
     "output_type": "stream",
     "text": [
      "IPR050117: 1 (1 unique)\n"
     ]
    },
    {
     "name": "stderr",
     "output_type": "stream",
     "text": [
      " 83%|████████▎ | 220/265 [03:40<00:45,  1.00s/it]"
     ]
    },
    {
     "name": "stdout",
     "output_type": "stream",
     "text": [
      "IPR051618: 0 (0 unique)\n"
     ]
    },
    {
     "name": "stderr",
     "output_type": "stream",
     "text": [
      " 83%|████████▎ | 221/265 [03:41<00:44,  1.02s/it]"
     ]
    },
    {
     "name": "stdout",
     "output_type": "stream",
     "text": [
      "IPR051434: 0 (0 unique)\n"
     ]
    },
    {
     "name": "stderr",
     "output_type": "stream",
     "text": [
      " 84%|████████▍ | 222/265 [03:42<00:44,  1.02s/it]"
     ]
    },
    {
     "name": "stdout",
     "output_type": "stream",
     "text": [
      "IPR050238: 0 (0 unique)\n"
     ]
    },
    {
     "name": "stderr",
     "output_type": "stream",
     "text": [
      " 84%|████████▍ | 223/265 [03:43<00:42,  1.01s/it]"
     ]
    },
    {
     "name": "stdout",
     "output_type": "stream",
     "text": [
      "IPR022324: 0 (0 unique)\n"
     ]
    },
    {
     "name": "stderr",
     "output_type": "stream",
     "text": [
      " 85%|████████▍ | 224/265 [03:44<00:41,  1.01s/it]"
     ]
    },
    {
     "name": "stdout",
     "output_type": "stream",
     "text": [
      "IPR039843: 0 (0 unique)\n"
     ]
    },
    {
     "name": "stderr",
     "output_type": "stream",
     "text": [
      " 85%|████████▍ | 225/265 [03:45<00:39,  1.00it/s]"
     ]
    },
    {
     "name": "stdout",
     "output_type": "stream",
     "text": [
      "IPR052942: 0 (0 unique)\n"
     ]
    },
    {
     "name": "stderr",
     "output_type": "stream",
     "text": [
      " 85%|████████▌ | 226/265 [03:46<00:38,  1.00it/s]"
     ]
    },
    {
     "name": "stdout",
     "output_type": "stream",
     "text": [
      "IPR050698: 0 (0 unique)\n"
     ]
    },
    {
     "name": "stderr",
     "output_type": "stream",
     "text": [
      " 86%|████████▌ | 227/265 [03:47<00:37,  1.02it/s]"
     ]
    },
    {
     "name": "stdout",
     "output_type": "stream",
     "text": [
      "IPR052394: 0 (0 unique)\n"
     ]
    },
    {
     "name": "stderr",
     "output_type": "stream",
     "text": [
      " 86%|████████▌ | 228/265 [03:48<00:36,  1.03it/s]"
     ]
    },
    {
     "name": "stdout",
     "output_type": "stream",
     "text": [
      "IPR050645: 0 (0 unique)\n"
     ]
    },
    {
     "name": "stderr",
     "output_type": "stream",
     "text": [
      " 86%|████████▋ | 229/265 [03:49<00:34,  1.04it/s]"
     ]
    },
    {
     "name": "stdout",
     "output_type": "stream",
     "text": [
      "IPR050745: 0 (0 unique)\n"
     ]
    },
    {
     "name": "stderr",
     "output_type": "stream",
     "text": [
      " 87%|████████▋ | 230/265 [03:50<00:33,  1.03it/s]"
     ]
    },
    {
     "name": "stdout",
     "output_type": "stream",
     "text": [
      "IPR050836: 0 (0 unique)\n"
     ]
    },
    {
     "name": "stderr",
     "output_type": "stream",
     "text": [
      " 87%|████████▋ | 231/265 [03:51<00:33,  1.02it/s]"
     ]
    },
    {
     "name": "stdout",
     "output_type": "stream",
     "text": [
      "IPR051739: 0 (0 unique)\n"
     ]
    },
    {
     "name": "stderr",
     "output_type": "stream",
     "text": [
      " 88%|████████▊ | 232/265 [03:52<00:32,  1.03it/s]"
     ]
    },
    {
     "name": "stdout",
     "output_type": "stream",
     "text": [
      "IPR051025: 0 (0 unique)\n"
     ]
    },
    {
     "name": "stderr",
     "output_type": "stream",
     "text": [
      " 88%|████████▊ | 233/265 [03:53<00:31,  1.03it/s]"
     ]
    },
    {
     "name": "stdout",
     "output_type": "stream",
     "text": [
      "IPR054429: 0 (0 unique)\n"
     ]
    },
    {
     "name": "stderr",
     "output_type": "stream",
     "text": [
      " 88%|████████▊ | 234/265 [03:54<00:30,  1.02it/s]"
     ]
    },
    {
     "name": "stdout",
     "output_type": "stream",
     "text": [
      "IPR050527: 0 (0 unique)\n"
     ]
    },
    {
     "name": "stderr",
     "output_type": "stream",
     "text": [
      " 89%|████████▊ | 235/265 [03:55<00:29,  1.02it/s]"
     ]
    },
    {
     "name": "stdout",
     "output_type": "stream",
     "text": [
      "IPR052311: 0 (0 unique)\n"
     ]
    },
    {
     "name": "stderr",
     "output_type": "stream",
     "text": [
      " 89%|████████▉ | 236/265 [03:56<00:28,  1.01it/s]"
     ]
    },
    {
     "name": "stdout",
     "output_type": "stream",
     "text": [
      "IPR050198: 0 (0 unique)\n"
     ]
    },
    {
     "name": "stderr",
     "output_type": "stream",
     "text": [
      " 89%|████████▉ | 237/265 [03:57<00:27,  1.03it/s]"
     ]
    },
    {
     "name": "stdout",
     "output_type": "stream",
     "text": [
      "IPR052093: 0 (0 unique)\n"
     ]
    },
    {
     "name": "stderr",
     "output_type": "stream",
     "text": [
      " 90%|████████▉ | 238/265 [03:58<00:26,  1.03it/s]"
     ]
    },
    {
     "name": "stdout",
     "output_type": "stream",
     "text": [
      "IPR052954: 0 (0 unique)\n"
     ]
    },
    {
     "name": "stderr",
     "output_type": "stream",
     "text": [
      " 90%|█████████ | 239/265 [03:58<00:24,  1.04it/s]"
     ]
    },
    {
     "name": "stdout",
     "output_type": "stream",
     "text": [
      "IPR053879: 0 (0 unique)\n"
     ]
    },
    {
     "name": "stderr",
     "output_type": "stream",
     "text": [
      " 91%|█████████ | 240/265 [03:59<00:23,  1.05it/s]"
     ]
    },
    {
     "name": "stdout",
     "output_type": "stream",
     "text": [
      "IPR050866: 0 (0 unique)\n"
     ]
    },
    {
     "name": "stderr",
     "output_type": "stream",
     "text": [
      " 91%|█████████ | 241/265 [04:00<00:23,  1.04it/s]"
     ]
    },
    {
     "name": "stdout",
     "output_type": "stream",
     "text": [
      "IPR051092: 0 (0 unique)\n"
     ]
    },
    {
     "name": "stderr",
     "output_type": "stream",
     "text": [
      " 91%|█████████▏| 242/265 [04:01<00:21,  1.05it/s]"
     ]
    },
    {
     "name": "stdout",
     "output_type": "stream",
     "text": [
      "IPR050149: 0 (0 unique)\n"
     ]
    },
    {
     "name": "stderr",
     "output_type": "stream",
     "text": [
      " 92%|█████████▏| 243/265 [04:02<00:20,  1.06it/s]"
     ]
    },
    {
     "name": "stdout",
     "output_type": "stream",
     "text": [
      "IPR051070: 0 (0 unique)\n"
     ]
    },
    {
     "name": "stderr",
     "output_type": "stream",
     "text": [
      " 92%|█████████▏| 244/265 [04:03<00:20,  1.04it/s]"
     ]
    },
    {
     "name": "stdout",
     "output_type": "stream",
     "text": [
      "IPR051519: 0 (0 unique)\n"
     ]
    },
    {
     "name": "stderr",
     "output_type": "stream",
     "text": [
      " 92%|█████████▏| 245/265 [04:04<00:19,  1.04it/s]"
     ]
    },
    {
     "name": "stdout",
     "output_type": "stream",
     "text": [
      "IPR053014: 0 (0 unique)\n"
     ]
    },
    {
     "name": "stderr",
     "output_type": "stream",
     "text": [
      " 93%|█████████▎| 246/265 [04:05<00:18,  1.02it/s]"
     ]
    },
    {
     "name": "stdout",
     "output_type": "stream",
     "text": [
      "IPR052208: 0 (0 unique)\n"
     ]
    },
    {
     "name": "stderr",
     "output_type": "stream",
     "text": [
      " 93%|█████████▎| 247/265 [04:06<00:17,  1.02it/s]"
     ]
    },
    {
     "name": "stdout",
     "output_type": "stream",
     "text": [
      "IPR050776: 0 (0 unique)\n"
     ]
    },
    {
     "name": "stderr",
     "output_type": "stream",
     "text": [
      " 94%|█████████▎| 248/265 [04:07<00:16,  1.03it/s]"
     ]
    },
    {
     "name": "stdout",
     "output_type": "stream",
     "text": [
      "IPR050440: 0 (0 unique)\n"
     ]
    },
    {
     "name": "stderr",
     "output_type": "stream",
     "text": [
      " 94%|█████████▍| 249/265 [04:08<00:15,  1.02it/s]"
     ]
    },
    {
     "name": "stdout",
     "output_type": "stream",
     "text": [
      "IPR051738: 0 (0 unique)\n"
     ]
    },
    {
     "name": "stderr",
     "output_type": "stream",
     "text": [
      " 94%|█████████▍| 250/265 [04:09<00:14,  1.02it/s]"
     ]
    },
    {
     "name": "stdout",
     "output_type": "stream",
     "text": [
      "IPR052434: 0 (0 unique)\n"
     ]
    },
    {
     "name": "stderr",
     "output_type": "stream",
     "text": [
      " 95%|█████████▍| 251/265 [04:10<00:13,  1.02it/s]"
     ]
    },
    {
     "name": "stdout",
     "output_type": "stream",
     "text": [
      "IPR050116: 0 (0 unique)\n"
     ]
    },
    {
     "name": "stderr",
     "output_type": "stream",
     "text": [
      " 95%|█████████▌| 252/265 [04:11<00:12,  1.04it/s]"
     ]
    },
    {
     "name": "stdout",
     "output_type": "stream",
     "text": [
      "IPR052403: 0 (0 unique)\n"
     ]
    },
    {
     "name": "stderr",
     "output_type": "stream",
     "text": [
      " 95%|█████████▌| 253/265 [04:12<00:11,  1.05it/s]"
     ]
    },
    {
     "name": "stdout",
     "output_type": "stream",
     "text": [
      "IPR050818: 0 (0 unique)\n"
     ]
    },
    {
     "name": "stderr",
     "output_type": "stream",
     "text": [
      " 96%|█████████▌| 254/265 [04:13<00:10,  1.06it/s]"
     ]
    },
    {
     "name": "stdout",
     "output_type": "stream",
     "text": [
      "IPR051337: 0 (0 unique)\n"
     ]
    },
    {
     "name": "stderr",
     "output_type": "stream",
     "text": [
      " 96%|█████████▌| 255/265 [04:14<00:09,  1.06it/s]"
     ]
    },
    {
     "name": "stdout",
     "output_type": "stream",
     "text": [
      "IPR050886: 0 (0 unique)\n"
     ]
    },
    {
     "name": "stderr",
     "output_type": "stream",
     "text": [
      " 97%|█████████▋| 256/265 [04:15<00:08,  1.04it/s]"
     ]
    },
    {
     "name": "stdout",
     "output_type": "stream",
     "text": [
      "IPR051382: 0 (0 unique)\n"
     ]
    },
    {
     "name": "stderr",
     "output_type": "stream",
     "text": [
      " 97%|█████████▋| 257/265 [04:16<00:07,  1.04it/s]"
     ]
    },
    {
     "name": "stdout",
     "output_type": "stream",
     "text": [
      "IPR051093: 0 (0 unique)\n"
     ]
    },
    {
     "name": "stderr",
     "output_type": "stream",
     "text": [
      " 97%|█████████▋| 258/265 [04:17<00:06,  1.04it/s]"
     ]
    },
    {
     "name": "stdout",
     "output_type": "stream",
     "text": [
      "IPR052224: 0 (0 unique)\n"
     ]
    },
    {
     "name": "stderr",
     "output_type": "stream",
     "text": [
      " 98%|█████████▊| 259/265 [04:18<00:05,  1.04it/s]"
     ]
    },
    {
     "name": "stdout",
     "output_type": "stream",
     "text": [
      "IPR038441: 0 (0 unique)\n"
     ]
    },
    {
     "name": "stderr",
     "output_type": "stream",
     "text": [
      " 98%|█████████▊| 260/265 [04:19<00:04,  1.07it/s]"
     ]
    },
    {
     "name": "stdout",
     "output_type": "stream",
     "text": [
      "IPR036366: 0 (0 unique)\n"
     ]
    },
    {
     "name": "stderr",
     "output_type": "stream",
     "text": [
      " 98%|█████████▊| 261/265 [04:19<00:03,  1.09it/s]"
     ]
    },
    {
     "name": "stdout",
     "output_type": "stream",
     "text": [
      "IPR050342: 0 (0 unique)\n"
     ]
    },
    {
     "name": "stderr",
     "output_type": "stream",
     "text": [
      " 99%|█████████▉| 262/265 [04:20<00:02,  1.10it/s]"
     ]
    },
    {
     "name": "stdout",
     "output_type": "stream",
     "text": [
      "IPR004323: 0 (0 unique)\n"
     ]
    },
    {
     "name": "stderr",
     "output_type": "stream",
     "text": [
      " 99%|█████████▉| 263/265 [04:21<00:01,  1.08it/s]"
     ]
    },
    {
     "name": "stdout",
     "output_type": "stream",
     "text": [
      "IPR011322: 0 (0 unique)\n"
     ]
    },
    {
     "name": "stderr",
     "output_type": "stream",
     "text": [
      "100%|█████████▉| 264/265 [04:22<00:00,  1.07it/s]"
     ]
    },
    {
     "name": "stdout",
     "output_type": "stream",
     "text": [
      "IPR000077: 0 (0 unique)\n"
     ]
    },
    {
     "name": "stderr",
     "output_type": "stream",
     "text": [
      "100%|██████████| 265/265 [04:23<00:00,  1.01it/s]"
     ]
    },
    {
     "name": "stdout",
     "output_type": "stream",
     "text": [
      "IPR023626: 0 (0 unique)\n"
     ]
    },
    {
     "name": "stderr",
     "output_type": "stream",
     "text": [
      "\n"
     ]
    }
   ],
   "source": [
    "anno_prefix = \"transcript_ENSSMAT\"\n",
    "braker_prefix = \"g\"\n",
    "helixer_prefix = \"Schistosoma_mansoni_SM_V10_\"\n",
    "non_te_unique_transcripts = set()\n",
    "te_unique_transcripts = set()\n",
    "\n",
    "for acc in tqdm(overrepd_accs, total=len(overrepd_accs)):\n",
    "    tool_transcript_counts = [count_transcripts_with_accession(acc, p, interproscan_dir) for p in (anno_prefix, braker_prefix, helixer_prefix)]\n",
    "    unique_transcripts = flatten_list_to_set(list(map(itemgetter(1), tool_transcript_counts)))\n",
    "    print(f\"{acc}: {sum(map(itemgetter(0), tool_transcript_counts))} ({len(unique_transcripts)} unique)\")\n",
    "    if acc in te_accs:\n",
    "        te_unique_transcripts.update(unique_transcripts)\n",
    "    else:\n",
    "        non_te_unique_transcripts.update(unique_transcripts)"
   ]
  },
  {
   "cell_type": "markdown",
   "metadata": {},
   "source": [
    "204 unique novel genes associated with overrepresented IPRs, none of which are associated explicitly with TEs.\n",
    "\n",
    "- 85 Anno\n",
    "- 49 BRAKER3\n",
    "- 70 Helixer"
   ]
  },
  {
   "cell_type": "code",
   "execution_count": 46,
   "metadata": {},
   "outputs": [
    {
     "name": "stdout",
     "output_type": "stream",
     "text": [
      "235\n",
      "93\n",
      "65\n",
      "77\n"
     ]
    }
   ],
   "source": [
    "print(len(non_te_unique_transcripts))\n",
    "print(len([t for t in non_te_unique_transcripts if t.startswith(anno_prefix)]))\n",
    "print(len([t for t in non_te_unique_transcripts if t.startswith(braker_prefix)]))\n",
    "print(len([t for t in non_te_unique_transcripts if t.startswith(helixer_prefix)]))\n",
    "\n",
    "# for t in non_te_unique_transcripts:\n",
    "#     print(t)"
   ]
  },
  {
   "cell_type": "code",
   "execution_count": 47,
   "metadata": {},
   "outputs": [
    {
     "data": {
      "text/plain": [
       "set()"
      ]
     },
     "execution_count": 47,
     "metadata": {},
     "output_type": "execute_result"
    }
   ],
   "source": [
    "te_unique_transcripts"
   ]
  },
  {
   "cell_type": "code",
   "execution_count": 50,
   "metadata": {},
   "outputs": [
    {
     "name": "stdout",
     "output_type": "stream",
     "text": [
      "InterPro accessions occurring with significantly higher frequency in transcripts that were missed by all tools, than in transcripts shared by at least 1 tool:\n",
      "\tIPR001254: Serine proteases, trypsin domain (20 occurrences, 0 expected)\n",
      "\tIPR043504: Peptidase S1, PA clan, chymotrypsin-like fold (20 occurrences, 0 expected)\n",
      "\tIPR009003: Peptidase S1, PA clan (21 occurrences, 0 expected)\n",
      "\tIPR007125: Histone H2A/H2B/H3 (5 occurrences, 0 expected)\n",
      "\tIPR009072: Histone-fold (8 occurrences, 0 expected)\n",
      "\n",
      "InterPro accessions that are completely missing from transcripts shared by at least 1 tool, but present in transcripts that were missed by all tools:\n",
      "\n",
      "InterPro accessions occurring as expected in transcripts that were missed by all tools.\n"
     ]
    }
   ],
   "source": [
    "interpro_accessions_frequently_missed_by_all_tools(flatten_nested_dict(acc_product), acc_tally_no_tool, no_tools_results, min_freq=5)"
   ]
  },
  {
   "cell_type": "markdown",
   "metadata": {},
   "source": [
    "Find accessions that are significantly commonly missed by each tool."
   ]
  },
  {
   "cell_type": "code",
   "execution_count": 51,
   "metadata": {},
   "outputs": [
    {
     "name": "stdout",
     "output_type": "stream",
     "text": [
      "IPR015898: G-protein gamma-like domain\n",
      "40.6 times more likely than with BRAKER3 (2 occurrences, 0 expected)\n",
      "46.25 times more likely than with Helixer (2 occurrences, 0 expected)\n",
      "69.27 times more likely than with Anno (2 occurrences, 0 expected)\n",
      "~~~~~~~~~~\n",
      "IPR036284: G-protein gamma-like domain superfamily\n",
      "40.6 times more likely than with BRAKER3 (2 occurrences, 0 expected)\n",
      "46.25 times more likely than with Helixer (2 occurrences, 0 expected)\n",
      "69.27 times more likely than with Anno (2 occurrences, 0 expected)\n",
      "~~~~~~~~~~\n",
      "IPR002119: Histone H2A\n",
      "16.26 times more likely than with BRAKER3 (4 occurrences, 0 expected)\n",
      "69.61 times more likely than with Helixer (6 occurrences, 0 expected)\n",
      "20.81 times more likely than with Anno (3 occurrences, 0 expected)\n",
      "~~~~~~~~~~\n",
      "IPR032458: Histone H2A conserved site\n",
      "15.24 times more likely than with BRAKER3 (3 occurrences, 0 expected)\n",
      "115.92 times more likely than with Helixer (5 occurrences, 0 expected)\n",
      "17.32 times more likely than with Anno (2 occurrences, 0 expected)\n",
      "~~~~~~~~~~\n",
      "IPR009072: Histone-fold\n",
      "5.92 times more likely than with BRAKER3 (9 occurrences, 2 expected)\n",
      "27.41 times more likely than with Helixer (21 occurrences, 1 expected)\n",
      "9.24 times more likely than with Anno (9 occurrences, 1 expected)\n",
      "~~~~~~~~~~\n",
      "IPR007125: Histone H2A/H2B/H3\n",
      "10.18 times more likely than with BRAKER3 (6 occurrences, 1 expected)\n",
      "109.02 times more likely than with Helixer (14 occurrences, 0 expected)\n",
      "12.41 times more likely than with Anno (5 occurrences, 0 expected)\n",
      "~~~~~~~~~~\n",
      "IPR021712: Uncharacterised domain UPF0506\n",
      "8.13 times more likely than with BRAKER3 (4 occurrences, 0 expected)\n",
      "9.26 times more likely than with Helixer (4 occurrences, 0 expected)\n",
      "62.88 times more likely than with Anno (9 occurrences, 0 expected)\n",
      "~~~~~~~~~~\n",
      "IPR009003: Peptidase S1, PA clan\n",
      "69.82 times more likely than with BRAKER3 (27 occurrences, 0 expected)\n",
      "39.79 times more likely than with Helixer (22 occurrences, 1 expected)\n",
      "60.08 times more likely than with Anno (22 occurrences, 0 expected)\n",
      "~~~~~~~~~~\n",
      "IPR000164: Histone H3/CENP-A\n",
      "12.19 times more likely than with BRAKER3 (3 occurrences, 0 expected)\n",
      "162.57 times more likely than with Helixer (7 occurrences, 0 expected)\n",
      "17.34 times more likely than with Anno (3 occurrences, 0 expected)\n",
      "~~~~~~~~~~\n",
      "IPR001254: Serine proteases, trypsin domain\n",
      "64.55 times more likely than with BRAKER3 (25 occurrences, 0 expected)\n",
      "41.12 times more likely than with Helixer (21 occurrences, 1 expected)\n",
      "54.48 times more likely than with Anno (20 occurrences, 0 expected)\n",
      "~~~~~~~~~~\n",
      "IPR043504: Peptidase S1, PA clan, chymotrypsin-like fold\n",
      "64.55 times more likely than with BRAKER3 (25 occurrences, 0 expected)\n",
      "41.12 times more likely than with Helixer (21 occurrences, 1 expected)\n",
      "54.48 times more likely than with Anno (20 occurrences, 0 expected)\n",
      "~~~~~~~~~~\n",
      "IPR000467: G-patch domain\n",
      "4.06 times more likely than with BRAKER3 (3 occurrences, 1 expected)\n",
      "4.63 times more likely than with Helixer (3 occurrences, 1 expected)\n",
      "6.12 times more likely than with Anno (3 occurrences, 0 expected)\n",
      "~~~~~~~~~~\n"
     ]
    }
   ],
   "source": [
    "interpro_accessions_frequently_missed_by_each_tool(\n",
    "    flatten_nested_dict(acc_product),\n",
    "    {\n",
    "        \"BRAKER3\": braker3_missed_results,\n",
    "        \"Helixer\": helixer_missed_results,\n",
    "        \"Anno\": anno_missed_results\n",
    "    },\n",
    "    {\n",
    "        \"BRAKER3\": acc_tally_missed_braker3,\n",
    "        \"Helixer\": acc_tally_missed_helixer,\n",
    "        \"Anno\": acc_tally_missed_anno\n",
    "    }\n",
    ")"
   ]
  },
  {
   "cell_type": "code",
   "execution_count": 53,
   "metadata": {},
   "outputs": [],
   "source": [
    "import re\n",
    "MIN_WORD_LEN = 5\n",
    "tools_missed_results = {\n",
    "    \"BRAKER3\": braker3_missed_results,\n",
    "    \"Helixer\": helixer_missed_results,\n",
    "    \"Anno\": anno_missed_results\n",
    "}\n",
    "tools_novel_results = {\n",
    "    \"BRAKER3\": braker3_novel_results,\n",
    "    \"Helixer\": helixer_novel_results,\n",
    "    \"Anno\": anno_novel_results\n",
    "}\n",
    "acc_tally_missed_tools = {\n",
    "    \"BRAKER3\": acc_tally_missed_braker3,\n",
    "    \"Helixer\": acc_tally_missed_helixer,\n",
    "    \"Anno\": acc_tally_missed_anno\n",
    "}\n",
    "acc_tally_novel_tools = {\n",
    "    \"BRAKER3\": acc_tally_novel_braker3,\n",
    "    \"Helixer\": acc_tally_novel_helixer,\n",
    "    \"Anno\": acc_tally_novel_anno\n",
    "}\n",
    "seen_words = set()\n",
    "all_words = set()\n",
    "for acc in set.intersection(*[set(results[\"more_frequent\"].keys()) for results in tools_missed_results.values()]):\n",
    "    prod = flatten_nested_dict(acc_product)[acc]\n",
    "    words = [w for w in re.split(r'\\W', prod.lower()) if w and len(w) >= MIN_WORD_LEN]\n",
    "    all_words.update(words)\n",
    "    # Check if words occur more frequently in novel-only accessions\n",
    "    for novel_acc in set.intersection(*[set(results[\"more_frequent\"].keys()) for results in tools_novel_results.values()]):\n",
    "        novel_prod = flatten_nested_dict(acc_product)[novel_acc]\n",
    "        for w in words:\n",
    "            if w in novel_prod.lower():\n",
    "                print(f\"{w} appears in {novel_acc}: {novel_prod}\")\n",
    "                seen_words.add(w)"
   ]
  },
  {
   "cell_type": "code",
   "execution_count": 54,
   "metadata": {},
   "outputs": [
    {
     "data": {
      "text/plain": [
       "{'chymotrypsin',\n",
       " 'conserved',\n",
       " 'domain',\n",
       " 'gamma',\n",
       " 'histone',\n",
       " 'patch',\n",
       " 'peptidase',\n",
       " 'proteases',\n",
       " 'protein',\n",
       " 'serine',\n",
       " 'superfamily',\n",
       " 'trypsin',\n",
       " 'uncharacterised',\n",
       " 'upf0506'}"
      ]
     },
     "execution_count": 54,
     "metadata": {},
     "output_type": "execute_result"
    }
   ],
   "source": [
    "all_words.difference(seen_words)"
   ]
  },
  {
   "cell_type": "markdown",
   "metadata": {},
   "source": [
    "# Novel orthologues"
   ]
  },
  {
   "cell_type": "code",
   "execution_count": 55,
   "metadata": {},
   "outputs": [
    {
     "name": "stdout",
     "output_type": "stream",
     "text": [
      "Novel transcripts (% of total predicted by tool)\n",
      "BRAKER3: 508 (5.59%)\n",
      "Helixer: 1164 (11.76%)\n",
      "Anno: 2720 (21.25%)\n"
     ]
    }
   ],
   "source": [
    "print(\"Novel transcripts (% of total predicted by tool)\")\n",
    "\n",
    "shared_braker_genes = len(og_df[~og_df[wbps_col].isna() & ~og_df[braker_col].isna()][braker_col].str.split(\",\").explode().unique())\n",
    "novel_braker_orths = len(og_df[og_df[wbps_col].isna() & ~og_df[braker_col].isna()][braker_col].str.split(\",\").explode().unique())\n",
    "novel_braker_ungs = len(no_og_df[no_og_df[wbps_col].isna() & ~no_og_df[braker_col].isna()][braker_col].str.split(\",\").explode().unique())\n",
    "assert shared_braker_genes + novel_braker_orths + novel_braker_ungs == len(braker_species.all_transcript_ids)\n",
    "print(f\"BRAKER3: {novel_braker_orths + novel_braker_ungs} ({round(100*(novel_braker_orths + novel_braker_ungs)/len(braker_species.all_transcript_ids), 2)}%)\")\n",
    "\n",
    "\n",
    "shared_helixer_genes = len(og_df[~og_df[wbps_col].isna() & ~og_df[helixer_col].isna()][helixer_col].str.split(\",\").explode().unique())\n",
    "novel_helixer_orths = len(og_df[og_df[wbps_col].isna() & ~og_df[helixer_col].isna()][helixer_col].str.split(\",\").explode().unique())\n",
    "novel_helixer_ungs = len(no_og_df[no_og_df[wbps_col].isna() & ~no_og_df[helixer_col].isna()][helixer_col].str.split(\",\").explode().unique())\n",
    "assert shared_helixer_genes + novel_helixer_orths + novel_helixer_ungs == len(helixer_species.all_transcript_ids)\n",
    "print(f\"Helixer: {novel_helixer_orths + novel_helixer_ungs} ({round(100*(novel_helixer_orths + novel_helixer_ungs)/len(helixer_species.all_transcript_ids), 2)}%)\")\n",
    "\n",
    "shared_anno_genes = len(og_df[~og_df[wbps_col].isna() & ~og_df[anno_col].isna()][anno_col].str.split(\",\").explode().unique())\n",
    "novel_anno_orths = len(og_df[og_df[wbps_col].isna() & ~og_df[anno_col].isna()][anno_col].str.split(\",\").explode().unique())\n",
    "novel_anno_ungs = len(no_og_df[no_og_df[wbps_col].isna() & ~no_og_df[anno_col].isna()][anno_col].str.split(\",\").explode().unique())\n",
    "assert shared_anno_genes + novel_anno_orths + novel_anno_ungs == len(anno_species.all_transcript_ids)\n",
    "print(f\"Anno: {novel_anno_orths + novel_anno_ungs} ({round(100*(novel_anno_orths + novel_anno_ungs)/len(anno_species.all_transcript_ids), 2)}%)\")\n"
   ]
  },
  {
   "cell_type": "code",
   "execution_count": 4,
   "metadata": {},
   "outputs": [
    {
     "name": "stderr",
     "output_type": "stream",
     "text": [
      "100%|██████████| 2437/2437 [00:01<00:00, 1677.62it/s]\n",
      "100%|██████████| 2437/2437 [00:06<00:00, 358.46it/s] \n"
     ]
    }
   ],
   "source": [
    "## Run once to populate\n",
    "# novel_orthologue_pipeline(no_og_df, wbps_col, anno_col, species_list, out_dir=\"data/novel_orthologue_sequences/sman/anno/unassigned_genes/\")\n",
    "# novel_orthologue_pipeline(no_og_df, wbps_col, braker_col, species_list, out_dir=\"data/novel_orthologue_sequences/sman/braker3/unassigned_genes/\")\n",
    "# novel_orthologue_pipeline(no_og_df, wbps_col, helixer_col, species_list, out_dir=\"data/novel_orthologue_sequences/sman/helixer/unassigned_genes/\")"
   ]
  },
  {
   "cell_type": "code",
   "execution_count": 56,
   "metadata": {},
   "outputs": [
    {
     "name": "stdout",
     "output_type": "stream",
     "text": [
      "54.20466926070039\n",
      "57.278228782287826\n",
      "54.64353233830846\n"
     ]
    }
   ],
   "source": [
    "# novel_orthologue_pipeline(og_df, wbps_col, anno_col, species_list)\n",
    "# novel_orthologue_pipeline(og_df, wbps_col, braker_col, species_list)\n",
    "# novel_orthologue_pipeline(og_df, wbps_col, helixer_col, species_list)\n",
    "anno_esm_means = extract_esm_means(\"data/from_MARS/Sman_esm_pLDDTs_anno.txt\").values()\n",
    "braker3_esm_means = extract_esm_means(\"data/from_MARS/Sman_esm_pLDDTs_braker3.txt\").values()\n",
    "helixer_esm_means = extract_esm_means(\"data/from_MARS/Sman_esm_pLDDTs_helixer.txt\").values()\n",
    "\n",
    "print(statistics.mean(map(float, anno_esm_means)))\n",
    "print(statistics.mean(map(float, braker3_esm_means)))\n",
    "print(statistics.mean(map(float, helixer_esm_means)))\n",
    "\n",
    "def boxplot_axes(idx, label, data, ylim=(0, 100)):\n",
    "    ax = plt.subplot(1, 4, idx)\n",
    "    ax.boxplot(data)\n",
    "    if ylim:\n",
    "        ax.set_ylim(top=ylim[1], bottom=ylim[0])\n",
    "    ax.grid(which=\"both\")\n",
    "    ax.set_title(label.upper())\n",
    "    ax.set_xticklabels([])\n",
    "    ax.set_xlabel(round(statistics.mean(data), 2))\n",
    "\n",
    "boxplot_axes(idx=1, label=\"anno\", data=list(map(float, anno_esm_means)))\n",
    "boxplot_axes(idx=2, label=\"braker3\", data=list(map(float, braker3_esm_means)))\n",
    "boxplot_axes(idx=3, label=\"helixer\", data=list(map(float, helixer_esm_means)))\n",
    "plt.show()\n",
    "\n",
    "\n",
    "# anno_esm_means"
   ]
  },
  {
   "cell_type": "code",
   "execution_count": 57,
   "metadata": {},
   "outputs": [
    {
     "name": "stdout",
     "output_type": "stream",
     "text": [
      "Mean of means: 70.15563125399191\n",
      "% that are \"Confident\": 54.939322972109856\n"
     ]
    }
   ],
   "source": [
    "import pandas as pd\n",
    "cols = (\n",
    "    \"fn\",\n",
    "    \"mean\",\n",
    "    \"median\",\n",
    "    \"stdev\",\n",
    "    \"var\",\n",
    "    \"max\",\n",
    "    \"min\",\n",
    "    \"perc_confident\"\n",
    ")\n",
    "df = pd.read_csv(\"data/from_MARS/pLDDT_sman.csv\", names=cols)\n",
    "print(f\"Mean of means: {df['mean'].mean()}\")\n",
    "print(f\"% that are \\\"Confident\\\": {100*df[df['mean'] >= 70].shape[0]/df.shape[0]}\")\n",
    "\n",
    "# df.count()"
   ]
  },
  {
   "cell_type": "code",
   "execution_count": 58,
   "metadata": {},
   "outputs": [
    {
     "name": "stdout",
     "output_type": "stream",
     "text": [
      "% BRAKER3 that are \"Confident\": 31.73431734317343\n",
      "% Anno that are \"Confident\": 24.90272373540856\n",
      "% Helixer that are \"Confident\": 21.890547263681594\n"
     ]
    }
   ],
   "source": [
    "print(f\"% BRAKER3 that are \\\"Confident\\\": {100*len([p for p in braker3_esm_means if float(p) >= 70]) / len(braker3_esm_means)}\")\n",
    "print(f\"% Anno that are \\\"Confident\\\": {100*len([p for p in anno_esm_means if float(p) >= 70]) / len(anno_esm_means)}\")\n",
    "print(f\"% Helixer that are \\\"Confident\\\": {100*len([p for p in helixer_esm_means if float(p) >= 70]) / len(helixer_esm_means)}\")"
   ]
  },
  {
   "cell_type": "code",
   "execution_count": 59,
   "metadata": {},
   "outputs": [],
   "source": [
    "\n",
    "df_anno = pd.read_csv(\"data/from_MARS/pLDDT_sman_anno.csv\", names=cols)\n",
    "df_braker3 = pd.read_csv(\"data/from_MARS/pLDDT_sman_braker3.csv\", names=cols)\n",
    "df_helixer = pd.read_csv(\"data/from_MARS/pLDDT_sman_helixer.csv\", names=cols)"
   ]
  },
  {
   "cell_type": "code",
   "execution_count": 60,
   "metadata": {},
   "outputs": [
    {
     "name": "stdout",
     "output_type": "stream",
     "text": [
      "Mean of WBPS % that are \"Confident\" residues: 57.85118160527997\n",
      "Mean of BRAKER3 % that are \"Confident\" residues: 35.38376383763838\n",
      "Mean of Anno % that are \"Confident\" residues: 30.747081712062258\n",
      "Mean of Helixer % that are \"Confident\" residues: 30.46153846153846\n"
     ]
    }
   ],
   "source": [
    "print(f\"Mean of WBPS % that are \\\"Confident\\\" residues: {df['perc_confident'].mean()}\")\n",
    "print(f\"Mean of BRAKER3 % that are \\\"Confident\\\" residues: {df_braker3['perc_confident'].mean()}\")\n",
    "print(f\"Mean of Anno % that are \\\"Confident\\\" residues: {df_anno['perc_confident'].mean()}\")\n",
    "print(f\"Mean of Helixer % that are \\\"Confident\\\" residues: {df_helixer['perc_confident'].mean()}\")\n"
   ]
  },
  {
   "cell_type": "code",
   "execution_count": 61,
   "metadata": {},
   "outputs": [
    {
     "data": {
      "application/vnd.microsoft.datawrangler.viewer.v0+json": {
       "columns": [
        {
         "name": "index",
         "rawType": "int64",
         "type": "integer"
        },
        {
         "name": "fn",
         "rawType": "object",
         "type": "string"
        },
        {
         "name": "mean",
         "rawType": "int64",
         "type": "integer"
        },
        {
         "name": "median",
         "rawType": "int64",
         "type": "integer"
        },
        {
         "name": "stdev",
         "rawType": "int64",
         "type": "integer"
        },
        {
         "name": "var",
         "rawType": "int64",
         "type": "integer"
        },
        {
         "name": "max",
         "rawType": "int64",
         "type": "integer"
        },
        {
         "name": "min",
         "rawType": "int64",
         "type": "integer"
        },
        {
         "name": "perc_confident",
         "rawType": "int64",
         "type": "integer"
        }
       ],
       "conversionMethod": "pd.DataFrame",
       "ref": "e860bd34-4dff-4a30-b285-b5eb8067231d",
       "rows": [
        [
         "319",
         "transcript:ENSSMAT00000005813.pdb",
         "56",
         "57",
         "6",
         "36",
         "65",
         "36",
         "0"
        ],
        [
         "186",
         "transcript:ENSSMAT00000008498.pdb",
         "55",
         "55",
         "7",
         "46",
         "69",
         "38",
         "0"
        ],
        [
         "215",
         "transcript:ENSSMAT00000034886.pdb",
         "56",
         "58",
         "7",
         "44",
         "65",
         "42",
         "0"
        ],
        [
         "80",
         "transcript:ENSSMAT00000012469.pdb",
         "54",
         "54",
         "8",
         "65",
         "67",
         "36",
         "0"
        ],
        [
         "47",
         "transcript:ENSSMAT00000034121.pdb",
         "53",
         "55",
         "9",
         "73",
         "67",
         "25",
         "0"
        ],
        [
         "146",
         "transcript:ENSSMAT00000026481.pdb",
         "51",
         "54",
         "10",
         "100",
         "66",
         "34",
         "0"
        ],
        [
         "242",
         "transcript:ENSSMAT00000028062.pdb",
         "51",
         "47",
         "10",
         "93",
         "69",
         "34",
         "0"
        ],
        [
         "362",
         "transcript:ENSSMAT00000030008.pdb",
         "51",
         "52",
         "11",
         "113",
         "69",
         "30",
         "0"
        ]
       ],
       "shape": {
        "columns": 8,
        "rows": 8
       }
      },
      "text/html": [
       "<div>\n",
       "<style scoped>\n",
       "    .dataframe tbody tr th:only-of-type {\n",
       "        vertical-align: middle;\n",
       "    }\n",
       "\n",
       "    .dataframe tbody tr th {\n",
       "        vertical-align: top;\n",
       "    }\n",
       "\n",
       "    .dataframe thead th {\n",
       "        text-align: right;\n",
       "    }\n",
       "</style>\n",
       "<table border=\"1\" class=\"dataframe\">\n",
       "  <thead>\n",
       "    <tr style=\"text-align: right;\">\n",
       "      <th></th>\n",
       "      <th>fn</th>\n",
       "      <th>mean</th>\n",
       "      <th>median</th>\n",
       "      <th>stdev</th>\n",
       "      <th>var</th>\n",
       "      <th>max</th>\n",
       "      <th>min</th>\n",
       "      <th>perc_confident</th>\n",
       "    </tr>\n",
       "  </thead>\n",
       "  <tbody>\n",
       "    <tr>\n",
       "      <th>319</th>\n",
       "      <td>transcript:ENSSMAT00000005813.pdb</td>\n",
       "      <td>56</td>\n",
       "      <td>57</td>\n",
       "      <td>6</td>\n",
       "      <td>36</td>\n",
       "      <td>65</td>\n",
       "      <td>36</td>\n",
       "      <td>0</td>\n",
       "    </tr>\n",
       "    <tr>\n",
       "      <th>186</th>\n",
       "      <td>transcript:ENSSMAT00000008498.pdb</td>\n",
       "      <td>55</td>\n",
       "      <td>55</td>\n",
       "      <td>7</td>\n",
       "      <td>46</td>\n",
       "      <td>69</td>\n",
       "      <td>38</td>\n",
       "      <td>0</td>\n",
       "    </tr>\n",
       "    <tr>\n",
       "      <th>215</th>\n",
       "      <td>transcript:ENSSMAT00000034886.pdb</td>\n",
       "      <td>56</td>\n",
       "      <td>58</td>\n",
       "      <td>7</td>\n",
       "      <td>44</td>\n",
       "      <td>65</td>\n",
       "      <td>42</td>\n",
       "      <td>0</td>\n",
       "    </tr>\n",
       "    <tr>\n",
       "      <th>80</th>\n",
       "      <td>transcript:ENSSMAT00000012469.pdb</td>\n",
       "      <td>54</td>\n",
       "      <td>54</td>\n",
       "      <td>8</td>\n",
       "      <td>65</td>\n",
       "      <td>67</td>\n",
       "      <td>36</td>\n",
       "      <td>0</td>\n",
       "    </tr>\n",
       "    <tr>\n",
       "      <th>47</th>\n",
       "      <td>transcript:ENSSMAT00000034121.pdb</td>\n",
       "      <td>53</td>\n",
       "      <td>55</td>\n",
       "      <td>9</td>\n",
       "      <td>73</td>\n",
       "      <td>67</td>\n",
       "      <td>25</td>\n",
       "      <td>0</td>\n",
       "    </tr>\n",
       "    <tr>\n",
       "      <th>146</th>\n",
       "      <td>transcript:ENSSMAT00000026481.pdb</td>\n",
       "      <td>51</td>\n",
       "      <td>54</td>\n",
       "      <td>10</td>\n",
       "      <td>100</td>\n",
       "      <td>66</td>\n",
       "      <td>34</td>\n",
       "      <td>0</td>\n",
       "    </tr>\n",
       "    <tr>\n",
       "      <th>242</th>\n",
       "      <td>transcript:ENSSMAT00000028062.pdb</td>\n",
       "      <td>51</td>\n",
       "      <td>47</td>\n",
       "      <td>10</td>\n",
       "      <td>93</td>\n",
       "      <td>69</td>\n",
       "      <td>34</td>\n",
       "      <td>0</td>\n",
       "    </tr>\n",
       "    <tr>\n",
       "      <th>362</th>\n",
       "      <td>transcript:ENSSMAT00000030008.pdb</td>\n",
       "      <td>51</td>\n",
       "      <td>52</td>\n",
       "      <td>11</td>\n",
       "      <td>113</td>\n",
       "      <td>69</td>\n",
       "      <td>30</td>\n",
       "      <td>0</td>\n",
       "    </tr>\n",
       "  </tbody>\n",
       "</table>\n",
       "</div>"
      ],
      "text/plain": [
       "                                    fn  mean  median  stdev  var  max  min  \\\n",
       "319  transcript:ENSSMAT00000005813.pdb    56      57      6   36   65   36   \n",
       "186  transcript:ENSSMAT00000008498.pdb    55      55      7   46   69   38   \n",
       "215  transcript:ENSSMAT00000034886.pdb    56      58      7   44   65   42   \n",
       "80   transcript:ENSSMAT00000012469.pdb    54      54      8   65   67   36   \n",
       "47   transcript:ENSSMAT00000034121.pdb    53      55      9   73   67   25   \n",
       "146  transcript:ENSSMAT00000026481.pdb    51      54     10  100   66   34   \n",
       "242  transcript:ENSSMAT00000028062.pdb    51      47     10   93   69   34   \n",
       "362  transcript:ENSSMAT00000030008.pdb    51      52     11  113   69   30   \n",
       "\n",
       "     perc_confident  \n",
       "319               0  \n",
       "186               0  \n",
       "215               0  \n",
       "80                0  \n",
       "47                0  \n",
       "146               0  \n",
       "242               0  \n",
       "362               0  "
      ]
     },
     "execution_count": 61,
     "metadata": {},
     "output_type": "execute_result"
    }
   ],
   "source": [
    "df_anno[(df_anno[\"mean\"] > 50) & (df_anno[\"perc_confident\"] == 0)].sort_values(\"stdev\")"
   ]
  },
  {
   "cell_type": "code",
   "execution_count": 32,
   "metadata": {},
   "outputs": [
    {
     "data": {
      "text/html": [
       "<div>\n",
       "<style scoped>\n",
       "    .dataframe tbody tr th:only-of-type {\n",
       "        vertical-align: middle;\n",
       "    }\n",
       "\n",
       "    .dataframe tbody tr th {\n",
       "        vertical-align: top;\n",
       "    }\n",
       "\n",
       "    .dataframe thead th {\n",
       "        text-align: right;\n",
       "    }\n",
       "</style>\n",
       "<table border=\"1\" class=\"dataframe\">\n",
       "  <thead>\n",
       "    <tr style=\"text-align: right;\">\n",
       "      <th></th>\n",
       "      <th>fn</th>\n",
       "      <th>mean</th>\n",
       "      <th>median</th>\n",
       "      <th>stdev</th>\n",
       "      <th>var</th>\n",
       "      <th>max</th>\n",
       "      <th>min</th>\n",
       "      <th>perc_confident</th>\n",
       "    </tr>\n",
       "  </thead>\n",
       "  <tbody>\n",
       "    <tr>\n",
       "      <th>46</th>\n",
       "      <td>g2824.t1.pdb</td>\n",
       "      <td>55</td>\n",
       "      <td>55</td>\n",
       "      <td>3</td>\n",
       "      <td>12</td>\n",
       "      <td>62</td>\n",
       "      <td>49</td>\n",
       "      <td>0</td>\n",
       "    </tr>\n",
       "    <tr>\n",
       "      <th>15</th>\n",
       "      <td>g2879.t1.pdb</td>\n",
       "      <td>57</td>\n",
       "      <td>57</td>\n",
       "      <td>4</td>\n",
       "      <td>17</td>\n",
       "      <td>68</td>\n",
       "      <td>50</td>\n",
       "      <td>0</td>\n",
       "    </tr>\n",
       "    <tr>\n",
       "      <th>138</th>\n",
       "      <td>g2535.t1.pdb</td>\n",
       "      <td>61</td>\n",
       "      <td>62</td>\n",
       "      <td>5</td>\n",
       "      <td>25</td>\n",
       "      <td>70</td>\n",
       "      <td>49</td>\n",
       "      <td>0</td>\n",
       "    </tr>\n",
       "    <tr>\n",
       "      <th>117</th>\n",
       "      <td>g5842.t1.pdb</td>\n",
       "      <td>54</td>\n",
       "      <td>55</td>\n",
       "      <td>7</td>\n",
       "      <td>45</td>\n",
       "      <td>65</td>\n",
       "      <td>32</td>\n",
       "      <td>0</td>\n",
       "    </tr>\n",
       "    <tr>\n",
       "      <th>54</th>\n",
       "      <td>g1749.t1.pdb</td>\n",
       "      <td>51</td>\n",
       "      <td>52</td>\n",
       "      <td>11</td>\n",
       "      <td>113</td>\n",
       "      <td>69</td>\n",
       "      <td>30</td>\n",
       "      <td>0</td>\n",
       "    </tr>\n",
       "  </tbody>\n",
       "</table>\n",
       "</div>"
      ],
      "text/plain": [
       "               fn  mean  median  stdev  var  max  min  perc_confident\n",
       "46   g2824.t1.pdb    55      55      3   12   62   49               0\n",
       "15   g2879.t1.pdb    57      57      4   17   68   50               0\n",
       "138  g2535.t1.pdb    61      62      5   25   70   49               0\n",
       "117  g5842.t1.pdb    54      55      7   45   65   32               0\n",
       "54   g1749.t1.pdb    51      52     11  113   69   30               0"
      ]
     },
     "execution_count": 32,
     "metadata": {},
     "output_type": "execute_result"
    }
   ],
   "source": [
    "df_braker3[(df_braker3[\"mean\"] > 50) & (df_braker3[\"perc_confident\"] == 0)].sort_values(\"stdev\")"
   ]
  },
  {
   "cell_type": "code",
   "execution_count": 33,
   "metadata": {},
   "outputs": [
    {
     "data": {
      "text/html": [
       "<div>\n",
       "<style scoped>\n",
       "    .dataframe tbody tr th:only-of-type {\n",
       "        vertical-align: middle;\n",
       "    }\n",
       "\n",
       "    .dataframe tbody tr th {\n",
       "        vertical-align: top;\n",
       "    }\n",
       "\n",
       "    .dataframe thead th {\n",
       "        text-align: right;\n",
       "    }\n",
       "</style>\n",
       "<table border=\"1\" class=\"dataframe\">\n",
       "  <thead>\n",
       "    <tr style=\"text-align: right;\">\n",
       "      <th></th>\n",
       "      <th>fn</th>\n",
       "      <th>mean</th>\n",
       "      <th>median</th>\n",
       "      <th>stdev</th>\n",
       "      <th>var</th>\n",
       "      <th>max</th>\n",
       "      <th>min</th>\n",
       "      <th>perc_confident</th>\n",
       "    </tr>\n",
       "  </thead>\n",
       "  <tbody>\n",
       "    <tr>\n",
       "      <th>363</th>\n",
       "      <td>Schistosoma_mansoni_SM_V10_Z_001959.1.pdb</td>\n",
       "      <td>58</td>\n",
       "      <td>61</td>\n",
       "      <td>22</td>\n",
       "      <td>474</td>\n",
       "      <td>90</td>\n",
       "      <td>22</td>\n",
       "      <td>41</td>\n",
       "    </tr>\n",
       "  </tbody>\n",
       "</table>\n",
       "</div>"
      ],
      "text/plain": [
       "                                            fn  mean  median  stdev  var  max  \\\n",
       "363  Schistosoma_mansoni_SM_V10_Z_001959.1.pdb    58      61     22  474   90   \n",
       "\n",
       "     min  perc_confident  \n",
       "363   22              41  "
      ]
     },
     "execution_count": 33,
     "metadata": {},
     "output_type": "execute_result"
    }
   ],
   "source": [
    "df_helixer[(df_helixer[\"mean\"] < 60) & (df_helixer[\"perc_confident\"] > 40)]"
   ]
  },
  {
   "cell_type": "code",
   "execution_count": 62,
   "metadata": {},
   "outputs": [
    {
     "data": {
      "application/vnd.microsoft.datawrangler.viewer.v0+json": {
       "columns": [
        {
         "name": "index",
         "rawType": "int64",
         "type": "integer"
        },
        {
         "name": "fn",
         "rawType": "object",
         "type": "string"
        },
        {
         "name": "mean",
         "rawType": "int64",
         "type": "integer"
        },
        {
         "name": "median",
         "rawType": "int64",
         "type": "integer"
        },
        {
         "name": "stdev",
         "rawType": "int64",
         "type": "integer"
        },
        {
         "name": "var",
         "rawType": "int64",
         "type": "integer"
        },
        {
         "name": "max",
         "rawType": "int64",
         "type": "integer"
        },
        {
         "name": "min",
         "rawType": "int64",
         "type": "integer"
        },
        {
         "name": "perc_confident",
         "rawType": "int64",
         "type": "integer"
        }
       ],
       "conversionMethod": "pd.DataFrame",
       "ref": "778e9012-ee71-4400-a882-d037d35f5f9b",
       "rows": [
        [
         "325",
         "Schistosoma_mansoni_SM_V10_4_001163.1.pdb",
         "53",
         "53",
         "3",
         "10",
         "59",
         "46",
         "0"
        ],
        [
         "237",
         "Schistosoma_mansoni_SM_V10_6_000170.1.pdb",
         "59",
         "58",
         "5",
         "20",
         "67",
         "52",
         "0"
        ],
        [
         "282",
         "Schistosoma_mansoni_SM_V10_2_000542.1.pdb",
         "51",
         "50",
         "6",
         "36",
         "65",
         "41",
         "0"
        ],
        [
         "304",
         "Schistosoma_mansoni_SM_V10_2_000788.1.pdb",
         "51",
         "49",
         "6",
         "36",
         "62",
         "41",
         "0"
        ],
        [
         "378",
         "Schistosoma_mansoni_SM_V10_5_000309.1.pdb",
         "51",
         "53",
         "6",
         "35",
         "61",
         "36",
         "0"
        ],
        [
         "21",
         "Schistosoma_mansoni_SM_V10_1_000685.1.pdb",
         "53",
         "53",
         "7",
         "55",
         "69",
         "42",
         "0"
        ],
        [
         "45",
         "Schistosoma_mansoni_SM_V10_4_000066.1.pdb",
         "57",
         "59",
         "8",
         "69",
         "69",
         "19",
         "0"
        ],
        [
         "48",
         "Schistosoma_mansoni_SM_V10_4_000006.1.pdb",
         "51",
         "48",
         "8",
         "62",
         "64",
         "39",
         "0"
        ],
        [
         "316",
         "Schistosoma_mansoni_SM_V10_2_001157.1.pdb",
         "51",
         "50",
         "8",
         "59",
         "65",
         "35",
         "0"
        ],
        [
         "332",
         "Schistosoma_mansoni_SM_V10_2_000183.1.pdb",
         "53",
         "55",
         "8",
         "60",
         "66",
         "35",
         "0"
        ],
        [
         "104",
         "Schistosoma_mansoni_SM_V10_1_000996.1.pdb",
         "55",
         "58",
         "11",
         "120",
         "70",
         "36",
         "0"
        ]
       ],
       "shape": {
        "columns": 8,
        "rows": 11
       }
      },
      "text/html": [
       "<div>\n",
       "<style scoped>\n",
       "    .dataframe tbody tr th:only-of-type {\n",
       "        vertical-align: middle;\n",
       "    }\n",
       "\n",
       "    .dataframe tbody tr th {\n",
       "        vertical-align: top;\n",
       "    }\n",
       "\n",
       "    .dataframe thead th {\n",
       "        text-align: right;\n",
       "    }\n",
       "</style>\n",
       "<table border=\"1\" class=\"dataframe\">\n",
       "  <thead>\n",
       "    <tr style=\"text-align: right;\">\n",
       "      <th></th>\n",
       "      <th>fn</th>\n",
       "      <th>mean</th>\n",
       "      <th>median</th>\n",
       "      <th>stdev</th>\n",
       "      <th>var</th>\n",
       "      <th>max</th>\n",
       "      <th>min</th>\n",
       "      <th>perc_confident</th>\n",
       "    </tr>\n",
       "  </thead>\n",
       "  <tbody>\n",
       "    <tr>\n",
       "      <th>325</th>\n",
       "      <td>Schistosoma_mansoni_SM_V10_4_001163.1.pdb</td>\n",
       "      <td>53</td>\n",
       "      <td>53</td>\n",
       "      <td>3</td>\n",
       "      <td>10</td>\n",
       "      <td>59</td>\n",
       "      <td>46</td>\n",
       "      <td>0</td>\n",
       "    </tr>\n",
       "    <tr>\n",
       "      <th>237</th>\n",
       "      <td>Schistosoma_mansoni_SM_V10_6_000170.1.pdb</td>\n",
       "      <td>59</td>\n",
       "      <td>58</td>\n",
       "      <td>5</td>\n",
       "      <td>20</td>\n",
       "      <td>67</td>\n",
       "      <td>52</td>\n",
       "      <td>0</td>\n",
       "    </tr>\n",
       "    <tr>\n",
       "      <th>282</th>\n",
       "      <td>Schistosoma_mansoni_SM_V10_2_000542.1.pdb</td>\n",
       "      <td>51</td>\n",
       "      <td>50</td>\n",
       "      <td>6</td>\n",
       "      <td>36</td>\n",
       "      <td>65</td>\n",
       "      <td>41</td>\n",
       "      <td>0</td>\n",
       "    </tr>\n",
       "    <tr>\n",
       "      <th>304</th>\n",
       "      <td>Schistosoma_mansoni_SM_V10_2_000788.1.pdb</td>\n",
       "      <td>51</td>\n",
       "      <td>49</td>\n",
       "      <td>6</td>\n",
       "      <td>36</td>\n",
       "      <td>62</td>\n",
       "      <td>41</td>\n",
       "      <td>0</td>\n",
       "    </tr>\n",
       "    <tr>\n",
       "      <th>378</th>\n",
       "      <td>Schistosoma_mansoni_SM_V10_5_000309.1.pdb</td>\n",
       "      <td>51</td>\n",
       "      <td>53</td>\n",
       "      <td>6</td>\n",
       "      <td>35</td>\n",
       "      <td>61</td>\n",
       "      <td>36</td>\n",
       "      <td>0</td>\n",
       "    </tr>\n",
       "    <tr>\n",
       "      <th>21</th>\n",
       "      <td>Schistosoma_mansoni_SM_V10_1_000685.1.pdb</td>\n",
       "      <td>53</td>\n",
       "      <td>53</td>\n",
       "      <td>7</td>\n",
       "      <td>55</td>\n",
       "      <td>69</td>\n",
       "      <td>42</td>\n",
       "      <td>0</td>\n",
       "    </tr>\n",
       "    <tr>\n",
       "      <th>45</th>\n",
       "      <td>Schistosoma_mansoni_SM_V10_4_000066.1.pdb</td>\n",
       "      <td>57</td>\n",
       "      <td>59</td>\n",
       "      <td>8</td>\n",
       "      <td>69</td>\n",
       "      <td>69</td>\n",
       "      <td>19</td>\n",
       "      <td>0</td>\n",
       "    </tr>\n",
       "    <tr>\n",
       "      <th>48</th>\n",
       "      <td>Schistosoma_mansoni_SM_V10_4_000006.1.pdb</td>\n",
       "      <td>51</td>\n",
       "      <td>48</td>\n",
       "      <td>8</td>\n",
       "      <td>62</td>\n",
       "      <td>64</td>\n",
       "      <td>39</td>\n",
       "      <td>0</td>\n",
       "    </tr>\n",
       "    <tr>\n",
       "      <th>316</th>\n",
       "      <td>Schistosoma_mansoni_SM_V10_2_001157.1.pdb</td>\n",
       "      <td>51</td>\n",
       "      <td>50</td>\n",
       "      <td>8</td>\n",
       "      <td>59</td>\n",
       "      <td>65</td>\n",
       "      <td>35</td>\n",
       "      <td>0</td>\n",
       "    </tr>\n",
       "    <tr>\n",
       "      <th>332</th>\n",
       "      <td>Schistosoma_mansoni_SM_V10_2_000183.1.pdb</td>\n",
       "      <td>53</td>\n",
       "      <td>55</td>\n",
       "      <td>8</td>\n",
       "      <td>60</td>\n",
       "      <td>66</td>\n",
       "      <td>35</td>\n",
       "      <td>0</td>\n",
       "    </tr>\n",
       "    <tr>\n",
       "      <th>104</th>\n",
       "      <td>Schistosoma_mansoni_SM_V10_1_000996.1.pdb</td>\n",
       "      <td>55</td>\n",
       "      <td>58</td>\n",
       "      <td>11</td>\n",
       "      <td>120</td>\n",
       "      <td>70</td>\n",
       "      <td>36</td>\n",
       "      <td>0</td>\n",
       "    </tr>\n",
       "  </tbody>\n",
       "</table>\n",
       "</div>"
      ],
      "text/plain": [
       "                                            fn  mean  median  stdev  var  max  \\\n",
       "325  Schistosoma_mansoni_SM_V10_4_001163.1.pdb    53      53      3   10   59   \n",
       "237  Schistosoma_mansoni_SM_V10_6_000170.1.pdb    59      58      5   20   67   \n",
       "282  Schistosoma_mansoni_SM_V10_2_000542.1.pdb    51      50      6   36   65   \n",
       "304  Schistosoma_mansoni_SM_V10_2_000788.1.pdb    51      49      6   36   62   \n",
       "378  Schistosoma_mansoni_SM_V10_5_000309.1.pdb    51      53      6   35   61   \n",
       "21   Schistosoma_mansoni_SM_V10_1_000685.1.pdb    53      53      7   55   69   \n",
       "45   Schistosoma_mansoni_SM_V10_4_000066.1.pdb    57      59      8   69   69   \n",
       "48   Schistosoma_mansoni_SM_V10_4_000006.1.pdb    51      48      8   62   64   \n",
       "316  Schistosoma_mansoni_SM_V10_2_001157.1.pdb    51      50      8   59   65   \n",
       "332  Schistosoma_mansoni_SM_V10_2_000183.1.pdb    53      55      8   60   66   \n",
       "104  Schistosoma_mansoni_SM_V10_1_000996.1.pdb    55      58     11  120   70   \n",
       "\n",
       "     min  perc_confident  \n",
       "325   46               0  \n",
       "237   52               0  \n",
       "282   41               0  \n",
       "304   41               0  \n",
       "378   36               0  \n",
       "21    42               0  \n",
       "45    19               0  \n",
       "48    39               0  \n",
       "316   35               0  \n",
       "332   35               0  \n",
       "104   36               0  "
      ]
     },
     "execution_count": 62,
     "metadata": {},
     "output_type": "execute_result"
    }
   ],
   "source": [
    "df_helixer[(df_helixer[\"mean\"] > 50) & (df_helixer[\"perc_confident\"] == 0)].sort_values(\"stdev\")"
   ]
  }
 ],
 "metadata": {
  "kernelspec": {
   "display_name": ".venv",
   "language": "python",
   "name": "python3"
  },
  "language_info": {
   "codemirror_mode": {
    "name": "ipython",
    "version": 3
   },
   "file_extension": ".py",
   "mimetype": "text/x-python",
   "name": "python",
   "nbconvert_exporter": "python",
   "pygments_lexer": "ipython3",
   "version": "3.10.12"
  }
 },
 "nbformat": 4,
 "nbformat_minor": 2
}
