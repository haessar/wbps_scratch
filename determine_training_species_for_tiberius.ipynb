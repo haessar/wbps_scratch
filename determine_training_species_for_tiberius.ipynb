{
 "cells": [
  {
   "cell_type": "code",
   "execution_count": null,
   "metadata": {},
   "outputs": [],
   "source": [
    "import os.path\n",
    "import pandas as pd\n",
    "\n",
    "busco_stats_path = \"data/WBPS19_busco_stats.tsv\"\n",
    "outdir = \"data/tiberius_training_species/\"\n",
    "\n",
    "# Will be building a model for roundworms and flatworms separately\n",
    "phylum = {}\n",
    "with open(os.path.join(outdir, \"nematoda_genera_clade_v.txt\"), \"r\") as f:\n",
    "    nematodes = f.read().splitlines()\n",
    "    phylum.update({k: \"nematoda\" for k in nematodes})\n",
    "with open(os.path.join(outdir, \"platyhelminthes_genera.txt\"), \"r\") as f:\n",
    "    platyhelminthes = f.read().splitlines()\n",
    "    phylum.update({k: \"platyhelminthes\" for k in platyhelminthes})\n",
    "\n",
    "full_df = pd.read_csv(busco_stats_path, delimiter=\"\\t\")\n",
    "\n",
    "# Take genus to be first part of species name\n",
    "full_df[\"genus\"] = full_df[\"genome\"].str.split(\"_\").apply(lambda x: x[0])\n",
    "full_df[\"phylum\"] = full_df[\"genus\"].apply(lambda x: phylum.get(x, None))\n",
    "full_df = full_df.dropna()"
   ]
  },
  {
   "cell_type": "markdown",
   "metadata": {},
   "source": [
    "A number of species (and their close relatives) have been selected for reannotation, so sould be removed from contention so as not to bias training."
   ]
  },
  {
   "cell_type": "code",
   "execution_count": 18,
   "metadata": {},
   "outputs": [],
   "source": [
    "with open(os.path.join(outdir, \"reannotation_set.txt\")) as f:\n",
    "    reann_set = f.read().splitlines()\n",
    "full_df = full_df[~full_df[\"genome\"].isin(reann_set)]"
   ]
  },
  {
   "cell_type": "markdown",
   "metadata": {},
   "source": [
    "For the training set and validation sets, we should ensure a minimum BUSCO Completeness of **60** (as a broad threshold)."
   ]
  },
  {
   "cell_type": "code",
   "execution_count": 19,
   "metadata": {},
   "outputs": [],
   "source": [
    "df = full_df[(full_df[\"C_an\"] >= 60)]"
   ]
  },
  {
   "cell_type": "markdown",
   "metadata": {},
   "source": [
    "For training sets, we'll pick one from each genus, prioritising the one with the highest annotation BUSCO Completeness"
   ]
  },
  {
   "cell_type": "code",
   "execution_count": 23,
   "metadata": {},
   "outputs": [
    {
     "data": {
      "application/vnd.microsoft.datawrangler.viewer.v0+json": {
       "columns": [
        {
         "name": "index",
         "rawType": "int64",
         "type": "integer"
        },
        {
         "name": "genome",
         "rawType": "object",
         "type": "string"
        },
        {
         "name": "C_an",
         "rawType": "float64",
         "type": "float"
        },
        {
         "name": "D_an",
         "rawType": "float64",
         "type": "float"
        },
        {
         "name": "F_an",
         "rawType": "float64",
         "type": "float"
        },
        {
         "name": "M_an",
         "rawType": "float64",
         "type": "float"
        },
        {
         "name": "N_an",
         "rawType": "int64",
         "type": "integer"
        },
        {
         "name": "C_as",
         "rawType": "float64",
         "type": "float"
        },
        {
         "name": "D_as",
         "rawType": "float64",
         "type": "float"
        },
        {
         "name": "F_as",
         "rawType": "float64",
         "type": "float"
        },
        {
         "name": "M_as",
         "rawType": "float64",
         "type": "float"
        },
        {
         "name": "N_as",
         "rawType": "int64",
         "type": "integer"
        },
        {
         "name": "genus",
         "rawType": "object",
         "type": "string"
        },
        {
         "name": "phylum",
         "rawType": "object",
         "type": "string"
        }
       ],
       "conversionMethod": "pd.DataFrame",
       "ref": "5843c4ab-cd72-4e04-bf72-cc56dc10f250",
       "rows": [
        [
         "143",
         "nippostrongylus_brasiliensis_prjna994163",
         "93.9",
         "2.6",
         "3.5",
         "2.6",
         "982",
         "90.0",
         "1.8",
         "7.1",
         "2.9",
         "982",
         "nippostrongylus",
         "nematoda"
        ],
        [
         "4",
         "ancylostoma_ceylanicum_prjna231479",
         "92.6",
         "2.0",
         "5.0",
         "2.4",
         "982",
         "90.1",
         "1.7",
         "6.1",
         "3.8",
         "982",
         "ancylostoma",
         "nematoda"
        ],
        [
         "140",
         "necator_americanus_prjna1007425",
         "92.1",
         "2.1",
         "4.7",
         "3.2",
         "982",
         "87.9",
         "1.3",
         "6.8",
         "5.3",
         "982",
         "necator",
         "nematoda"
        ],
        [
         "119",
         "macrostomum_lignano_prjna371498",
         "92.1",
         "85.4",
         "2.5",
         "5.4",
         "978",
         "88.4",
         "76.9",
         "3.5",
         "8.1",
         "978",
         "macrostomum",
         "platyhelminthes"
        ],
        [
         "138",
         "micoletzkya_japonica_prjeb27334",
         "90.1",
         "2.3",
         "5.3",
         "4.6",
         "982",
         "86.6",
         "1.9",
         "6.8",
         "6.6",
         "982",
         "micoletzkya",
         "nematoda"
        ]
       ],
       "shape": {
        "columns": 13,
        "rows": 5
       }
      },
      "text/html": [
       "<div>\n",
       "<style scoped>\n",
       "    .dataframe tbody tr th:only-of-type {\n",
       "        vertical-align: middle;\n",
       "    }\n",
       "\n",
       "    .dataframe tbody tr th {\n",
       "        vertical-align: top;\n",
       "    }\n",
       "\n",
       "    .dataframe thead th {\n",
       "        text-align: right;\n",
       "    }\n",
       "</style>\n",
       "<table border=\"1\" class=\"dataframe\">\n",
       "  <thead>\n",
       "    <tr style=\"text-align: right;\">\n",
       "      <th></th>\n",
       "      <th>genome</th>\n",
       "      <th>C_an</th>\n",
       "      <th>D_an</th>\n",
       "      <th>F_an</th>\n",
       "      <th>M_an</th>\n",
       "      <th>N_an</th>\n",
       "      <th>C_as</th>\n",
       "      <th>D_as</th>\n",
       "      <th>F_as</th>\n",
       "      <th>M_as</th>\n",
       "      <th>N_as</th>\n",
       "      <th>genus</th>\n",
       "      <th>phylum</th>\n",
       "    </tr>\n",
       "  </thead>\n",
       "  <tbody>\n",
       "    <tr>\n",
       "      <th>143</th>\n",
       "      <td>nippostrongylus_brasiliensis_prjna994163</td>\n",
       "      <td>93.9</td>\n",
       "      <td>2.6</td>\n",
       "      <td>3.5</td>\n",
       "      <td>2.6</td>\n",
       "      <td>982</td>\n",
       "      <td>90.0</td>\n",
       "      <td>1.8</td>\n",
       "      <td>7.1</td>\n",
       "      <td>2.9</td>\n",
       "      <td>982</td>\n",
       "      <td>nippostrongylus</td>\n",
       "      <td>nematoda</td>\n",
       "    </tr>\n",
       "    <tr>\n",
       "      <th>4</th>\n",
       "      <td>ancylostoma_ceylanicum_prjna231479</td>\n",
       "      <td>92.6</td>\n",
       "      <td>2.0</td>\n",
       "      <td>5.0</td>\n",
       "      <td>2.4</td>\n",
       "      <td>982</td>\n",
       "      <td>90.1</td>\n",
       "      <td>1.7</td>\n",
       "      <td>6.1</td>\n",
       "      <td>3.8</td>\n",
       "      <td>982</td>\n",
       "      <td>ancylostoma</td>\n",
       "      <td>nematoda</td>\n",
       "    </tr>\n",
       "    <tr>\n",
       "      <th>140</th>\n",
       "      <td>necator_americanus_prjna1007425</td>\n",
       "      <td>92.1</td>\n",
       "      <td>2.1</td>\n",
       "      <td>4.7</td>\n",
       "      <td>3.2</td>\n",
       "      <td>982</td>\n",
       "      <td>87.9</td>\n",
       "      <td>1.3</td>\n",
       "      <td>6.8</td>\n",
       "      <td>5.3</td>\n",
       "      <td>982</td>\n",
       "      <td>necator</td>\n",
       "      <td>nematoda</td>\n",
       "    </tr>\n",
       "    <tr>\n",
       "      <th>119</th>\n",
       "      <td>macrostomum_lignano_prjna371498</td>\n",
       "      <td>92.1</td>\n",
       "      <td>85.4</td>\n",
       "      <td>2.5</td>\n",
       "      <td>5.4</td>\n",
       "      <td>978</td>\n",
       "      <td>88.4</td>\n",
       "      <td>76.9</td>\n",
       "      <td>3.5</td>\n",
       "      <td>8.1</td>\n",
       "      <td>978</td>\n",
       "      <td>macrostomum</td>\n",
       "      <td>platyhelminthes</td>\n",
       "    </tr>\n",
       "    <tr>\n",
       "      <th>138</th>\n",
       "      <td>micoletzkya_japonica_prjeb27334</td>\n",
       "      <td>90.1</td>\n",
       "      <td>2.3</td>\n",
       "      <td>5.3</td>\n",
       "      <td>4.6</td>\n",
       "      <td>982</td>\n",
       "      <td>86.6</td>\n",
       "      <td>1.9</td>\n",
       "      <td>6.8</td>\n",
       "      <td>6.6</td>\n",
       "      <td>982</td>\n",
       "      <td>micoletzkya</td>\n",
       "      <td>nematoda</td>\n",
       "    </tr>\n",
       "  </tbody>\n",
       "</table>\n",
       "</div>"
      ],
      "text/plain": [
       "                                       genome  C_an  D_an  F_an  M_an  N_an  \\\n",
       "143  nippostrongylus_brasiliensis_prjna994163  93.9   2.6   3.5   2.6   982   \n",
       "4          ancylostoma_ceylanicum_prjna231479  92.6   2.0   5.0   2.4   982   \n",
       "140           necator_americanus_prjna1007425  92.1   2.1   4.7   3.2   982   \n",
       "119           macrostomum_lignano_prjna371498  92.1  85.4   2.5   5.4   978   \n",
       "138           micoletzkya_japonica_prjeb27334  90.1   2.3   5.3   4.6   982   \n",
       "\n",
       "     C_as  D_as  F_as  M_as  N_as            genus           phylum  \n",
       "143  90.0   1.8   7.1   2.9   982  nippostrongylus         nematoda  \n",
       "4    90.1   1.7   6.1   3.8   982      ancylostoma         nematoda  \n",
       "140  87.9   1.3   6.8   5.3   982          necator         nematoda  \n",
       "119  88.4  76.9   3.5   8.1   978      macrostomum  platyhelminthes  \n",
       "138  86.6   1.9   6.8   6.6   982      micoletzkya         nematoda  "
      ]
     },
     "execution_count": 23,
     "metadata": {},
     "output_type": "execute_result"
    }
   ],
   "source": [
    "train_set = df.sort_values(\"C_an\", ascending=False).drop_duplicates(\"genus\")\n",
    "train_set[train_set[\"phylum\"] == \"nematoda\"][\"genome\"].sort_values().to_csv(os.path.join(outdir, \"training_set_nematoda.txt\"), sep=\"\\n\", index=False, header=False)\n",
    "train_set[train_set[\"phylum\"] == \"platyhelminthes\"][\"genome\"].sort_values().to_csv(os.path.join(outdir, \"training_set_platyhelminthes.txt\"), sep=\"\\n\", index=False, header=False)\n",
    "train_set.head(5)"
   ]
  },
  {
   "cell_type": "markdown",
   "metadata": {},
   "source": [
    "For validation set, we'll pick the second best species from each criteria, based on previous criteria."
   ]
  },
  {
   "cell_type": "code",
   "execution_count": 24,
   "metadata": {},
   "outputs": [
    {
     "name": "stderr",
     "output_type": "stream",
     "text": [
      "/tmp/ipykernel_418822/3474900363.py:1: UserWarning: Boolean Series key will be reindexed to match DataFrame index.\n",
      "  valid_set = df.sort_values(\"C_an\", ascending=False)[~df[\"genome\"].isin(train_set[\"genome\"])].drop_duplicates(\"genus\")\n"
     ]
    },
    {
     "data": {
      "application/vnd.microsoft.datawrangler.viewer.v0+json": {
       "columns": [
        {
         "name": "index",
         "rawType": "int64",
         "type": "integer"
        },
        {
         "name": "genome",
         "rawType": "object",
         "type": "string"
        },
        {
         "name": "C_an",
         "rawType": "float64",
         "type": "float"
        },
        {
         "name": "D_an",
         "rawType": "float64",
         "type": "float"
        },
        {
         "name": "F_an",
         "rawType": "float64",
         "type": "float"
        },
        {
         "name": "M_an",
         "rawType": "float64",
         "type": "float"
        },
        {
         "name": "N_an",
         "rawType": "int64",
         "type": "integer"
        },
        {
         "name": "C_as",
         "rawType": "float64",
         "type": "float"
        },
        {
         "name": "D_as",
         "rawType": "float64",
         "type": "float"
        },
        {
         "name": "F_as",
         "rawType": "float64",
         "type": "float"
        },
        {
         "name": "M_as",
         "rawType": "float64",
         "type": "float"
        },
        {
         "name": "N_as",
         "rawType": "int64",
         "type": "integer"
        },
        {
         "name": "genus",
         "rawType": "object",
         "type": "string"
        },
        {
         "name": "phylum",
         "rawType": "object",
         "type": "string"
        }
       ],
       "conversionMethod": "pd.DataFrame",
       "ref": "9d227ba2-04cb-47bd-9a6e-da2035b63927",
       "rows": [
        [
         "207",
         "schmidtea_mediterranea_s2f19h1prjna885486",
         "86.2",
         "6.9",
         "1.6",
         "12.2",
         "978",
         "81.6",
         "3.2",
         "3.8",
         "14.6",
         "978",
         "schmidtea",
         "platyhelminthes"
        ],
        [
         "254",
         "trichobilharzia_regenti_prjeb44434",
         "83.4",
         "4.7",
         "4.4",
         "12.2",
         "978",
         "74.6",
         "3.4",
         "3.8",
         "21.6",
         "978",
         "trichobilharzia",
         "platyhelminthes"
        ],
        [
         "71",
         "echinococcus_granulosus_prjeb121",
         "81.3",
         "2.4",
         "5.3",
         "13.4",
         "978",
         "69.3",
         "1.2",
         "6.9",
         "23.8",
         "978",
         "echinococcus",
         "platyhelminthes"
        ],
        [
         "108",
         "hymenolepis_diminuta_prjeb30942",
         "80.5",
         "2.0",
         "4.2",
         "15.3",
         "978",
         "77.3",
         "1.2",
         "3.6",
         "19.1",
         "978",
         "hymenolepis",
         "platyhelminthes"
        ],
        [
         "118",
         "macrostomum_lignano_prjna284736",
         "79.6",
         "57.1",
         "4.6",
         "15.8",
         "978",
         "87.9",
         "69.3",
         "3.8",
         "8.3",
         "978",
         "macrostomum",
         "platyhelminthes"
        ]
       ],
       "shape": {
        "columns": 13,
        "rows": 5
       }
      },
      "text/html": [
       "<div>\n",
       "<style scoped>\n",
       "    .dataframe tbody tr th:only-of-type {\n",
       "        vertical-align: middle;\n",
       "    }\n",
       "\n",
       "    .dataframe tbody tr th {\n",
       "        vertical-align: top;\n",
       "    }\n",
       "\n",
       "    .dataframe thead th {\n",
       "        text-align: right;\n",
       "    }\n",
       "</style>\n",
       "<table border=\"1\" class=\"dataframe\">\n",
       "  <thead>\n",
       "    <tr style=\"text-align: right;\">\n",
       "      <th></th>\n",
       "      <th>genome</th>\n",
       "      <th>C_an</th>\n",
       "      <th>D_an</th>\n",
       "      <th>F_an</th>\n",
       "      <th>M_an</th>\n",
       "      <th>N_an</th>\n",
       "      <th>C_as</th>\n",
       "      <th>D_as</th>\n",
       "      <th>F_as</th>\n",
       "      <th>M_as</th>\n",
       "      <th>N_as</th>\n",
       "      <th>genus</th>\n",
       "      <th>phylum</th>\n",
       "    </tr>\n",
       "  </thead>\n",
       "  <tbody>\n",
       "    <tr>\n",
       "      <th>207</th>\n",
       "      <td>schmidtea_mediterranea_s2f19h1prjna885486</td>\n",
       "      <td>86.2</td>\n",
       "      <td>6.9</td>\n",
       "      <td>1.6</td>\n",
       "      <td>12.2</td>\n",
       "      <td>978</td>\n",
       "      <td>81.6</td>\n",
       "      <td>3.2</td>\n",
       "      <td>3.8</td>\n",
       "      <td>14.6</td>\n",
       "      <td>978</td>\n",
       "      <td>schmidtea</td>\n",
       "      <td>platyhelminthes</td>\n",
       "    </tr>\n",
       "    <tr>\n",
       "      <th>254</th>\n",
       "      <td>trichobilharzia_regenti_prjeb44434</td>\n",
       "      <td>83.4</td>\n",
       "      <td>4.7</td>\n",
       "      <td>4.4</td>\n",
       "      <td>12.2</td>\n",
       "      <td>978</td>\n",
       "      <td>74.6</td>\n",
       "      <td>3.4</td>\n",
       "      <td>3.8</td>\n",
       "      <td>21.6</td>\n",
       "      <td>978</td>\n",
       "      <td>trichobilharzia</td>\n",
       "      <td>platyhelminthes</td>\n",
       "    </tr>\n",
       "    <tr>\n",
       "      <th>71</th>\n",
       "      <td>echinococcus_granulosus_prjeb121</td>\n",
       "      <td>81.3</td>\n",
       "      <td>2.4</td>\n",
       "      <td>5.3</td>\n",
       "      <td>13.4</td>\n",
       "      <td>978</td>\n",
       "      <td>69.3</td>\n",
       "      <td>1.2</td>\n",
       "      <td>6.9</td>\n",
       "      <td>23.8</td>\n",
       "      <td>978</td>\n",
       "      <td>echinococcus</td>\n",
       "      <td>platyhelminthes</td>\n",
       "    </tr>\n",
       "    <tr>\n",
       "      <th>108</th>\n",
       "      <td>hymenolepis_diminuta_prjeb30942</td>\n",
       "      <td>80.5</td>\n",
       "      <td>2.0</td>\n",
       "      <td>4.2</td>\n",
       "      <td>15.3</td>\n",
       "      <td>978</td>\n",
       "      <td>77.3</td>\n",
       "      <td>1.2</td>\n",
       "      <td>3.6</td>\n",
       "      <td>19.1</td>\n",
       "      <td>978</td>\n",
       "      <td>hymenolepis</td>\n",
       "      <td>platyhelminthes</td>\n",
       "    </tr>\n",
       "    <tr>\n",
       "      <th>118</th>\n",
       "      <td>macrostomum_lignano_prjna284736</td>\n",
       "      <td>79.6</td>\n",
       "      <td>57.1</td>\n",
       "      <td>4.6</td>\n",
       "      <td>15.8</td>\n",
       "      <td>978</td>\n",
       "      <td>87.9</td>\n",
       "      <td>69.3</td>\n",
       "      <td>3.8</td>\n",
       "      <td>8.3</td>\n",
       "      <td>978</td>\n",
       "      <td>macrostomum</td>\n",
       "      <td>platyhelminthes</td>\n",
       "    </tr>\n",
       "  </tbody>\n",
       "</table>\n",
       "</div>"
      ],
      "text/plain": [
       "                                        genome  C_an  D_an  F_an  M_an  N_an  \\\n",
       "207  schmidtea_mediterranea_s2f19h1prjna885486  86.2   6.9   1.6  12.2   978   \n",
       "254         trichobilharzia_regenti_prjeb44434  83.4   4.7   4.4  12.2   978   \n",
       "71            echinococcus_granulosus_prjeb121  81.3   2.4   5.3  13.4   978   \n",
       "108            hymenolepis_diminuta_prjeb30942  80.5   2.0   4.2  15.3   978   \n",
       "118            macrostomum_lignano_prjna284736  79.6  57.1   4.6  15.8   978   \n",
       "\n",
       "     C_as  D_as  F_as  M_as  N_as            genus           phylum  \n",
       "207  81.6   3.2   3.8  14.6   978        schmidtea  platyhelminthes  \n",
       "254  74.6   3.4   3.8  21.6   978  trichobilharzia  platyhelminthes  \n",
       "71   69.3   1.2   6.9  23.8   978     echinococcus  platyhelminthes  \n",
       "108  77.3   1.2   3.6  19.1   978      hymenolepis  platyhelminthes  \n",
       "118  87.9  69.3   3.8   8.3   978      macrostomum  platyhelminthes  "
      ]
     },
     "execution_count": 24,
     "metadata": {},
     "output_type": "execute_result"
    }
   ],
   "source": [
    "valid_set = df.sort_values(\"C_an\", ascending=False)[~df[\"genome\"].isin(train_set[\"genome\"])].drop_duplicates(\"genus\")\n",
    "valid_set[valid_set[\"phylum\"] == \"nematoda\"][\"genome\"].sort_values().to_csv(os.path.join(outdir, \"validation_set_nematoda.txt\"), sep=\"\\n\", index=False, header=False)\n",
    "valid_set[valid_set[\"phylum\"] == \"platyhelminthes\"][\"genome\"].sort_values().to_csv(os.path.join(outdir, \"validation_set_platyhelminthes.txt\"), sep=\"\\n\", index=False, header=False)\n",
    "valid_set.head(5)"
   ]
  },
  {
   "cell_type": "code",
   "execution_count": 25,
   "metadata": {},
   "outputs": [
    {
     "name": "stdout",
     "output_type": "stream",
     "text": [
      "Total species:\t\t\t81\n",
      "Species in...\n",
      "\treannotation set:\t66\n",
      "\ttraining set:\t\t34\n",
      "\tvalidation set:\t\t17\n"
     ]
    }
   ],
   "source": [
    "print(\"Total species:\\t\\t\\t{}\".format(len(full_df)))\n",
    "print(\"Species in...\")\n",
    "print(\"\\treannotation set:\\t{}\".format(len(reann_set)))\n",
    "print(\"\\ttraining set:\\t\\t{}\".format(len(train_set)))\n",
    "print(\"\\tvalidation set:\\t\\t{}\".format(len(valid_set)))"
   ]
  }
 ],
 "metadata": {
  "kernelspec": {
   "display_name": ".venv",
   "language": "python",
   "name": "python3"
  },
  "language_info": {
   "codemirror_mode": {
    "name": "ipython",
    "version": 3
   },
   "file_extension": ".py",
   "mimetype": "text/x-python",
   "name": "python",
   "nbconvert_exporter": "python",
   "pygments_lexer": "ipython3",
   "version": "3.10.12"
  }
 },
 "nbformat": 4,
 "nbformat_minor": 2
}
