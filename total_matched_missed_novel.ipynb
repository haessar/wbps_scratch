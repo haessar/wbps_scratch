{
 "cells": [
  {
   "cell_type": "markdown",
   "metadata": {},
   "source": [
    "# Setup"
   ]
  },
  {
   "cell_type": "code",
   "execution_count": 42,
   "metadata": {},
   "outputs": [],
   "source": [
    "import os.path\n",
    "from collections import defaultdict\n",
    "import contextlib\n",
    "import json\n",
    "import statistics\n",
    "from collections import Counter\n",
    "from operator import itemgetter\n",
    "\n",
    "import matplotlib\n",
    "from matplotlib import pyplot as plt\n",
    "import numpy as np\n",
    "from tqdm import tqdm\n",
    "\n",
    "from orthologue_analysis.orthogroups import init_orthogroup_df\n",
    "from orthologue_analysis.species import HaemonchusFromTool, MansoniCladeFromTool, PristionchusFromTool, SpeciesList\n",
    "from orthologue_analysis.utils import SequenceIDMapping, orthofinder_paths\n",
    "from reannotation.analysis import (\n",
    "    interpro_accessions_frequently_missed_by_all_tools,\n",
    "    interpro_accessions_frequently_missed_by_each_tool,\n",
    "    interpro_accessions_in_novel_transcripts,\n",
    "    interpro_accessions_in_missed_transcripts,\n",
    "    missed_transcripts_with_significantly_more_frequent_accessions\n",
    ")\n",
    "from reannotation.constants import ASPARTIC_PEPTIDASE_SUPERFAMILY\n",
    "from reannotation.pipelines import (\n",
    "    interpro_accession_pipeline_all_tools,\n",
    "    interpro_accession_pipeline,\n",
    "    suspicious_orthologue_pipeline,\n",
    "    pickle_cache_suspicious_orthologue_pipeline,\n",
    "    novel_orthologue_pipeline\n",
    ")\n",
    "from reannotation.statistics import fisher_exact_for_two_lists_of_accessions, count_transcripts_with_accession\n",
    "from reannotation.utils import extract_accessions_from_transcript\n",
    "from utils.esm import extract_esm_means\n",
    "from utils.generic import flatten_nested_dict, flatten_list_to_set\n",
    "from utils.gffutils import init_db\n",
    "\n",
    "matplotlib.use(\"TkAgg\")\n",
    "\n",
    "mars_data_dir = os.path.join(\"data\", \"from_MARS\", \"\")\n",
    "ebi_data_dir = os.path.join(\"data\", \"from_EBI\", \"\")\n",
    "interproscan_dir = os.path.join(mars_data_dir, \"interproscan\", \"\")\n",
    "\n",
    "\n",
    "def breakdown_for_tool(tool_col):\n",
    "    return {\n",
    "    \"shared\": len(og_df[~og_df[wbps_col].isna() & ~og_df[tool_col].isna()][tool_col].str.split(\",\").explode().unique()),\n",
    "    \"missing\": len(og_df[~og_df[wbps_col].isna() & og_df[tool_col].isna()][wbps_col].str.split(\",\").explode().unique()),\n",
    "    \"novel\": len(og_df[og_df[wbps_col].isna() & ~og_df[tool_col].isna()][tool_col].str.split(\",\").explode().unique()) + \\\n",
    "                len(no_og_df[~no_og_df[tool_col].isna()])\n",
    "    }"
   ]
  },
  {
   "cell_type": "markdown",
   "metadata": {},
   "source": [
    "# S. mansoni"
   ]
  },
  {
   "cell_type": "code",
   "execution_count": 47,
   "metadata": {},
   "outputs": [
    {
     "name": "stdout",
     "output_type": "stream",
     "text": [
      "loading /home/will/wbp_scratch/data/from_MARS/OrthoFinder/WorkingDirectory/Results_Aug05/Blast0_1.txt...\n",
      "loading /home/will/wbp_scratch/data/from_MARS/OrthoFinder/WorkingDirectory/Results_Aug05/Blast0_2.txt...\n",
      "loading /home/will/wbp_scratch/data/from_MARS/OrthoFinder/WorkingDirectory/Results_Aug05/Blast0_3.txt...\n",
      "loading /home/will/wbp_scratch/data/from_MARS/OrthoFinder/WorkingDirectory/Results_Aug05/Blast0_2.txt...\n",
      "loading /home/will/wbp_scratch/data/from_MARS/OrthoFinder/WorkingDirectory/Results_Aug05/Blast0_3.txt...\n",
      "loading /home/will/wbp_scratch/data/from_MARS/OrthoFinder/WorkingDirectory/Results_Aug05/Blast0_1.txt...\n"
     ]
    }
   ],
   "source": [
    "results_label = \"Results_Aug05\"\n",
    "wbps_ann_path = \"data/from_WBPS/schistosoma_mansoni.PRJEA36577.WBPS19.annotations.gff3\"\n",
    "braker_path = \"data/from_MARS/Schistosoma_mansoni_braker3_full.gff3\"\n",
    "helixer_path = \"data/from_MARS/Schistosoma_mansoni_helixer_full.gff3\"\n",
    "anno_path = \"data/from_EBI/schistosoma_mansoni_gca000000000v1.gff3\"\n",
    "db = init_db(wbps_ann_path, \"db/Sman_wbps.db\")\n",
    "of = orthofinder_paths(results_label, subdir=\"Orthogroups\")\n",
    "\n",
    "wbps_col = \"Sman_LT\"\n",
    "braker_col = \"Sman_braker3_LT\"\n",
    "helixer_col = \"Sman_helixer_LT\"\n",
    "anno_col = \"Sman_anno_LT\"\n",
    "\n",
    "og_df = init_orthogroup_df(of[\"orthogroups\"])\n",
    "no_og_df = init_orthogroup_df(of[\"orthogroups_unassigned_genes\"])\n",
    "seq_id_map = SequenceIDMapping(of[\"wd\"])\n",
    "\n",
    "species_list = SpeciesList([\n",
    "    MansoniCladeFromTool(\"mansoni\", data_dir=mars_data_dir, data_label=\"Sman_LT\", prot_filename_suffix=\".fa\"),\n",
    "    MansoniCladeFromTool(\"mansoni_braker3_reann\", data_dir=mars_data_dir, data_label=\"Sman_braker3_LT\", prot_filename_suffix=\".fa\"),\n",
    "    MansoniCladeFromTool(\"mansoni_helixer_reann\", data_dir=mars_data_dir, data_label=\"Sman_helixer_LT\", prot_filename_suffix=\".fa\"),\n",
    "    MansoniCladeFromTool(\"mansoni_anno_reann\", data_dir=ebi_data_dir, data_label=\"Sman_anno_LT\", prot_filename_suffix=\".fa\")],\n",
    "    wd_path=of[\"wd\"],\n",
    "    load_blast=True\n",
    ")\n",
    "\n",
    "wbps_species = species_list.get_species_with_data_label(wbps_col)\n",
    "braker_species = species_list.get_species_with_data_label(braker_col)\n",
    "helixer_species = species_list.get_species_with_data_label(helixer_col)\n",
    "anno_species = species_list.get_species_with_data_label(anno_col)\n",
    "\n",
    "with open(\"data/acc_product.json\", \"r\") as f:\n",
    "    acc_product = json.loads(f.read())\n",
    "\n",
    "min_freq = 10\n",
    "\n",
    "interproscan_dir += \"sman\""
   ]
  },
  {
   "cell_type": "code",
   "execution_count": 48,
   "metadata": {},
   "outputs": [
    {
     "name": "stdout",
     "output_type": "stream",
     "text": [
      "Total protein-coding genes (transcripts have been filtered 1 per gene):\n",
      "WBPS: 9896\n",
      "BRAKER3: 9092\n",
      "Helixer: 9901\n",
      "Anno: 12798\n"
     ]
    }
   ],
   "source": [
    "print(\"Total protein-coding genes (transcripts have been filtered 1 per gene):\")\n",
    "total_wbps_genes = len([1 for line in open(wbps_species.prot_meta.file_path) if line.startswith(\">\")])\n",
    "print(f\"WBPS: {total_wbps_genes}\")\n",
    "total_braker_genes = len([1 for line in open(braker_species.prot_meta.file_path) if line.startswith(\">\")])\n",
    "print(f\"BRAKER3: {total_braker_genes}\")\n",
    "total_helixer_genes = len([1 for line in open(helixer_species.prot_meta.file_path) if line.startswith(\">\")])\n",
    "print(f\"Helixer: {total_helixer_genes}\")\n",
    "total_anno_genes = len([1 for line in open(anno_species.prot_meta.file_path) if line.startswith(\">\")])\n",
    "print(f\"Anno: {total_anno_genes}\")"
   ]
  },
  {
   "cell_type": "code",
   "execution_count": 49,
   "metadata": {},
   "outputs": [
    {
     "name": "stdout",
     "output_type": "stream",
     "text": [
      "BRAKER3: {'shared': 8584, 'missing': 760, 'novel': 508}\n",
      "Helixer: {'shared': 8737, 'missing': 767, 'novel': 1164}\n",
      "Anno: {'shared': 10078, 'missing': 527, 'novel': 2720}\n"
     ]
    }
   ],
   "source": [
    "assert breakdown_for_tool(braker_col)[\"shared\"] + breakdown_for_tool(braker_col)[\"novel\"] == total_braker_genes\n",
    "print(f\"BRAKER3: {breakdown_for_tool(braker_col)}\")\n",
    "assert breakdown_for_tool(helixer_col)[\"shared\"] + breakdown_for_tool(helixer_col)[\"novel\"] == total_helixer_genes\n",
    "print(f\"Helixer: {breakdown_for_tool(helixer_col)}\")\n",
    "assert breakdown_for_tool(anno_col)[\"shared\"] + breakdown_for_tool(anno_col)[\"novel\"] == total_anno_genes\n",
    "print(f\"Anno: {breakdown_for_tool(anno_col)}\")"
   ]
  },
  {
   "cell_type": "markdown",
   "metadata": {},
   "source": [
    "Shared as a % of total predicted"
   ]
  },
  {
   "cell_type": "code",
   "execution_count": 50,
   "metadata": {},
   "outputs": [
    {
     "name": "stdout",
     "output_type": "stream",
     "text": [
      "BRAKER3: 94.41%\n",
      "Helixer: 88.24%\n",
      "Anno: 78.75%\n"
     ]
    }
   ],
   "source": [
    "print(f\"BRAKER3: {round(100 * breakdown_for_tool(braker_col)['shared'] / total_braker_genes, 2)}%\")\n",
    "print(f\"Helixer: {round(100 * breakdown_for_tool(helixer_col)['shared'] / total_helixer_genes, 2)}%\")\n",
    "print(f\"Anno: {round(100 * breakdown_for_tool(anno_col)['shared'] / total_anno_genes, 2)}%\")"
   ]
  },
  {
   "cell_type": "markdown",
   "metadata": {},
   "source": [
    "Novel as a % of total predicted"
   ]
  },
  {
   "cell_type": "code",
   "execution_count": 51,
   "metadata": {},
   "outputs": [
    {
     "name": "stdout",
     "output_type": "stream",
     "text": [
      "BRAKER3: 5.59%\n",
      "Helixer: 11.76%\n",
      "Anno: 21.25%\n"
     ]
    }
   ],
   "source": [
    "print(f\"BRAKER3: {round(100 * breakdown_for_tool(braker_col)['novel'] / total_braker_genes, 2)}%\")\n",
    "print(f\"Helixer: {round(100 * breakdown_for_tool(helixer_col)['novel'] / total_helixer_genes, 2)}%\")\n",
    "print(f\"Anno: {round(100 * breakdown_for_tool(anno_col)['novel'] / total_anno_genes, 2)}%\")"
   ]
  },
  {
   "cell_type": "markdown",
   "metadata": {},
   "source": [
    "# H. contortus\n"
   ]
  },
  {
   "cell_type": "code",
   "execution_count": 52,
   "metadata": {},
   "outputs": [
    {
     "name": "stdout",
     "output_type": "stream",
     "text": [
      "loading /home/will/wbp_scratch/data/from_MARS/OrthoFinder/WorkingDirectory/Results_Aug08/Blast0_1.txt...\n",
      "loading /home/will/wbp_scratch/data/from_MARS/OrthoFinder/WorkingDirectory/Results_Aug08/Blast0_2.txt...\n",
      "loading /home/will/wbp_scratch/data/from_MARS/OrthoFinder/WorkingDirectory/Results_Aug08/Blast0_3.txt...\n",
      "loading /home/will/wbp_scratch/data/from_MARS/OrthoFinder/WorkingDirectory/Results_Aug08/Blast0_2.txt...\n",
      "loading /home/will/wbp_scratch/data/from_MARS/OrthoFinder/WorkingDirectory/Results_Aug08/Blast0_3.txt...\n",
      "loading /home/will/wbp_scratch/data/from_MARS/OrthoFinder/WorkingDirectory/Results_Aug08/Blast0_1.txt...\n"
     ]
    }
   ],
   "source": [
    "results_label = \"Results_Aug08\"\n",
    "wbps_ann_path = \"data/from_WBPS/haemonchus_contortus.PRJEB506.WBPS19.annotations.gff3\"\n",
    "braker_path = \"data/from_MARS/Haemonchus_contortus_braker3_full.gff3\"\n",
    "helixer_path = \"data/from_MARS/Haemonchus_contortus_helixer_full.gff3\"\n",
    "anno_path = \"data/from_EBI/haemonchus_contortus_gca000469685v2.gff3\"\n",
    "db = init_db(wbps_ann_path, \"db/Hcon_wbps.db\")\n",
    "of = orthofinder_paths(results_label, subdir=\"Orthogroups\")\n",
    "\n",
    "wbps_col = \"Hcon_LT\"\n",
    "braker_col = \"Hcon_braker3_LT\"\n",
    "helixer_col = \"Hcon_helixer_LT\"\n",
    "anno_col = \"Hcon_anno_LT\"\n",
    "\n",
    "og_df = init_orthogroup_df(of[\"orthogroups\"])\n",
    "no_og_df = init_orthogroup_df(of[\"orthogroups_unassigned_genes\"])\n",
    "seq_id_map = SequenceIDMapping(of[\"wd\"])\n",
    "\n",
    "species_list = SpeciesList([\n",
    "    HaemonchusFromTool(\"contortus\", data_dir=mars_data_dir, data_label=\"Hcon_LT\", prot_filename_suffix=\".fa\"),\n",
    "    HaemonchusFromTool(\"contortus_braker3_reann\", data_dir=mars_data_dir, data_label=\"Hcon_braker3_LT\", prot_filename_suffix=\".fa\"),\n",
    "    HaemonchusFromTool(\"contortus_helixer_reann\", data_dir=mars_data_dir, data_label=\"Hcon_helixer_LT\", prot_filename_suffix=\".fa\"),\n",
    "    HaemonchusFromTool(\"contortus_anno_reann\", data_dir=ebi_data_dir, data_label=\"Hcon_anno_LT\", prot_filename_suffix=\".fa\")],\n",
    "    wd_path=of[\"wd\"],\n",
    "    load_blast=True\n",
    ")\n",
    "\n",
    "wbps_species = species_list.get_species_with_data_label(wbps_col)\n",
    "braker_species = species_list.get_species_with_data_label(braker_col)\n",
    "helixer_species = species_list.get_species_with_data_label(helixer_col)\n",
    "anno_species = species_list.get_species_with_data_label(anno_col)"
   ]
  },
  {
   "cell_type": "code",
   "execution_count": 53,
   "metadata": {},
   "outputs": [
    {
     "name": "stdout",
     "output_type": "stream",
     "text": [
      "Total protein-coding genes (transcripts have been filtered 1 per gene):\n",
      "WBPS: 19621\n",
      "BRAKER3: 14476\n",
      "Helixer: 19153\n",
      "Anno: 20939\n"
     ]
    }
   ],
   "source": [
    "print(\"Total protein-coding genes (transcripts have been filtered 1 per gene):\")\n",
    "total_wbps_genes = len([1 for line in open(wbps_species.prot_meta.file_path) if line.startswith(\">\")])\n",
    "print(f\"WBPS: {total_wbps_genes}\")\n",
    "total_braker_genes = len([1 for line in open(braker_species.prot_meta.file_path) if line.startswith(\">\")])\n",
    "print(f\"BRAKER3: {total_braker_genes}\")\n",
    "total_helixer_genes = len([1 for line in open(helixer_species.prot_meta.file_path) if line.startswith(\">\")])\n",
    "print(f\"Helixer: {total_helixer_genes}\")\n",
    "total_anno_genes = len([1 for line in open(anno_species.prot_meta.file_path) if line.startswith(\">\")])\n",
    "print(f\"Anno: {total_anno_genes}\")"
   ]
  },
  {
   "cell_type": "code",
   "execution_count": 54,
   "metadata": {},
   "outputs": [
    {
     "name": "stdout",
     "output_type": "stream",
     "text": [
      "BRAKER3: {'shared': 13018, 'missing': 4548, 'novel': 1458}\n",
      "Helixer: {'shared': 15588, 'missing': 2307, 'novel': 3565}\n",
      "Anno: {'shared': 16022, 'missing': 2287, 'novel': 4917}\n"
     ]
    }
   ],
   "source": [
    "assert breakdown_for_tool(braker_col)[\"shared\"] + breakdown_for_tool(braker_col)[\"novel\"] == total_braker_genes\n",
    "print(f\"BRAKER3: {breakdown_for_tool(braker_col)}\")\n",
    "assert breakdown_for_tool(helixer_col)[\"shared\"] + breakdown_for_tool(helixer_col)[\"novel\"] == total_helixer_genes\n",
    "print(f\"Helixer: {breakdown_for_tool(helixer_col)}\")\n",
    "assert breakdown_for_tool(anno_col)[\"shared\"] + breakdown_for_tool(anno_col)[\"novel\"] == total_anno_genes\n",
    "print(f\"Anno: {breakdown_for_tool(anno_col)}\")"
   ]
  },
  {
   "cell_type": "markdown",
   "metadata": {},
   "source": [
    "Shared as a % of total predicted"
   ]
  },
  {
   "cell_type": "code",
   "execution_count": 55,
   "metadata": {},
   "outputs": [
    {
     "name": "stdout",
     "output_type": "stream",
     "text": [
      "BRAKER3: 89.93%\n",
      "Helixer: 81.39%\n",
      "Anno: 76.52%\n"
     ]
    }
   ],
   "source": [
    "print(f\"BRAKER3: {round(100 * breakdown_for_tool(braker_col)['shared'] / total_braker_genes, 2)}%\")\n",
    "print(f\"Helixer: {round(100 * breakdown_for_tool(helixer_col)['shared'] / total_helixer_genes, 2)}%\")\n",
    "print(f\"Anno: {round(100 * breakdown_for_tool(anno_col)['shared'] / total_anno_genes, 2)}%\")"
   ]
  },
  {
   "cell_type": "markdown",
   "metadata": {},
   "source": [
    "Novel as a % of total predicted"
   ]
  },
  {
   "cell_type": "code",
   "execution_count": 56,
   "metadata": {},
   "outputs": [
    {
     "name": "stdout",
     "output_type": "stream",
     "text": [
      "BRAKER3: 10.07%\n",
      "Helixer: 18.61%\n",
      "Anno: 23.48%\n"
     ]
    }
   ],
   "source": [
    "print(f\"BRAKER3: {round(100 * breakdown_for_tool(braker_col)['novel'] / total_braker_genes, 2)}%\")\n",
    "print(f\"Helixer: {round(100 * breakdown_for_tool(helixer_col)['novel'] / total_helixer_genes, 2)}%\")\n",
    "print(f\"Anno: {round(100 * breakdown_for_tool(anno_col)['novel'] / total_anno_genes, 2)}%\")"
   ]
  },
  {
   "cell_type": "markdown",
   "metadata": {},
   "source": [
    "# P. pacificus"
   ]
  },
  {
   "cell_type": "code",
   "execution_count": 57,
   "metadata": {},
   "outputs": [
    {
     "name": "stdout",
     "output_type": "stream",
     "text": [
      "loading /home/will/wbp_scratch/data/from_MARS/OrthoFinder/WorkingDirectory/Results_Aug21/Blast0_1.txt...\n",
      "loading /home/will/wbp_scratch/data/from_MARS/OrthoFinder/WorkingDirectory/Results_Aug21/Blast0_2.txt...\n",
      "loading /home/will/wbp_scratch/data/from_MARS/OrthoFinder/WorkingDirectory/Results_Aug21/Blast0_3.txt...\n",
      "loading /home/will/wbp_scratch/data/from_MARS/OrthoFinder/WorkingDirectory/Results_Aug21/Blast0_2.txt...\n",
      "loading /home/will/wbp_scratch/data/from_MARS/OrthoFinder/WorkingDirectory/Results_Aug21/Blast0_3.txt...\n",
      "loading /home/will/wbp_scratch/data/from_MARS/OrthoFinder/WorkingDirectory/Results_Aug21/Blast0_1.txt...\n"
     ]
    }
   ],
   "source": [
    "results_label = \"Results_Aug21\"\n",
    "wbps_ann_path = \"data/from_WBPS/pristionchus_pacificus.PRJNA12644.WBPS19.annotations.gff3\"\n",
    "braker_path = \"data/from_MARS/Pristionchus_pacificus_braker3_full.gff3\"\n",
    "helixer_path = \"data/from_MARS/Pristionchus_pacificus_helixer_full.gff3\"\n",
    "anno_path = \"data/from_EBI/pristionchus_pacificus_gca000180635v4.gff3\"\n",
    "db = init_db(wbps_ann_path, \"db/Ppac_wbps.db\")\n",
    "of = orthofinder_paths(results_label, subdir=\"Orthogroups\")\n",
    "\n",
    "wbps_col = \"Ppac_LT\"\n",
    "braker_col = \"Ppac_braker3_LT\"\n",
    "helixer_col = \"Ppac_helixer_LT\"\n",
    "anno_col = \"Ppac_anno_LT\"\n",
    "\n",
    "og_df = init_orthogroup_df(of[\"orthogroups\"])\n",
    "no_og_df = init_orthogroup_df(of[\"orthogroups_unassigned_genes\"])\n",
    "seq_id_map = SequenceIDMapping(of[\"wd\"])\n",
    "\n",
    "species_list = SpeciesList([\n",
    "    PristionchusFromTool(\"pacificus\", data_dir=mars_data_dir, data_label=\"Ppac_LT\", prot_filename_suffix=\".fa\"),\n",
    "    PristionchusFromTool(\"pacificus_braker3_reann\", data_dir=mars_data_dir, data_label=\"Ppac_braker3_LT\", prot_filename_suffix=\".fa\"),\n",
    "    PristionchusFromTool(\"pacificus_helixer_reann\", data_dir=mars_data_dir, data_label=\"Ppac_helixer_LT\", prot_filename_suffix=\".fa\"),\n",
    "    PristionchusFromTool(\"pacificus_anno_reann\", data_dir=ebi_data_dir, data_label=\"Ppac_anno_LT\", prot_filename_suffix=\".fa\")],\n",
    "    wd_path=of[\"wd\"],\n",
    "    load_blast=True\n",
    ")\n",
    "\n",
    "wbps_species = species_list.get_species_with_data_label(wbps_col)\n",
    "braker_species = species_list.get_species_with_data_label(braker_col)\n",
    "helixer_species = species_list.get_species_with_data_label(helixer_col)\n",
    "anno_species = species_list.get_species_with_data_label(anno_col)"
   ]
  },
  {
   "cell_type": "code",
   "execution_count": 58,
   "metadata": {},
   "outputs": [
    {
     "name": "stdout",
     "output_type": "stream",
     "text": [
      "Total protein-coding genes (transcripts have been filtered 1 per gene):\n",
      "WBPS: 26342\n",
      "BRAKER3: 24077\n",
      "Helixer: 32221\n",
      "Anno: 28283\n"
     ]
    }
   ],
   "source": [
    "print(\"Total protein-coding genes (transcripts have been filtered 1 per gene):\")\n",
    "total_wbps_genes = len([1 for line in open(wbps_species.prot_meta.file_path) if line.startswith(\">\")])\n",
    "print(f\"WBPS: {total_wbps_genes}\")\n",
    "total_braker_genes = len([1 for line in open(braker_species.prot_meta.file_path) if line.startswith(\">\")])\n",
    "print(f\"BRAKER3: {total_braker_genes}\")\n",
    "total_helixer_genes = len([1 for line in open(helixer_species.prot_meta.file_path) if line.startswith(\">\")])\n",
    "print(f\"Helixer: {total_helixer_genes}\")\n",
    "total_anno_genes = len([1 for line in open(anno_species.prot_meta.file_path) if line.startswith(\">\")])\n",
    "print(f\"Anno: {total_anno_genes}\")"
   ]
  },
  {
   "cell_type": "code",
   "execution_count": 59,
   "metadata": {},
   "outputs": [
    {
     "name": "stdout",
     "output_type": "stream",
     "text": [
      "BRAKER3: {'shared': 19278, 'missing': 4505, 'novel': 4799}\n",
      "Helixer: {'shared': 17702, 'missing': 5231, 'novel': 14519}\n",
      "Anno: {'shared': 21226, 'missing': 3584, 'novel': 7057}\n"
     ]
    }
   ],
   "source": [
    "assert breakdown_for_tool(braker_col)[\"shared\"] + breakdown_for_tool(braker_col)[\"novel\"] == total_braker_genes\n",
    "print(f\"BRAKER3: {breakdown_for_tool(braker_col)}\")\n",
    "assert breakdown_for_tool(helixer_col)[\"shared\"] + breakdown_for_tool(helixer_col)[\"novel\"] == total_helixer_genes\n",
    "print(f\"Helixer: {breakdown_for_tool(helixer_col)}\")\n",
    "assert breakdown_for_tool(anno_col)[\"shared\"] + breakdown_for_tool(anno_col)[\"novel\"] == total_anno_genes\n",
    "print(f\"Anno: {breakdown_for_tool(anno_col)}\")"
   ]
  },
  {
   "cell_type": "markdown",
   "metadata": {},
   "source": [
    "Shared as a % of total predicted"
   ]
  },
  {
   "cell_type": "code",
   "execution_count": 60,
   "metadata": {},
   "outputs": [
    {
     "name": "stdout",
     "output_type": "stream",
     "text": [
      "BRAKER3: 80.07%\n",
      "Helixer: 54.94%\n",
      "Anno: 75.05%\n"
     ]
    }
   ],
   "source": [
    "print(f\"BRAKER3: {round(100 * breakdown_for_tool(braker_col)['shared'] / total_braker_genes, 2)}%\")\n",
    "print(f\"Helixer: {round(100 * breakdown_for_tool(helixer_col)['shared'] / total_helixer_genes, 2)}%\")\n",
    "print(f\"Anno: {round(100 * breakdown_for_tool(anno_col)['shared'] / total_anno_genes, 2)}%\")"
   ]
  },
  {
   "cell_type": "markdown",
   "metadata": {},
   "source": [
    "Novel as a % of total predicted"
   ]
  },
  {
   "cell_type": "code",
   "execution_count": 61,
   "metadata": {},
   "outputs": [
    {
     "name": "stdout",
     "output_type": "stream",
     "text": [
      "BRAKER3: 19.93%\n",
      "Helixer: 45.06%\n",
      "Anno: 24.95%\n"
     ]
    }
   ],
   "source": [
    "print(f\"BRAKER3: {round(100 * breakdown_for_tool(braker_col)['novel'] / total_braker_genes, 2)}%\")\n",
    "print(f\"Helixer: {round(100 * breakdown_for_tool(helixer_col)['novel'] / total_helixer_genes, 2)}%\")\n",
    "print(f\"Anno: {round(100 * breakdown_for_tool(anno_col)['novel'] / total_anno_genes, 2)}%\")"
   ]
  }
 ],
 "metadata": {
  "kernelspec": {
   "display_name": ".venv",
   "language": "python",
   "name": "python3"
  },
  "language_info": {
   "codemirror_mode": {
    "name": "ipython",
    "version": 3
   },
   "file_extension": ".py",
   "mimetype": "text/x-python",
   "name": "python",
   "nbconvert_exporter": "python",
   "pygments_lexer": "ipython3",
   "version": "3.10.12"
  }
 },
 "nbformat": 4,
 "nbformat_minor": 2
}
